{
  "nbformat": 4,
  "nbformat_minor": 0,
  "metadata": {
    "kernelspec": {
      "display_name": "Python 3",
      "language": "python",
      "name": "python3"
    },
    "language_info": {
      "codemirror_mode": {
        "name": "ipython",
        "version": 3
      },
      "file_extension": ".py",
      "mimetype": "text/x-python",
      "name": "python",
      "nbconvert_exporter": "python",
      "pygments_lexer": "ipython3",
      "version": "3.6.7"
    },
    "colab": {
      "name": "03.BBC News Bi-LSTM.ipynb",
      "provenance": [],
      "collapsed_sections": [],
      "toc_visible": true
    }
  },
  "cells": [
    {
      "cell_type": "markdown",
      "metadata": {
        "id": "MOcKn9VW7xsA",
        "colab_type": "text"
      },
      "source": [
        "## Bi-Lstm Model for text classification :\n",
        "\n"
      ]
    },
    {
      "cell_type": "code",
      "metadata": {
        "id": "OCVjfiOO8Pi-",
        "colab_type": "code",
        "colab": {
          "base_uri": "https://localhost:8080/",
          "height": 70
        },
        "outputId": "351048bd-e71a-47a7-e6ef-ca21df348b40"
      },
      "source": [
        "import nltk\n",
        "nltk.download('stopwords')"
      ],
      "execution_count": 1,
      "outputs": [
        {
          "output_type": "stream",
          "text": [
            "[nltk_data] Downloading package stopwords to /root/nltk_data...\n",
            "[nltk_data]   Package stopwords is already up-to-date!\n"
          ],
          "name": "stdout"
        },
        {
          "output_type": "execute_result",
          "data": {
            "text/plain": [
              "True"
            ]
          },
          "metadata": {
            "tags": []
          },
          "execution_count": 1
        }
      ]
    },
    {
      "cell_type": "code",
      "metadata": {
        "id": "rtN4c1Zi7vLR",
        "colab_type": "code",
        "colab": {}
      },
      "source": [
        "import csv\n",
        "import tensorflow as tf\n",
        "import numpy as np\n",
        "from tensorflow.keras.preprocessing.text import Tokenizer\n",
        "from tensorflow.keras.preprocessing.sequence import pad_sequences\n",
        "from nltk.corpus import stopwords\n",
        "STOPWORDS = set(stopwords.words('english'))"
      ],
      "execution_count": 0,
      "outputs": []
    },
    {
      "cell_type": "markdown",
      "metadata": {
        "id": "7Zu19jyY7vLY",
        "colab_type": "text"
      },
      "source": [
        "Put the hyparameters at the top like this to make it easier to change and edit."
      ]
    },
    {
      "cell_type": "code",
      "metadata": {
        "id": "X1TDfln17vLa",
        "colab_type": "code",
        "colab": {}
      },
      "source": [
        "vocab_size = 5000\n",
        "embedding_dim = 64\n",
        "max_length = 200\n",
        "trunc_type = 'post'\n",
        "padding_type = 'post'\n",
        "oov_tok = '<OOV>'\n",
        "training_portion = .8"
      ],
      "execution_count": 0,
      "outputs": []
    },
    {
      "cell_type": "markdown",
      "metadata": {
        "id": "mKmZ2lqY7vLg",
        "colab_type": "text"
      },
      "source": [
        "First, let's define two lists that containing articles and labels. In the meantime, we remove stopwords."
      ]
    },
    {
      "cell_type": "code",
      "metadata": {
        "id": "TYa1JAaY7vLg",
        "colab_type": "code",
        "colab": {
          "base_uri": "https://localhost:8080/",
          "height": 52
        },
        "outputId": "e8d2e690-d7e7-47c0-84d0-9e15d7931b1a"
      },
      "source": [
        "articles = []\n",
        "labels = []\n",
        "\n",
        "with open(\"/content/drive/My Drive/bbc-text.csv\", 'r') as csvfile:\n",
        "    reader = csv.reader(csvfile, delimiter=',')\n",
        "    next(reader)\n",
        "    for row in reader:\n",
        "        labels.append(row[0])\n",
        "        article = row[1]\n",
        "        for word in STOPWORDS:\n",
        "            token = ' ' + word + ' '\n",
        "            article = article.replace(token, ' ')\n",
        "            article = article.replace(' ', ' ')\n",
        "        articles.append(article)\n",
        "print(len(labels))\n",
        "print(len(articles))"
      ],
      "execution_count": 4,
      "outputs": [
        {
          "output_type": "stream",
          "text": [
            "2225\n",
            "2225\n"
          ],
          "name": "stdout"
        }
      ]
    },
    {
      "cell_type": "markdown",
      "metadata": {
        "id": "oz9UKUX_7vLj",
        "colab_type": "text"
      },
      "source": [
        "There are only 2,225 articles in the data. Then we split into training set and validation set, according to the parameter we set earlier, 80% for training, 20% for validation."
      ]
    },
    {
      "cell_type": "code",
      "metadata": {
        "id": "3BYp3mYk7vLk",
        "colab_type": "code",
        "colab": {
          "base_uri": "https://localhost:8080/",
          "height": 106
        },
        "outputId": "7e738aa3-863f-430e-e7fe-b5024f87694f"
      },
      "source": [
        "train_size = int(len(articles) * training_portion)\n",
        "\n",
        "train_articles = articles[0: train_size]\n",
        "train_labels = labels[0: train_size]\n",
        "\n",
        "validation_articles = articles[train_size:]\n",
        "validation_labels = labels[train_size:]\n",
        "\n",
        "print(train_size)\n",
        "print(len(train_articles))\n",
        "print(len(train_labels))\n",
        "print(len(validation_articles))\n",
        "print(len(validation_labels))"
      ],
      "execution_count": 5,
      "outputs": [
        {
          "output_type": "stream",
          "text": [
            "1780\n",
            "1780\n",
            "1780\n",
            "445\n",
            "445\n"
          ],
          "name": "stdout"
        }
      ]
    },
    {
      "cell_type": "markdown",
      "metadata": {
        "id": "U53q5Fi87vLn",
        "colab_type": "text"
      },
      "source": [
        "Tokenizer does all the heavy lifting for us. In our articles that it was tokenizing, it will take 5,000 most common words. oov_token is to put a special value in when an unseen word is encountered. This means I want \"OOV\" in bracket to be used to for words that are not in the word index. \"fit_on_text\" will go through all the text and create dictionary like this:"
      ]
    },
    {
      "cell_type": "code",
      "metadata": {
        "id": "p63K4A3R7vLn",
        "colab_type": "code",
        "colab": {}
      },
      "source": [
        "tokenizer = Tokenizer(num_words = vocab_size, oov_token=oov_tok)\n",
        "tokenizer.fit_on_texts(train_articles)\n",
        "word_index = tokenizer.word_index"
      ],
      "execution_count": 0,
      "outputs": []
    },
    {
      "cell_type": "markdown",
      "metadata": {
        "id": "GRSJno4U7vLq",
        "colab_type": "text"
      },
      "source": [
        "You can see that \"OOV\" in bracket is number 1, \"said\" is number 2, \"mr\" is number 3, and so on."
      ]
    },
    {
      "cell_type": "code",
      "metadata": {
        "scrolled": false,
        "id": "Vz3YqTig7vLr",
        "colab_type": "code",
        "colab": {
          "base_uri": "https://localhost:8080/",
          "height": 195
        },
        "outputId": "35d5f728-ea8f-444f-f06b-b0927bdf5191"
      },
      "source": [
        "dict(list(word_index.items())[0:10])"
      ],
      "execution_count": 7,
      "outputs": [
        {
          "output_type": "execute_result",
          "data": {
            "text/plain": [
              "{'<OOV>': 1,\n",
              " 'also': 6,\n",
              " 'mr': 3,\n",
              " 'new': 8,\n",
              " 'one': 10,\n",
              " 'people': 7,\n",
              " 'said': 2,\n",
              " 'us': 9,\n",
              " 'would': 4,\n",
              " 'year': 5}"
            ]
          },
          "metadata": {
            "tags": []
          },
          "execution_count": 7
        }
      ]
    },
    {
      "cell_type": "markdown",
      "metadata": {
        "id": "LcJaXnuH7vLu",
        "colab_type": "text"
      },
      "source": [
        "This process cleans up our text, lowercase, and remove punctuations."
      ]
    },
    {
      "cell_type": "markdown",
      "metadata": {
        "id": "ilaqn-VX7vLv",
        "colab_type": "text"
      },
      "source": [
        "After tokenization, the next step is to turn thoes tokens into lists of sequence."
      ]
    },
    {
      "cell_type": "code",
      "metadata": {
        "id": "0ElSbDYJ7vLw",
        "colab_type": "code",
        "colab": {}
      },
      "source": [
        "train_sequences = tokenizer.texts_to_sequences(train_articles)"
      ],
      "execution_count": 0,
      "outputs": []
    },
    {
      "cell_type": "markdown",
      "metadata": {
        "id": "TdbXNi0Z7vLy",
        "colab_type": "text"
      },
      "source": [
        "This is the 11th article in the training data that has been turned into sequences."
      ]
    },
    {
      "cell_type": "code",
      "metadata": {
        "scrolled": false,
        "id": "k3vnKfKT7vLz",
        "colab_type": "code",
        "colab": {
          "base_uri": "https://localhost:8080/",
          "height": 55
        },
        "outputId": "691ae147-a3fe-41af-8e7e-0295b6d2917f"
      },
      "source": [
        "print(train_sequences[10])"
      ],
      "execution_count": 9,
      "outputs": [
        {
          "output_type": "stream",
          "text": [
            "[2432, 1, 225, 4996, 22, 641, 586, 225, 4996, 1, 1, 1662, 1, 1, 2432, 22, 564, 1, 1, 140, 278, 1, 140, 278, 796, 822, 662, 2308, 1, 1145, 1693, 1, 1721, 4997, 1, 1, 1, 1, 1, 4739, 1, 1, 122, 4515, 1, 2, 2875, 1505, 352, 4740, 1, 52, 341, 1, 352, 2172, 3962, 41, 22, 3795, 1, 1, 1, 1, 542, 1, 1, 1, 835, 631, 2367, 347, 4741, 1, 365, 22, 1, 787, 2368, 1, 4302, 138, 10, 1, 3663, 682, 3531, 1, 22, 1, 414, 822, 662, 1, 90, 13, 633, 1, 225, 4996, 1, 598, 1, 1693, 1021, 1, 4998, 807, 1864, 117, 1, 1, 1, 2975, 22, 1, 99, 278, 1, 1606, 4999, 542, 492, 1, 1443, 4742, 778, 1320, 1, 1861, 10, 33, 641, 319, 1, 62, 478, 564, 301, 1506, 22, 479, 1, 1, 1665, 1, 797, 1, 3067, 1, 1364, 6, 1, 2432, 564, 22, 2972, 4736, 1, 1, 1, 1, 1, 850, 39, 1825, 675, 297, 26, 979, 1, 882, 22, 361, 22, 13, 301, 1506, 1342, 374, 20, 63, 883, 1096, 4303, 247]\n"
          ],
          "name": "stdout"
        }
      ]
    },
    {
      "cell_type": "markdown",
      "metadata": {
        "id": "NMvU_lnG7vL1",
        "colab_type": "text"
      },
      "source": [
        "When we train neural networks for NLP, we need sequences to be in the same size, that's why we use padding. Our max_length is 200, so we use pad_sequences to make all of our articles the same length which is 200 in my example. That's why you see that the 1st article was 426 in length, becomes 200, the 2nd article was 192 in length, becomes 200, and so on."
      ]
    },
    {
      "cell_type": "code",
      "metadata": {
        "id": "tsGWNobI7vL2",
        "colab_type": "code",
        "colab": {}
      },
      "source": [
        "train_padded = pad_sequences(train_sequences, maxlen=max_length, padding=padding_type, truncating=trunc_type)"
      ],
      "execution_count": 0,
      "outputs": []
    },
    {
      "cell_type": "code",
      "metadata": {
        "id": "man8p9hz7vL4",
        "colab_type": "code",
        "colab": {
          "base_uri": "https://localhost:8080/",
          "height": 124
        },
        "outputId": "38e73645-cb7b-4253-d2ae-49f38f0e8c1d"
      },
      "source": [
        "print(len(train_sequences[0]))\n",
        "print(len(train_padded[0]))\n",
        "\n",
        "print(len(train_sequences[1]))\n",
        "print(len(train_padded[1]))\n",
        "\n",
        "print(len(train_sequences[10]))\n",
        "print(len(train_padded[10]))"
      ],
      "execution_count": 11,
      "outputs": [
        {
          "output_type": "stream",
          "text": [
            "425\n",
            "200\n",
            "192\n",
            "200\n",
            "186\n",
            "200\n"
          ],
          "name": "stdout"
        }
      ]
    },
    {
      "cell_type": "markdown",
      "metadata": {
        "id": "gY532M-J7vL7",
        "colab_type": "text"
      },
      "source": [
        "In addtion, there is padding type and truncating type, there are all \"post\". Means for example, for the 11th article, it was 186 in length, we padded to 200, and we padded at the end, add 14 zeros."
      ]
    },
    {
      "cell_type": "code",
      "metadata": {
        "id": "tpo7-6eU7vL7",
        "colab_type": "code",
        "colab": {
          "base_uri": "https://localhost:8080/",
          "height": 55
        },
        "outputId": "bb99d5dd-74e3-4678-ad2a-6d717d912a42"
      },
      "source": [
        "print(train_sequences[10])"
      ],
      "execution_count": 12,
      "outputs": [
        {
          "output_type": "stream",
          "text": [
            "[2432, 1, 225, 4996, 22, 641, 586, 225, 4996, 1, 1, 1662, 1, 1, 2432, 22, 564, 1, 1, 140, 278, 1, 140, 278, 796, 822, 662, 2308, 1, 1145, 1693, 1, 1721, 4997, 1, 1, 1, 1, 1, 4739, 1, 1, 122, 4515, 1, 2, 2875, 1505, 352, 4740, 1, 52, 341, 1, 352, 2172, 3962, 41, 22, 3795, 1, 1, 1, 1, 542, 1, 1, 1, 835, 631, 2367, 347, 4741, 1, 365, 22, 1, 787, 2368, 1, 4302, 138, 10, 1, 3663, 682, 3531, 1, 22, 1, 414, 822, 662, 1, 90, 13, 633, 1, 225, 4996, 1, 598, 1, 1693, 1021, 1, 4998, 807, 1864, 117, 1, 1, 1, 2975, 22, 1, 99, 278, 1, 1606, 4999, 542, 492, 1, 1443, 4742, 778, 1320, 1, 1861, 10, 33, 641, 319, 1, 62, 478, 564, 301, 1506, 22, 479, 1, 1, 1665, 1, 797, 1, 3067, 1, 1364, 6, 1, 2432, 564, 22, 2972, 4736, 1, 1, 1, 1, 1, 850, 39, 1825, 675, 297, 26, 979, 1, 882, 22, 361, 22, 13, 301, 1506, 1342, 374, 20, 63, 883, 1096, 4303, 247]\n"
          ],
          "name": "stdout"
        }
      ]
    },
    {
      "cell_type": "code",
      "metadata": {
        "id": "Gr-vwTdw7vL_",
        "colab_type": "code",
        "colab": {
          "base_uri": "https://localhost:8080/",
          "height": 284
        },
        "outputId": "20562563-631d-4736-feac-d6b974195a1d"
      },
      "source": [
        "print(train_padded[10])"
      ],
      "execution_count": 13,
      "outputs": [
        {
          "output_type": "stream",
          "text": [
            "[2432    1  225 4996   22  641  586  225 4996    1    1 1662    1    1\n",
            " 2432   22  564    1    1  140  278    1  140  278  796  822  662 2308\n",
            "    1 1145 1693    1 1721 4997    1    1    1    1    1 4739    1    1\n",
            "  122 4515    1    2 2875 1505  352 4740    1   52  341    1  352 2172\n",
            " 3962   41   22 3795    1    1    1    1  542    1    1    1  835  631\n",
            " 2367  347 4741    1  365   22    1  787 2368    1 4302  138   10    1\n",
            " 3663  682 3531    1   22    1  414  822  662    1   90   13  633    1\n",
            "  225 4996    1  598    1 1693 1021    1 4998  807 1864  117    1    1\n",
            "    1 2975   22    1   99  278    1 1606 4999  542  492    1 1443 4742\n",
            "  778 1320    1 1861   10   33  641  319    1   62  478  564  301 1506\n",
            "   22  479    1    1 1665    1  797    1 3067    1 1364    6    1 2432\n",
            "  564   22 2972 4736    1    1    1    1    1  850   39 1825  675  297\n",
            "   26  979    1  882   22  361   22   13  301 1506 1342  374   20   63\n",
            "  883 1096 4303  247    0    0    0    0    0    0    0    0    0    0\n",
            "    0    0    0    0]\n"
          ],
          "name": "stdout"
        }
      ]
    },
    {
      "cell_type": "markdown",
      "metadata": {
        "id": "YmYCtxjC7vMN",
        "colab_type": "text"
      },
      "source": [
        "And for the 1st article, it was 426 in length, we truncated to 200, and we truncated at the end."
      ]
    },
    {
      "cell_type": "code",
      "metadata": {
        "id": "poPHGsWP7vMO",
        "colab_type": "code",
        "colab": {
          "base_uri": "https://localhost:8080/",
          "height": 55
        },
        "outputId": "d354192e-2d0a-4d32-be40-8ba0e29990e3"
      },
      "source": [
        "print(train_sequences[0])"
      ],
      "execution_count": 14,
      "outputs": [
        {
          "output_type": "stream",
          "text": [
            "[91, 160, 1142, 1106, 49, 979, 755, 1, 89, 1304, 4289, 129, 175, 3652, 1214, 1195, 1576, 42, 7, 893, 91, 1, 334, 85, 20, 14, 130, 3262, 1215, 2422, 569, 451, 1375, 58, 3378, 3521, 1660, 8, 921, 730, 10, 844, 1, 9, 597, 1577, 1107, 395, 1940, 1106, 731, 49, 537, 1397, 2011, 1621, 134, 249, 113, 2356, 795, 4981, 980, 583, 10, 3957, 3958, 921, 2564, 129, 344, 175, 3652, 1, 1, 39, 62, 2868, 28, 9, 4724, 18, 1305, 136, 416, 7, 143, 1422, 71, 4502, 436, 4982, 91, 1107, 77, 1, 82, 2012, 53, 1, 91, 6, 1008, 609, 89, 1304, 91, 1964, 131, 137, 420, 9, 2869, 38, 152, 1234, 89, 1304, 4725, 7, 436, 4982, 3154, 6, 2493, 1, 431, 1127, 1, 1423, 570, 1235, 1902, 1, 766, 9, 537, 1397, 2011, 134, 2069, 400, 845, 1965, 1599, 34, 1717, 2870, 1, 1, 2423, 244, 9, 2626, 82, 732, 6, 1173, 1196, 152, 720, 590, 1, 124, 28, 1305, 1689, 432, 83, 933, 115, 20, 14, 18, 3155, 1, 37, 1483, 1, 23, 37, 87, 335, 2357, 37, 467, 255, 1965, 1358, 328, 1, 299, 732, 1174, 18, 2871, 1717, 1, 294, 756, 1074, 395, 2013, 387, 431, 2013, 2, 1359, 1, 1717, 2166, 67, 1, 1, 1718, 249, 1661, 3060, 1175, 395, 41, 878, 246, 2794, 345, 53, 547, 400, 2, 1, 1, 655, 1360, 202, 91, 3959, 91, 90, 42, 7, 320, 395, 77, 893, 1, 91, 1106, 400, 537, 9, 845, 2423, 11, 38, 1, 995, 513, 483, 2070, 160, 571, 1, 128, 7, 320, 77, 893, 1216, 1127, 1462, 346, 54, 2214, 1217, 741, 92, 256, 274, 1019, 71, 623, 346, 2424, 756, 1215, 2358, 1719, 1, 3783, 3522, 1, 1127, 2013, 177, 371, 1398, 77, 53, 547, 105, 1142, 3, 1, 1047, 93, 2963, 1, 2627, 1, 102, 902, 440, 452, 2, 3, 1, 2872, 451, 1424, 43, 77, 429, 31, 8, 1019, 921, 1, 2564, 30, 1, 91, 1690, 879, 89, 1304, 91, 1964, 1, 30, 8, 1622, 1, 1, 4290, 1578, 4289, 656, 1, 3784, 1008, 571, 4291, 2868, 10, 880, 656, 58, 1, 1262, 1, 1, 91, 1552, 934, 4724, 1, 577, 4106, 10, 9, 235, 2011, 91, 134, 1, 95, 656, 3263, 1, 58, 519, 673, 2628, 3784, 4983, 3379, 483, 4726, 39, 4502, 1, 91, 1748, 673, 269, 116, 239, 2629, 354, 644, 58, 4107, 757, 3653, 4724, 146, 1, 400, 7, 71, 1749, 1107, 767, 910, 118, 583, 3380, 1316, 1577, 1, 1600, 7, 893, 77, 77]\n"
          ],
          "name": "stdout"
        }
      ]
    },
    {
      "cell_type": "code",
      "metadata": {
        "id": "assGrRbQ7vMY",
        "colab_type": "code",
        "colab": {
          "base_uri": "https://localhost:8080/",
          "height": 284
        },
        "outputId": "df9d70b8-8863-4583-d3cd-612b9a6e33ca"
      },
      "source": [
        "print(train_padded[0])"
      ],
      "execution_count": 15,
      "outputs": [
        {
          "output_type": "stream",
          "text": [
            "[  91  160 1142 1106   49  979  755    1   89 1304 4289  129  175 3652\n",
            " 1214 1195 1576   42    7  893   91    1  334   85   20   14  130 3262\n",
            " 1215 2422  569  451 1375   58 3378 3521 1660    8  921  730   10  844\n",
            "    1    9  597 1577 1107  395 1940 1106  731   49  537 1397 2011 1621\n",
            "  134  249  113 2356  795 4981  980  583   10 3957 3958  921 2564  129\n",
            "  344  175 3652    1    1   39   62 2868   28    9 4724   18 1305  136\n",
            "  416    7  143 1422   71 4502  436 4982   91 1107   77    1   82 2012\n",
            "   53    1   91    6 1008  609   89 1304   91 1964  131  137  420    9\n",
            " 2869   38  152 1234   89 1304 4725    7  436 4982 3154    6 2493    1\n",
            "  431 1127    1 1423  570 1235 1902    1  766    9  537 1397 2011  134\n",
            " 2069  400  845 1965 1599   34 1717 2870    1    1 2423  244    9 2626\n",
            "   82  732    6 1173 1196  152  720  590    1  124   28 1305 1689  432\n",
            "   83  933  115   20   14   18 3155    1   37 1483    1   23   37   87\n",
            "  335 2357   37  467  255 1965 1358  328    1  299  732 1174   18 2871\n",
            " 1717    1  294  756]\n"
          ],
          "name": "stdout"
        }
      ]
    },
    {
      "cell_type": "markdown",
      "metadata": {
        "id": "3VRCXlas7vMf",
        "colab_type": "text"
      },
      "source": [
        "Then we do the same for the validation sequences. Note that we should expect more out of vocabulary words from validation articles because word index were derived from the training articles."
      ]
    },
    {
      "cell_type": "code",
      "metadata": {
        "id": "RxV-VbQ97vMh",
        "colab_type": "code",
        "colab": {
          "base_uri": "https://localhost:8080/",
          "height": 52
        },
        "outputId": "2fec58e7-5262-4f8c-f142-ed2d105eee5e"
      },
      "source": [
        "validation_sequences = tokenizer.texts_to_sequences(validation_articles)\n",
        "validation_padded = pad_sequences(validation_sequences, maxlen=max_length, padding=padding_type, truncating=trunc_type)\n",
        "\n",
        "print(len(validation_sequences))\n",
        "print(validation_padded.shape)"
      ],
      "execution_count": 16,
      "outputs": [
        {
          "output_type": "stream",
          "text": [
            "445\n",
            "(445, 200)\n"
          ],
          "name": "stdout"
        }
      ]
    },
    {
      "cell_type": "markdown",
      "metadata": {
        "id": "a62baQ7K7vMl",
        "colab_type": "text"
      },
      "source": [
        "Now we are going to look at the labels. because our labels are text, so we will tokenize them, when training, labels are expected to be numpy arrays. So we will turn list of labels into numpy arrays like so:"
      ]
    },
    {
      "cell_type": "code",
      "metadata": {
        "id": "LGm3kTH_7vMl",
        "colab_type": "code",
        "colab": {
          "base_uri": "https://localhost:8080/",
          "height": 35
        },
        "outputId": "06ecca63-f60c-4829-cb27-5c15dfd361f4"
      },
      "source": [
        "print(set(labels))"
      ],
      "execution_count": 17,
      "outputs": [
        {
          "output_type": "stream",
          "text": [
            "{'politics', 'sport', 'entertainment', 'tech', 'business'}\n"
          ],
          "name": "stdout"
        }
      ]
    },
    {
      "cell_type": "code",
      "metadata": {
        "id": "Y1V7BHja7vMn",
        "colab_type": "code",
        "colab": {}
      },
      "source": [
        "label_tokenizer = Tokenizer()\n",
        "label_tokenizer.fit_on_texts(labels)\n",
        "\n",
        "training_label_seq = np.array(label_tokenizer.texts_to_sequences(train_labels))\n",
        "validation_label_seq = np.array(label_tokenizer.texts_to_sequences(validation_labels))"
      ],
      "execution_count": 0,
      "outputs": []
    },
    {
      "cell_type": "code",
      "metadata": {
        "id": "75mpOb9L7vMq",
        "colab_type": "code",
        "colab": {
          "base_uri": "https://localhost:8080/",
          "height": 159
        },
        "outputId": "d5983b04-e0ef-4b1f-858b-b5086940e658"
      },
      "source": [
        "print(training_label_seq[0])\n",
        "print(training_label_seq[1])\n",
        "print(training_label_seq[2])\n",
        "print(training_label_seq.shape)\n",
        "\n",
        "print(validation_label_seq[0])\n",
        "print(validation_label_seq[1])\n",
        "print(validation_label_seq[2])\n",
        "print(validation_label_seq.shape)"
      ],
      "execution_count": 19,
      "outputs": [
        {
          "output_type": "stream",
          "text": [
            "[4]\n",
            "[2]\n",
            "[1]\n",
            "(1780, 1)\n",
            "[5]\n",
            "[4]\n",
            "[3]\n",
            "(445, 1)\n"
          ],
          "name": "stdout"
        }
      ]
    },
    {
      "cell_type": "markdown",
      "metadata": {
        "id": "R43On5FD7vMs",
        "colab_type": "text"
      },
      "source": [
        "Before training deep neural network, we want to explore what our original article and article after padding look like. Running the following code, we explore the 11th article, we can see that some words become \"OOV\", because they did not make to the top 5,000."
      ]
    },
    {
      "cell_type": "code",
      "metadata": {
        "id": "0OlVlAQ67vMs",
        "colab_type": "code",
        "colab": {
          "base_uri": "https://localhost:8080/",
          "height": 90
        },
        "outputId": "1b550ccf-e3b1-421e-bf82-9383bb7b98ff"
      },
      "source": [
        "reverse_word_index = dict([(value, key) for (key, value) in word_index.items()])\n",
        "\n",
        "def decode_article(text):\n",
        "    return ' '.join([reverse_word_index.get(i, '?') for i in text])\n",
        "print(decode_article(train_padded[10]))\n",
        "print('---')\n",
        "print(train_articles[10])"
      ],
      "execution_count": 20,
      "outputs": [
        {
          "output_type": "stream",
          "text": [
            "berlin <OOV> anti nazi film german movie anti nazi <OOV> <OOV> drawn <OOV> <OOV> berlin film festival <OOV> <OOV> final days <OOV> final days member white rose movement <OOV> 21 arrested <OOV> brother hans <OOV> <OOV> <OOV> <OOV> <OOV> tyranny <OOV> <OOV> director marc <OOV> said feeling responsibility keep legacy <OOV> going must <OOV> keep ideas alive added film drew <OOV> <OOV> <OOV> <OOV> trial <OOV> <OOV> <OOV> east germany secret police discovery <OOV> behind film <OOV> worked closely <OOV> relatives including one <OOV> sisters ensure historical <OOV> film <OOV> members white rose <OOV> group first started <OOV> anti nazi <OOV> summer <OOV> arrested dropped <OOV> munich university calling day <OOV> <OOV> <OOV> regime film <OOV> six days <OOV> arrest intense trial saw <OOV> initially deny charges ended <OOV> appearance one three german films <OOV> top prize festival south african film version <OOV> <OOV> opera <OOV> shot <OOV> town <OOV> language also <OOV> berlin festival film entitled u <OOV> <OOV> <OOV> <OOV> <OOV> story set performed 40 strong music theatre <OOV> debut film performance film first south african feature 25 years second nominated golden bear award ? ? ? ? ? ? ? ? ? ? ? ? ? ?\n",
            "---\n",
            "berlin cheers anti-nazi film german movie anti-nazi resistance heroine drawn loud applause berlin film festival.  sophie scholl - final days portrays final days member white rose movement. scholl  21  arrested beheaded brother  hans  1943 distributing leaflets condemning  abhorrent tyranny  adolf hitler. director marc rothemund said:  feeling responsibility keep legacy scholls going.   must somehow keep ideas alive   added.  film drew transcripts gestapo interrogations scholl trial preserved archive communist east germany secret police. discovery inspiration behind film rothemund  worked closely surviving relatives  including one scholl sisters  ensure historical accuracy film. scholl members white rose resistance group first started distributing anti-nazi leaflets summer 1942. arrested dropped leaflets munich university calling  day reckoning  adolf hitler regime. film focuses six days scholl arrest intense trial saw scholl initially deny charges ended defiant appearance. one three german films vying top prize festival.  south african film version bizet tragic opera carmen shot cape town xhosa language also premiered berlin festival. film entitled u-carmen ekhayelitsha carmen khayelitsha township story set. performed 40-strong music theatre troupe debut film performance. film first south african feature 25 years second nominated golden bear award.\n"
          ],
          "name": "stdout"
        }
      ]
    },
    {
      "cell_type": "markdown",
      "metadata": {
        "id": "9IBtNcu-7vMu",
        "colab_type": "text"
      },
      "source": [
        "Now we can implement LSTM. Here is my code that I build a tf.keras.Sequential model and start with an embedding layer. An embedding layer stores one vector per word. When called, it converts the sequences of word indices into sequences of vectors. After training, words with similar meanings often have the similar vectors.\n",
        "\n",
        "Next is how to implement LSTM in code. The Bidirectional wrapper is used with a LSTM layer, this propagates the input forwards and backwards through the LSTM layer and then concatenates the outputs. This helps LSTM to learn long term dependencies. We then fit it to a dense neural network to do classification.\n",
        "\n",
        "This index-lookup is much more efficient than the equivalent operation of passing a one-hot encoded vector through a tf.keras.layers.Dense layer."
      ]
    },
    {
      "cell_type": "code",
      "metadata": {
        "id": "E3kWQE907vMv",
        "colab_type": "code",
        "colab": {
          "base_uri": "https://localhost:8080/",
          "height": 337
        },
        "outputId": "35c91945-8bd9-4706-a181-0d94e6b6efe9"
      },
      "source": [
        "model = tf.keras.Sequential([\n",
        "    # Add an Embedding layer expecting input vocab of size 5000, and output embedding dimension of size 64 we set at the top\n",
        "    tf.keras.layers.Embedding(vocab_size, embedding_dim),\n",
        "    tf.keras.layers.Dropout(.2),\n",
        "    tf.keras.layers.Bidirectional(tf.keras.layers.LSTM(embedding_dim)),\n",
        "#    tf.keras.layers.Bidirectional(tf.keras.layers.LSTM(32)),\n",
        "    # use ReLU in place of tanh function since they are very good alternatives of each other.\n",
        "    tf.keras.layers.Dense(embedding_dim, activation='relu'),\n",
        "    # Add a Dense layer with 6 units and softmax activation.\n",
        "    # When we have multiple outputs, softmax convert outputs layers into a probability distribution.\n",
        "    tf.keras.layers.Dense(6, activation='softmax')\n",
        "])\n",
        "model.summary()"
      ],
      "execution_count": 21,
      "outputs": [
        {
          "output_type": "stream",
          "text": [
            "Model: \"sequential\"\n",
            "_________________________________________________________________\n",
            "Layer (type)                 Output Shape              Param #   \n",
            "=================================================================\n",
            "embedding (Embedding)        (None, None, 64)          320000    \n",
            "_________________________________________________________________\n",
            "dropout (Dropout)            (None, None, 64)          0         \n",
            "_________________________________________________________________\n",
            "bidirectional (Bidirectional (None, 128)               66048     \n",
            "_________________________________________________________________\n",
            "dense (Dense)                (None, 64)                8256      \n",
            "_________________________________________________________________\n",
            "dense_1 (Dense)              (None, 6)                 390       \n",
            "=================================================================\n",
            "Total params: 394,694\n",
            "Trainable params: 394,694\n",
            "Non-trainable params: 0\n",
            "_________________________________________________________________\n"
          ],
          "name": "stdout"
        }
      ]
    },
    {
      "cell_type": "markdown",
      "metadata": {
        "id": "fTf4vX747vMx",
        "colab_type": "text"
      },
      "source": [
        "In our model summay, we have our embeddings, our Bidirectional contains LSTM, followed by two dense layers. The output from Bidirectional is 128, because it doubled what we put in LSTM. We can also stack LSTM layer but I found the results worse."
      ]
    },
    {
      "cell_type": "code",
      "metadata": {
        "id": "7ZQBqYFy7vMy",
        "colab_type": "code",
        "colab": {}
      },
      "source": [
        "model.compile(loss='sparse_categorical_crossentropy', optimizer='adam', metrics=['accuracy'])"
      ],
      "execution_count": 0,
      "outputs": []
    },
    {
      "cell_type": "code",
      "metadata": {
        "id": "mrh4G2nE7vM2",
        "colab_type": "code",
        "colab": {
          "base_uri": "https://localhost:8080/",
          "height": 372
        },
        "outputId": "c966a1a6-194a-4880-94d5-6c9cd87c2a8c"
      },
      "source": [
        "callback = tf.keras.callbacks.EarlyStopping(monitor='loss', patience=3)\n",
        "\n",
        "num_epochs = 10\n",
        "history = model.fit(train_padded, training_label_seq, epochs=num_epochs, validation_data=(validation_padded, validation_label_seq), verbose=2,callbacks=[callback])"
      ],
      "execution_count": 23,
      "outputs": [
        {
          "output_type": "stream",
          "text": [
            "Epoch 1/10\n",
            "56/56 - 12s - loss: 1.5730 - accuracy: 0.3157 - val_loss: 1.2372 - val_accuracy: 0.4629\n",
            "Epoch 2/10\n",
            "56/56 - 11s - loss: 0.9059 - accuracy: 0.6522 - val_loss: 0.6565 - val_accuracy: 0.8157\n",
            "Epoch 3/10\n",
            "56/56 - 11s - loss: 0.3702 - accuracy: 0.8876 - val_loss: 0.5236 - val_accuracy: 0.8315\n",
            "Epoch 4/10\n",
            "56/56 - 11s - loss: 0.2198 - accuracy: 0.9371 - val_loss: 0.4470 - val_accuracy: 0.8629\n",
            "Epoch 5/10\n",
            "56/56 - 11s - loss: 0.1097 - accuracy: 0.9680 - val_loss: 0.3235 - val_accuracy: 0.9079\n",
            "Epoch 6/10\n",
            "56/56 - 11s - loss: 0.0466 - accuracy: 0.9876 - val_loss: 0.3326 - val_accuracy: 0.9124\n",
            "Epoch 7/10\n",
            "56/56 - 11s - loss: 0.0230 - accuracy: 0.9938 - val_loss: 0.2516 - val_accuracy: 0.9303\n",
            "Epoch 8/10\n",
            "56/56 - 11s - loss: 0.0120 - accuracy: 0.9972 - val_loss: 0.2833 - val_accuracy: 0.9258\n",
            "Epoch 9/10\n",
            "56/56 - 11s - loss: 0.0039 - accuracy: 1.0000 - val_loss: 0.2517 - val_accuracy: 0.9348\n",
            "Epoch 10/10\n",
            "56/56 - 11s - loss: 0.0021 - accuracy: 1.0000 - val_loss: 0.2599 - val_accuracy: 0.9326\n"
          ],
          "name": "stdout"
        }
      ]
    },
    {
      "cell_type": "code",
      "metadata": {
        "id": "b1svrwlZ7vM5",
        "colab_type": "code",
        "colab": {
          "base_uri": "https://localhost:8080/",
          "height": 541
        },
        "outputId": "09104bd9-0235-41ca-a7ee-434994d9d925"
      },
      "source": [
        "import matplotlib.pyplot as plt\n",
        "\n",
        "def plot_graphs(history, string):\n",
        "  plt.plot(history.history[string])\n",
        "  plt.plot(history.history['val_'+string])\n",
        "  plt.xlabel(\"Epochs\")\n",
        "  plt.ylabel(string)\n",
        "  plt.legend([string, 'val_'+string])\n",
        "  plt.show()\n",
        "  \n",
        "plot_graphs(history, \"accuracy\")\n",
        "plot_graphs(history, \"loss\")"
      ],
      "execution_count": 25,
      "outputs": [
        {
          "output_type": "display_data",
          "data": {
            "image/png": "[encoded data removed]",
            "text/plain": [
              "<Figure size 432x288 with 1 Axes>"
            ]
          },
          "metadata": {
            "tags": [],
            "needs_background": "light"
          }
        },
        {
          "output_type": "display_data",
          "data": {
            "image/png": "[encoded data removed]",
            "text/plain": [
              "<Figure size 432x288 with 1 Axes>"
            ]
          },
          "metadata": {
            "tags": [],
            "needs_background": "light"
          }
        }
      ]
    },
    {
      "cell_type": "markdown",
      "metadata": {
        "id": "QIW8Kb2g-PcD",
        "colab_type": "text"
      },
      "source": [
        "## Model Evaluation:"
      ]
    },
    {
      "cell_type": "code",
      "metadata": {
        "id": "wN461Ccf-XNC",
        "colab_type": "code",
        "colab": {
          "base_uri": "https://localhost:8080/",
          "height": 52
        },
        "outputId": "0a518c60-dd8d-4586-ff8b-1cc0cfeb27b4"
      },
      "source": [
        "y_pred = model.predict_classes(validation_padded)\n",
        "\n",
        "from sklearn.metrics import accuracy_score\n",
        "\n",
        "#Accuracy comparison\n",
        "print(f\"Test accuracy :{accuracy_score(validation_label_seq,y_pred)}\")\n",
        "print(f\"Train accuracy :{accuracy_score(training_label_seq,model.predict_classes(train_padded))}\")"
      ],
      "execution_count": 30,
      "outputs": [
        {
          "output_type": "stream",
          "text": [
            "Test accuracy :0.9325842696629213\n",
            "Train accuracy :1.0\n"
          ],
          "name": "stdout"
        }
      ]
    },
    {
      "cell_type": "code",
      "metadata": {
        "id": "NV0fZwWG-Zrh",
        "colab_type": "code",
        "colab": {
          "base_uri": "https://localhost:8080/",
          "height": 320
        },
        "outputId": "410ad562-102f-44f2-af4e-0cc67a7f4485"
      },
      "source": [
        "import seaborn as sns\n",
        "from sklearn.metrics import classification_report,confusion_matrix\n",
        "\n",
        "cm = confusion_matrix(validation_label_seq,y_pred)\n",
        "sns.heatmap(cm,cbar=False,cmap='YlGnBu',annot=True);"
      ],
      "execution_count": 32,
      "outputs": [
        {
          "output_type": "stream",
          "text": [
            "/usr/local/lib/python3.6/dist-packages/statsmodels/tools/_testing.py:19: FutureWarning: pandas.util.testing is deprecated. Use the functions in the public API at pandas.testing instead.\n",
            "  import pandas.util.testing as tm\n"
          ],
          "name": "stderr"
        },
        {
          "output_type": "display_data",
          "data": {
            "image/png": "[encoded data removed]",
            "text/plain": [
              "<Figure size 432x288 with 1 Axes>"
            ]
          },
          "metadata": {
            "tags": [],
            "needs_background": "light"
          }
        }
      ]
    },
    {
      "cell_type": "code",
      "metadata": {
        "id": "DWC_ymrn-fLv",
        "colab_type": "code",
        "colab": {
          "base_uri": "https://localhost:8080/",
          "height": 230
        },
        "outputId": "df5e3eb6-9958-4777-ce4c-9213ecdb7912"
      },
      "source": [
        "print(f\"{classification_report(validation_label_seq,y_pred)} \")"
      ],
      "execution_count": 36,
      "outputs": [
        {
          "output_type": "stream",
          "text": [
            "              precision    recall  f1-score   support\n",
            "\n",
            "           1       0.98      0.98      0.98       101\n",
            "           2       0.87      0.96      0.91       106\n",
            "           3       0.96      0.91      0.93        86\n",
            "           4       0.96      0.93      0.95        86\n",
            "           5       0.89      0.85      0.87        66\n",
            "\n",
            "    accuracy                           0.93       445\n",
            "   macro avg       0.93      0.93      0.93       445\n",
            "weighted avg       0.93      0.93      0.93       445\n",
            " \n"
          ],
          "name": "stdout"
        }
      ]
    },
    {
      "cell_type": "code",
      "metadata": {
        "id": "wuMnuczw7vM-",
        "colab_type": "code",
        "colab": {
          "base_uri": "https://localhost:8080/",
          "height": 35
        },
        "outputId": "5d3207c1-b2b7-4428-fea4-ecf288c48986"
      },
      "source": [
        "txt = [\"A WeWork shareholder has taken the company to court over the near-$1.7bn (£1.3bn) leaving package approved for ousted co-founder Adam Neumann.\"]\n",
        "seq = tokenizer.texts_to_sequences(txt)\n",
        "padded = pad_sequences(seq, maxlen=max_length)\n",
        "pred = model.predict(padded)\n",
        "labels = ['sport', 'bussiness', 'politics', 'tech', 'entertainment']\n",
        "print(pred, labels[np.argmax(pred)])"
      ],
      "execution_count": 37,
      "outputs": [
        {
          "output_type": "stream",
          "text": [
            "[[0.00072006 0.35416228 0.43705508 0.0020258  0.00151966 0.20451707]] politics\n"
          ],
          "name": "stdout"
        }
      ]
    },
    {
      "cell_type": "code",
      "metadata": {
        "id": "8Z31WJNLBUiX",
        "colab_type": "code",
        "colab": {
          "base_uri": "https://localhost:8080/",
          "height": 52
        },
        "outputId": "f83f6291-60c4-4426-abe6-528d05d32c68"
      },
      "source": [
        ""
      ],
      "execution_count": 46,
      "outputs": [
        {
          "output_type": "execute_result",
          "data": {
            "text/plain": [
              "array([[0.00072006, 0.35416228, 0.43705508, 0.0020258 , 0.00151966,\n",
              "        0.20451707]], dtype=float32)"
            ]
          },
          "metadata": {
            "tags": []
          },
          "execution_count": 46
        }
      ]
    },
    {
      "cell_type": "code",
      "metadata": {
        "id": "A0xRYaurAB27",
        "colab_type": "code",
        "colab": {}
      },
      "source": [
        "import pandas as pd\n",
        "\n",
        "def predict_label(txt):\n",
        "  seq = tokenizer.texts_to_sequences(txt)\n",
        "  padded = pad_sequences(seq, maxlen=max_length)\n",
        "  pred = model.predict(padded)[0]\n",
        "  labels = ['sport', 'bussiness', 'politics', 'tech', 'entertainment']\n",
        "  print(f\"Predicted Label {labels[np.argmax(pred)]} and probability {round(float(max(pred)),2)} \")\n",
        "  dic = {lab:value for lab,value in zip(labels,pred)}\n",
        "  pd.Series(dic).plot.barh(color='salmon');"
      ],
      "execution_count": 0,
      "outputs": []
    },
    {
      "cell_type": "code",
      "metadata": {
        "id": "71goHH6dAoEi",
        "colab_type": "code",
        "colab": {
          "base_uri": "https://localhost:8080/",
          "height": 283
        },
        "outputId": "cf2b22cb-ac2d-4886-9658-ffcc697f13cf"
      },
      "source": [
        "predict_label(txt)"
      ],
      "execution_count": 93,
      "outputs": [
        {
          "output_type": "stream",
          "text": [
            "Predicted Label politics and probability 0.44 \n"
          ],
          "name": "stdout"
        },
        {
          "output_type": "display_data",
          "data": {
            "image/png": "[encoded data removed]",
            "text/plain": [
              "<Figure size 432x288 with 1 Axes>"
            ]
          },
          "metadata": {
            "tags": [],
            "needs_background": "light"
          }
        }
      ]
    }
  ]
}