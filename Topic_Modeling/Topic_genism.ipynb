{
 "cells": [
  {
   "cell_type": "markdown",
   "metadata": {},
   "source": [
    "## Topic Modeling with Gensim Library\n",
    "\n",
    "Topic Modeling is a technique to extract the hidden topics from large volumes of text. **Latent Dirichlet Allocation(LDA)** is a popular algorithm for topic modeling which can be implemented in the Python with the help of Gensim and traditional Sklearn packages. I'll be using gensim package for extract topics for this notebook"
   ]
  },
  {
   "cell_type": "code",
   "execution_count": 2,
   "metadata": {},
   "outputs": [
    {
     "name": "stderr",
     "output_type": "stream",
     "text": [
      "C:\\Users\\ragul\\Anaconda3\\lib\\site-packages\\statsmodels\\tools\\_testing.py:19: FutureWarning: pandas.util.testing is deprecated. Use the functions in the public API at pandas.testing instead.\n",
      "  import pandas.util.testing as tm\n"
     ]
    }
   ],
   "source": [
    "#Importing req libraries\n",
    "import pandas as pd\n",
    "import numpy as np\n",
    "\n",
    "#plotting tools\n",
    "import matplotlib.pyplot as plt\n",
    "import seaborn as sns\n",
    "%matplotlib inline\n",
    "\n",
    "#To Ignore Warnings\n",
    "import warnings\n",
    "warnings.filterwarnings(\"ignore\",category=DeprecationWarning)\n",
    "\n",
    "#Setting theme style\n",
    "plt.style.use('fivethirtyeight')"
   ]
  },
  {
   "cell_type": "code",
   "execution_count": 3,
   "metadata": {},
   "outputs": [],
   "source": [
    "#NLTK for basic NLP techniques\n",
    "import nltk \n",
    "\n",
    "#For lemmatization\n",
    "import spacy"
   ]
  },
  {
   "cell_type": "markdown",
   "metadata": {},
   "source": [
    "Now ,we have imported libraries which can be used for data preprocessing.We should import modules that can be used for topic modeling and viz purposes"
   ]
  },
  {
   "cell_type": "code",
   "execution_count": 4,
   "metadata": {},
   "outputs": [],
   "source": [
    "#Genism\n",
    "import gensim\n",
    "\n",
    "#To create tokens and their ID's\n",
    "import gensim\n",
    "from gensim.corpora import dictionary\n",
    "from gensim.utils import simple_preprocess\n",
    "from gensim.models import coherencemodel\n",
    "\n",
    "\n",
    "#PLotting for Topics\n",
    "import pyLDAvis\n",
    "from pyLDAvis import gensim"
   ]
  },
  {
   "cell_type": "markdown",
   "metadata": {},
   "source": [
    "LDA considers each *documents as a collection of topics ,and each Topic as a collection of Keywords*\n",
    "\n",
    "When i say Topic,It means ,Topic is nothing but a **collection of Keywords**.Just by Looking at Keywords we could identify the topic even for a large amount of Documents\n",
    "\n",
    "The followings are key factors to obtain Good Quality of Topics:\n",
    "\n",
    "\n",
    "   `\n",
    "   1.Text processing Quality\n",
    "   2.Choice of model\n",
    "   3.chice of #of Topics choosen \n",
    "   4.Tuning Parmeters`"
   ]
  },
  {
   "cell_type": "markdown",
   "metadata": {},
   "source": [
    "#### Let's import the famous newsgroup file for this modelling\n"
   ]
  },
  {
   "cell_type": "code",
   "execution_count": 5,
   "metadata": {},
   "outputs": [
    {
     "data": {
      "text/html": [
       "<div>\n",
       "<style scoped>\n",
       "    .dataframe tbody tr th:only-of-type {\n",
       "        vertical-align: middle;\n",
       "    }\n",
       "\n",
       "    .dataframe tbody tr th {\n",
       "        vertical-align: top;\n",
       "    }\n",
       "\n",
       "    .dataframe thead th {\n",
       "        text-align: right;\n",
       "    }\n",
       "</style>\n",
       "<table border=\"1\" class=\"dataframe\">\n",
       "  <thead>\n",
       "    <tr style=\"text-align: right;\">\n",
       "      <th></th>\n",
       "      <th>content</th>\n",
       "      <th>target</th>\n",
       "      <th>target_names</th>\n",
       "    </tr>\n",
       "  </thead>\n",
       "  <tbody>\n",
       "    <tr>\n",
       "      <th>0</th>\n",
       "      <td>From: lerxst@wam.umd.edu (where's my thing)\\nS...</td>\n",
       "      <td>7</td>\n",
       "      <td>rec.autos</td>\n",
       "    </tr>\n",
       "    <tr>\n",
       "      <th>1</th>\n",
       "      <td>From: guykuo@carson.u.washington.edu (Guy Kuo)...</td>\n",
       "      <td>4</td>\n",
       "      <td>comp.sys.mac.hardware</td>\n",
       "    </tr>\n",
       "    <tr>\n",
       "      <th>2</th>\n",
       "      <td>From: twillis@ec.ecn.purdue.edu (Thomas E Will...</td>\n",
       "      <td>4</td>\n",
       "      <td>comp.sys.mac.hardware</td>\n",
       "    </tr>\n",
       "    <tr>\n",
       "      <th>3</th>\n",
       "      <td>From: jgreen@amber (Joe Green)\\nSubject: Re: W...</td>\n",
       "      <td>1</td>\n",
       "      <td>comp.graphics</td>\n",
       "    </tr>\n",
       "    <tr>\n",
       "      <th>4</th>\n",
       "      <td>From: jcm@head-cfa.harvard.edu (Jonathan McDow...</td>\n",
       "      <td>14</td>\n",
       "      <td>sci.space</td>\n",
       "    </tr>\n",
       "  </tbody>\n",
       "</table>\n",
       "</div>"
      ],
      "text/plain": [
       "                                             content  target  \\\n",
       "0  From: lerxst@wam.umd.edu (where's my thing)\\nS...       7   \n",
       "1  From: guykuo@carson.u.washington.edu (Guy Kuo)...       4   \n",
       "2  From: twillis@ec.ecn.purdue.edu (Thomas E Will...       4   \n",
       "3  From: jgreen@amber (Joe Green)\\nSubject: Re: W...       1   \n",
       "4  From: jcm@head-cfa.harvard.edu (Jonathan McDow...      14   \n",
       "\n",
       "            target_names  \n",
       "0              rec.autos  \n",
       "1  comp.sys.mac.hardware  \n",
       "2  comp.sys.mac.hardware  \n",
       "3          comp.graphics  \n",
       "4              sci.space  "
      ]
     },
     "execution_count": 5,
     "metadata": {},
     "output_type": "execute_result"
    }
   ],
   "source": [
    "#since it's a json i used pandas json method to read the file\n",
    "doc = pd.read_json('https://raw.githubusercontent.com/selva86/datasets/master/newsgroups.json')\n",
    "\n",
    "#let's take a glance\n",
    "doc.head()"
   ]
  },
  {
   "cell_type": "markdown",
   "metadata": {},
   "source": [
    "#### Let's do some Basic EDA"
   ]
  },
  {
   "cell_type": "code",
   "execution_count": 6,
   "metadata": {},
   "outputs": [
    {
     "name": "stdout",
     "output_type": "stream",
     "text": [
      "Shape of the docs : (11314, 3)\n"
     ]
    }
   ],
   "source": [
    "#Length of the docs\n",
    "print(f\"Shape of the docs : {doc.shape}\")"
   ]
  },
  {
   "cell_type": "code",
   "execution_count": 7,
   "metadata": {},
   "outputs": [
    {
     "name": "stdout",
     "output_type": "stream",
     "text": [
      "No of Documents        : 11314\n",
      "No of Features/columns  : 3\n",
      "\n",
      "No of topics 20\n"
     ]
    }
   ],
   "source": [
    "print(f\"No of Documents        : {doc.shape[0]}\")\n",
    "print(f\"No of Features/columns  : {doc.shape[1]}\")\n",
    "print(f\"\\nNo of topics {doc.target.nunique()}\")"
   ]
  },
  {
   "cell_type": "code",
   "execution_count": 8,
   "metadata": {},
   "outputs": [
    {
     "data": {
      "text/plain": [
       "rec.sport.hockey            600\n",
       "soc.religion.christian      599\n",
       "rec.motorcycles             598\n",
       "rec.sport.baseball          597\n",
       "sci.crypt                   595\n",
       "rec.autos                   594\n",
       "sci.med                     594\n",
       "sci.space                   593\n",
       "comp.windows.x              593\n",
       "sci.electronics             591\n",
       "comp.os.ms-windows.misc     591\n",
       "comp.sys.ibm.pc.hardware    590\n",
       "misc.forsale                585\n",
       "comp.graphics               584\n",
       "comp.sys.mac.hardware       578\n",
       "talk.politics.mideast       564\n",
       "talk.politics.guns          546\n",
       "alt.atheism                 480\n",
       "talk.politics.misc          465\n",
       "talk.religion.misc          377\n",
       "Name: target_names, dtype: int64"
      ]
     },
     "execution_count": 8,
     "metadata": {},
     "output_type": "execute_result"
    }
   ],
   "source": [
    "#Distribution of topics\n",
    "doc.target_names.value_counts()"
   ]
  },
  {
   "cell_type": "code",
   "execution_count": 9,
   "metadata": {},
   "outputs": [
    {
     "data": {
      "image/png": "[encoded data removed]",
      "text/plain": [
       "<Figure size 720x720 with 1 Axes>"
      ]
     },
     "metadata": {
      "needs_background": "light"
     },
     "output_type": "display_data"
    }
   ],
   "source": [
    "#Visualise above methods\n",
    "#Frequency of the target names\n",
    "plt.figure(figsize=(10,10))\n",
    "sns.countplot(y=doc.target_names)\n",
    "\n",
    "#if you wanna rotate xlabels use below code unless you need it\n",
    "#rotate xlabels to 45degree\n",
    "plt.xticks(rotation='vertical');"
   ]
  },
  {
   "cell_type": "code",
   "execution_count": 10,
   "metadata": {},
   "outputs": [
    {
     "name": "stdout",
     "output_type": "stream",
     "text": [
      "NO    0 Topic alt.atheism\n",
      "NO    1 Topic comp.graphics\n",
      "NO    2 Topic comp.os.ms-windows.misc\n",
      "NO    3 Topic comp.sys.ibm.pc.hardware\n",
      "NO    4 Topic comp.sys.mac.hardware\n",
      "NO    5 Topic comp.windows.x\n",
      "NO    6 Topic misc.forsale\n",
      "NO    7 Topic rec.autos\n",
      "NO    8 Topic rec.motorcycles\n",
      "NO    9 Topic rec.sport.baseball\n",
      "NO   10 Topic rec.sport.hockey\n",
      "NO   11 Topic sci.crypt\n",
      "NO   12 Topic sci.electronics\n",
      "NO   13 Topic sci.med\n",
      "NO   14 Topic sci.space\n",
      "NO   15 Topic soc.religion.christian\n",
      "NO   16 Topic talk.politics.guns\n",
      "NO   17 Topic talk.politics.mideast\n",
      "NO   18 Topic talk.politics.misc\n",
      "NO   19 Topic talk.religion.misc\n"
     ]
    }
   ],
   "source": [
    "#lets see what topics assigened to which numbers\n",
    "for no,topic in sorted(zip(doc.target.unique(),doc.target_names.unique())):\n",
    "    print(f\"NO {no:{4}} Topic {topic}\")"
   ]
  },
  {
   "cell_type": "markdown",
   "metadata": {},
   "source": [
    "### Cleansing and Improving Quality of the text\n",
    "\n",
    "we'll do one of the important steps that can be used all of the NLP tasks which improves the quality of the documents.\n",
    "Those tasks such**Text cleansing tasks such as Removing Noise,Removing stopwords and punctuations,contracting words into original forms,eliminating rare words etc..**\n",
    "\n",
    "Let's get rid of them using Regex module"
   ]
  },
  {
   "cell_type": "code",
   "execution_count": 12,
   "metadata": {},
   "outputs": [
    {
     "name": "stderr",
     "output_type": "stream",
     "text": [
      "<>:8: DeprecationWarning: invalid escape sequence \\S\n",
      "<>:11: DeprecationWarning: invalid escape sequence \\s\n",
      "<>:8: DeprecationWarning: invalid escape sequence \\S\n",
      "<>:11: DeprecationWarning: invalid escape sequence \\s\n",
      "<>:8: DeprecationWarning: invalid escape sequence \\S\n",
      "<>:11: DeprecationWarning: invalid escape sequence \\s\n",
      "<ipython-input-12-1bf9694b34ce>:8: DeprecationWarning: invalid escape sequence \\S\n",
      "  data = [re.sub('\\S*@S*\\s?',' ',sent) for sent in data]\n",
      "<ipython-input-12-1bf9694b34ce>:11: DeprecationWarning: invalid escape sequence \\s\n",
      "  data = [re.sub('\\s+',' ',sent) for sent in data]\n"
     ]
    },
    {
     "data": {
      "text/plain": [
       "'From: carson.u.washington.edu (Guy Kuo) Subject: SI Clock Poll - Final Call Summary: Final call for SI clock reports Keywords: SI,acceleration,clock,upgrade Article-I.D.: shelley.1qvfo9INNc3s Organization: University of Washington Lines: 11 NNTP-Posting-Host: carson.u.washington.edu A fair number of brave souls who upgraded their SI clock oscillator have shared their experiences for this poll. Please send a brief message detailing your experiences with the procedure. Top speed attained, CPU rated speed, add on cards and adapters, heat sinks, hour of usage per day, floppy disk functionality with 800 and 1.4 m floppies are especially requested. I will be summarizing in the next two days, so please add to the network knowledge base if you have done the clock upgrade and haven t answered this poll. Thanks. Guy Kuo u.washington.edu> '"
      ]
     },
     "execution_count": 12,
     "metadata": {},
     "output_type": "execute_result"
    }
   ],
   "source": [
    "#import re package\n",
    "import re\n",
    "\n",
    "#convert it into list\n",
    "data = doc.content.tolist()\n",
    "\n",
    "#removing emails\n",
    "data = [re.sub('\\S*@S*\\s?',' ',sent) for sent in data]\n",
    "\n",
    "# removing new line characters\n",
    "data = [re.sub('\\s+',' ',sent) for sent in data]\n",
    "\n",
    "#removing single Quotes\n",
    "data = [re.sub(\"\\'\",' ',sent) for sent in data]\n",
    "\n",
    "#Ensuring it worked\n",
    "data[1]"
   ]
  },
  {
   "cell_type": "markdown",
   "metadata": {},
   "source": [
    "Even though removing emails and extra spaces from text it looks still messy.Let's further analyse and cleanse the docs."
   ]
  },
  {
   "cell_type": "markdown",
   "metadata": {},
   "source": [
    "##### Tokenise and cleanse the docs\n",
    "\n",
    "Let’s tokenize each sentence into a list of words, removing punctuations and unnecessary characters altogether"
   ]
  },
  {
   "cell_type": "code",
   "execution_count": 13,
   "metadata": {},
   "outputs": [],
   "source": [
    "#defining function to tokenise sentences\n",
    "def tokens(data):\n",
    "    for sent in data:\n",
    "        yield simple_preprocess(sent,deacc=True) #Deacc true removes the punctuation marks\n",
    "        \n",
    "data = list(tokens(data))     "
   ]
  },
  {
   "cell_type": "markdown",
   "metadata": {},
   "source": [
    "All the steps that i have implemented using only gensim module ,we could leverage other NLP libaries for above steps. We could have used NLTK or Spcay for that. I'll show in the below steps"
   ]
  },
  {
   "cell_type": "code",
   "execution_count": 14,
   "metadata": {},
   "outputs": [
    {
     "data": {
      "text/plain": [
       "['from',\n",
       " 'wam',\n",
       " 'umd',\n",
       " 'edu',\n",
       " 'where',\n",
       " 'my',\n",
       " 'thing',\n",
       " 'subject',\n",
       " 'what',\n",
       " 'car',\n",
       " 'is',\n",
       " 'this',\n",
       " 'nntp',\n",
       " 'posting',\n",
       " 'host',\n",
       " 'rac',\n",
       " 'wam',\n",
       " 'umd',\n",
       " 'edu',\n",
       " 'organization',\n",
       " 'university',\n",
       " 'of',\n",
       " 'maryland',\n",
       " 'college',\n",
       " 'park',\n",
       " 'lines',\n",
       " 'was',\n",
       " 'wondering',\n",
       " 'if',\n",
       " 'anyone',\n",
       " 'out',\n",
       " 'there',\n",
       " 'could',\n",
       " 'enlighten',\n",
       " 'me',\n",
       " 'on',\n",
       " 'this',\n",
       " 'car',\n",
       " 'saw',\n",
       " 'the',\n",
       " 'other',\n",
       " 'day',\n",
       " 'it',\n",
       " 'was',\n",
       " 'door',\n",
       " 'sports',\n",
       " 'car',\n",
       " 'looked',\n",
       " 'to',\n",
       " 'be',\n",
       " 'from',\n",
       " 'the',\n",
       " 'late',\n",
       " 'early',\n",
       " 'it',\n",
       " 'was',\n",
       " 'called',\n",
       " 'bricklin',\n",
       " 'the',\n",
       " 'doors',\n",
       " 'were',\n",
       " 'really',\n",
       " 'small',\n",
       " 'in',\n",
       " 'addition',\n",
       " 'the',\n",
       " 'front',\n",
       " 'bumper',\n",
       " 'was',\n",
       " 'separate',\n",
       " 'from',\n",
       " 'the',\n",
       " 'rest',\n",
       " 'of',\n",
       " 'the',\n",
       " 'body',\n",
       " 'this',\n",
       " 'is',\n",
       " 'all',\n",
       " 'know',\n",
       " 'if',\n",
       " 'anyone',\n",
       " 'can',\n",
       " 'tellme',\n",
       " 'model',\n",
       " 'name',\n",
       " 'engine',\n",
       " 'specs',\n",
       " 'years',\n",
       " 'of',\n",
       " 'production',\n",
       " 'where',\n",
       " 'this',\n",
       " 'car',\n",
       " 'is',\n",
       " 'made',\n",
       " 'history',\n",
       " 'or',\n",
       " 'whatever',\n",
       " 'info',\n",
       " 'you',\n",
       " 'have',\n",
       " 'on',\n",
       " 'this',\n",
       " 'funky',\n",
       " 'looking',\n",
       " 'car',\n",
       " 'please',\n",
       " 'mail',\n",
       " 'thanks',\n",
       " 'il',\n",
       " 'brought',\n",
       " 'to',\n",
       " 'you',\n",
       " 'by',\n",
       " 'your',\n",
       " 'neighborhood',\n",
       " 'lerxst']"
      ]
     },
     "execution_count": 14,
     "metadata": {},
     "output_type": "execute_result"
    }
   ],
   "source": [
    "#Lets see the results for above methods\n",
    "data[0]"
   ]
  },
  {
   "cell_type": "markdown",
   "metadata": {},
   "source": [
    "### Creating Bigram and Trigram Models\n",
    "\n",
    "Bigrams are two words frequently occurring together in the document. Trigrams are 3 words frequently occurring.\n",
    "\n",
    "we use gensim `phrases` function to create bigram and trigram models. The two important parameters are `min_count` and `threshold`"
   ]
  },
  {
   "cell_type": "code",
   "execution_count": 15,
   "metadata": {},
   "outputs": [],
   "source": [
    "from gensim.models.phrases import Phraser"
   ]
  },
  {
   "cell_type": "code",
   "execution_count": 16,
   "metadata": {},
   "outputs": [
    {
     "data": {
      "text/plain": [
       "['from',\n",
       " 'amber',\n",
       " 'joe',\n",
       " 'green',\n",
       " 'subject',\n",
       " 're',\n",
       " 'weitek',\n",
       " 'organization',\n",
       " 'harris',\n",
       " 'computer',\n",
       " 'systems',\n",
       " 'division',\n",
       " 'lines',\n",
       " 'distribution_world',\n",
       " 'nntp_posting_host',\n",
       " 'amber_ssd',\n",
       " 'csd_harris',\n",
       " 'com',\n",
       " 'newsreader_tin_version_pl',\n",
       " 'robert_kyanko_rjck_uucp',\n",
       " 'wrote',\n",
       " 'iastate',\n",
       " 'edu',\n",
       " 'writes',\n",
       " 'in',\n",
       " 'article',\n",
       " 'class',\n",
       " 'iastate',\n",
       " 'edu',\n",
       " 'anyone',\n",
       " 'know',\n",
       " 'about',\n",
       " 'the',\n",
       " 'weitek',\n",
       " 'graphics',\n",
       " 'chip',\n",
       " 'as',\n",
       " 'far',\n",
       " 'as',\n",
       " 'the',\n",
       " 'low_level',\n",
       " 'stuff',\n",
       " 'goes',\n",
       " 'it',\n",
       " 'looks',\n",
       " 'pretty',\n",
       " 'nice',\n",
       " 'it',\n",
       " 'got',\n",
       " 'this',\n",
       " 'quadrilateral',\n",
       " 'fill',\n",
       " 'command',\n",
       " 'that',\n",
       " 'requires',\n",
       " 'just',\n",
       " 'the',\n",
       " 'four',\n",
       " 'points',\n",
       " 'do',\n",
       " 'you',\n",
       " 'have',\n",
       " 'weitek',\n",
       " 'address',\n",
       " 'phone',\n",
       " 'number',\n",
       " 'like',\n",
       " 'to',\n",
       " 'get',\n",
       " 'some',\n",
       " 'information',\n",
       " 'about',\n",
       " 'this',\n",
       " 'chip',\n",
       " 'joe',\n",
       " 'green',\n",
       " 'harris',\n",
       " 'corporation',\n",
       " 'csd_harris',\n",
       " 'com',\n",
       " 'computer',\n",
       " 'systems',\n",
       " 'division',\n",
       " 'the',\n",
       " 'only',\n",
       " 'thing',\n",
       " 'that',\n",
       " 'really',\n",
       " 'scares',\n",
       " 'me',\n",
       " 'is',\n",
       " 'person',\n",
       " 'with',\n",
       " 'no',\n",
       " 'sense',\n",
       " 'of',\n",
       " 'humor',\n",
       " 'jonathan',\n",
       " 'winters']"
      ]
     },
     "execution_count": 16,
     "metadata": {},
     "output_type": "execute_result"
    }
   ],
   "source": [
    "#Bigram and trigram model\n",
    "\n",
    "import gensim\n",
    "\n",
    "bigram = gensim.models.Phrases(data,min_count=3,threshold=100) #Min count to remove rare occuring words\n",
    "trigram = gensim.models.Phrases(bigram[data],min_count=5,threshold=100)\n",
    "\n",
    "bigram_mod = Phraser(bigram)\n",
    "trigram_mod = Phraser(trigram)\n",
    "\n",
    "#see an example\n",
    "trigram_mod[bigram_mod[data[3]]]"
   ]
  },
  {
   "cell_type": "markdown",
   "metadata": {},
   "source": [
    "### Remove Stopwords, Make Bigrams and Lemmatize\n",
    "The bigrams model is ready. Let’s define the functions to remove the stopwords, make bigrams and lemmatization and call them sequentially.\n"
   ]
  },
  {
   "cell_type": "code",
   "execution_count": 17,
   "metadata": {},
   "outputs": [],
   "source": [
    "# Define functions for stopwords, bigrams, trigrams and lemmatization\n",
    "def remove_stopwords(texts):\n",
    "    return [[word for word in simple_preprocess(str(doc)) if word not in stop_words] for doc in texts]\n",
    "\n",
    "def make_bigrams(texts):\n",
    "    return [bigram_mod[doc] for doc in texts]\n",
    "\n",
    "def make_trigrams(texts):\n",
    "    return [trigram_mod[bigram_mod[doc]] for doc in texts]\n",
    "\n",
    "def lemmatization(texts, allowed_postags=['NOUN', 'ADJ', 'VERB', 'ADV']):\n",
    "    \"\"\"https://spacy.io/api/annotation\"\"\"\n",
    "    texts_out = []\n",
    "    for sent in texts:\n",
    "        doc = nlp(\" \".join(sent)) \n",
    "        texts_out.append([token.lemma_ for token in doc if token.pos_ in allowed_postags])\n",
    "    return texts_out"
   ]
  },
  {
   "cell_type": "code",
   "execution_count": 18,
   "metadata": {},
   "outputs": [],
   "source": [
    "# NLTK Stop words\n",
    "from nltk.corpus import stopwords\n",
    "stop_words = stopwords.words('english')\n",
    "stop_words.extend(['from', 'subject', 're', 'edu', 'use'])"
   ]
  },
  {
   "cell_type": "markdown",
   "metadata": {},
   "source": [
    "Let’s call the function"
   ]
  },
  {
   "cell_type": "code",
   "execution_count": 19,
   "metadata": {},
   "outputs": [
    {
     "name": "stdout",
     "output_type": "stream",
     "text": [
      "[['thing', 'car', 'nntp_posting', 'host_rac', 'park', 'line', 'wonder', 'could', 'enlighten', 'car', 'see', 'day', 'door', 'sport', 'car', 'look', 'late', 'early', 'call', 'bricklin', 'door', 'really', 'small', 'addition', 'separate', 'rest', 'body', 'know', 'tellme', 'model', 'name', 'engine', 'year', 'production', 'car', 'make', 'history', 'info', 'funky', 'look', 'car', 'mail', 'thank', 'bring', 'neighborhood', 'lerxst']]\n"
     ]
    }
   ],
   "source": [
    "# Remove Stop Words\n",
    "data_words_nostops = remove_stopwords(data)\n",
    "\n",
    "# Form Bigrams\n",
    "data_bigrams = make_bigrams(data_words_nostops)\n",
    "\n",
    "# Initialize spacy 'en' model, keeping only tagger component (for efficiency)\n",
    "nlp = spacy.load('en', disable=['parser', 'ner'])\n",
    "\n",
    "# Do lemmatization keeping only noun, adj, vb, adv\n",
    "data_lemmatized = lemmatization(data_bigrams, allowed_postags=['NOUN', 'ADJ', 'VERB', 'ADV'])\n",
    "\n",
    "print(data_lemmatized[:1])"
   ]
  },
  {
   "cell_type": "markdown",
   "metadata": {},
   "source": [
    "### Create a Dictionary and Corpus needed for LDA Model\n",
    "\n",
    "The two main inputs to the LDA topic model are the `dictionary(id2word)` and the corpus. Let’s create them"
   ]
  },
  {
   "cell_type": "code",
   "execution_count": 20,
   "metadata": {},
   "outputs": [
    {
     "name": "stdout",
     "output_type": "stream",
     "text": [
      "[[(0, 1), (1, 1), (2, 1), (3, 1), (4, 1), (5, 5), (6, 1), (7, 1), (8, 2), (9, 1), (10, 1), (11, 1), (12, 1), (13, 1), (14, 1), (15, 1), (16, 1), (17, 1), (18, 1), (19, 1), (20, 2), (21, 1), (22, 1), (23, 1), (24, 1), (25, 1), (26, 1), (27, 1), (28, 1), (29, 1), (30, 1), (31, 1), (32, 1), (33, 1), (34, 1), (35, 1), (36, 1), (37, 1), (38, 1), (39, 1)]]\n"
     ]
    }
   ],
   "source": [
    "from gensim import corpora\n",
    "#create Dictionary\n",
    "id2word = corpora.Dictionary(data_lemmatized)\n",
    "\n",
    "#DTM (Document Term Matrix)\n",
    "corpus =[id2word.doc2bow(text) for text in data_lemmatized]\n",
    "\n",
    "#see an Example\n",
    "print(corpus[:1])"
   ]
  },
  {
   "cell_type": "markdown",
   "metadata": {},
   "source": [
    "Gensim creates a unique id for each word in the document. The produced corpus shown above is a mapping of (word_id, word_frequency).\n",
    "\n",
    "For example, (0, 1) above implies, word id 0 occurs once in the first document. Likewise, **word id 1 occurs twice and so on and so forth**"
   ]
  },
  {
   "cell_type": "code",
   "execution_count": 21,
   "metadata": {},
   "outputs": [
    {
     "data": {
      "text/plain": [
       "'addition'"
      ]
     },
     "execution_count": 21,
     "metadata": {},
     "output_type": "execute_result"
    }
   ],
   "source": [
    "#lets see word id 0 represents what word\n",
    "id2word[0]"
   ]
  },
  {
   "cell_type": "code",
   "execution_count": 518,
   "metadata": {},
   "outputs": [
    {
     "name": "stdout",
     "output_type": "stream",
     "text": [
      "addition      occurs 1 times\n",
      "body          occurs 1 times\n",
      "bricklin      occurs 1 times\n",
      "bring         occurs 1 times\n",
      "call          occurs 1 times\n",
      "car           occurs 5 times\n",
      "could         occurs 1 times\n",
      "day           occurs 1 times\n",
      "door          occurs 2 times\n",
      "early         occurs 1 times\n",
      "engine        occurs 1 times\n",
      "enlighten     occurs 1 times\n",
      "funky         occurs 1 times\n",
      "history       occurs 1 times\n",
      "host_rac      occurs 1 times\n",
      "info          occurs 1 times\n",
      "know          occurs 1 times\n",
      "late          occurs 1 times\n",
      "lerxst        occurs 1 times\n",
      "line          occurs 1 times\n",
      "look          occurs 2 times\n",
      "mail          occurs 1 times\n",
      "make          occurs 1 times\n",
      "model         occurs 1 times\n",
      "name          occurs 1 times\n",
      "neighborhood  occurs 1 times\n",
      "nntp_posting  occurs 1 times\n",
      "park          occurs 1 times\n",
      "production    occurs 1 times\n",
      "really        occurs 1 times\n",
      "rest          occurs 1 times\n",
      "see           occurs 1 times\n",
      "separate      occurs 1 times\n",
      "small         occurs 1 times\n",
      "sport         occurs 1 times\n",
      "tellme        occurs 1 times\n",
      "thank         occurs 1 times\n",
      "thing         occurs 1 times\n",
      "wonder        occurs 1 times\n",
      "year          occurs 1 times\n"
     ]
    }
   ],
   "source": [
    "#Lets build a better version for readability\n",
    "for id,occ in corpus[:1][0]:\n",
    "    print(f\"{id2word[id]:{13}} occurs {occ} times\")"
   ]
  },
  {
   "cell_type": "code",
   "execution_count": 24,
   "metadata": {},
   "outputs": [
    {
     "data": {
      "text/plain": [
       "[('addition', 1),\n",
       " ('body', 1),\n",
       " ('bricklin', 1),\n",
       " ('bring', 1),\n",
       " ('call', 1),\n",
       " ('car', 5),\n",
       " ('could', 1),\n",
       " ('day', 1),\n",
       " ('door', 2),\n",
       " ('early', 1),\n",
       " ('engine', 1),\n",
       " ('enlighten', 1),\n",
       " ('funky', 1),\n",
       " ('history', 1),\n",
       " ('host_rac', 1),\n",
       " ('info', 1),\n",
       " ('know', 1),\n",
       " ('late', 1),\n",
       " ('lerxst', 1),\n",
       " ('line', 1),\n",
       " ('look', 2),\n",
       " ('mail', 1),\n",
       " ('make', 1),\n",
       " ('model', 1),\n",
       " ('name', 1),\n",
       " ('neighborhood', 1),\n",
       " ('nntp_posting', 1),\n",
       " ('park', 1),\n",
       " ('production', 1),\n",
       " ('really', 1),\n",
       " ('rest', 1),\n",
       " ('see', 1),\n",
       " ('separate', 1),\n",
       " ('small', 1),\n",
       " ('sport', 1),\n",
       " ('tellme', 1),\n",
       " ('thank', 1),\n",
       " ('thing', 1),\n",
       " ('wonder', 1),\n",
       " ('year', 1)]"
      ]
     },
     "execution_count": 24,
     "metadata": {},
     "output_type": "execute_result"
    }
   ],
   "source": [
    "#Readable format\n",
    "[(id2word[id],occ) for id,occ in corpus[:1][0]]"
   ]
  },
  {
   "cell_type": "markdown",
   "metadata": {},
   "source": [
    "## Building the Model\n",
    "\n",
    "We have everything required to build a model.Now we choose the important parameters for that model"
   ]
  },
  {
   "cell_type": "code",
   "execution_count": 550,
   "metadata": {},
   "outputs": [],
   "source": [
    "# Build LDA model\n",
    "lda_model = gensim.models.ldamodel.LdaModel(corpus=corpus,\n",
    "                                           id2word=id2word,\n",
    "                                           num_topics=10, \n",
    "                                           random_state=100,\n",
    "                                           update_every=1,\n",
    "                                           chunksize=100,\n",
    "                                           passes=10,\n",
    "                                           alpha='auto',\n",
    "                                           per_word_topics=True)"
   ]
  },
  {
   "cell_type": "markdown",
   "metadata": {},
   "source": [
    "## View the topics in LDA model\n",
    "The above LDA model is built with 10 different topics where each topic is a combination of keywords and each keyword contributes a certain weightage to the topic."
   ]
  },
  {
   "cell_type": "code",
   "execution_count": 551,
   "metadata": {},
   "outputs": [
    {
     "data": {
      "text/plain": [
       "[(0,\n",
       "  '0.016*\"people\" + 0.012*\"state\" + 0.010*\"gun\" + 0.009*\"government\" + 0.009*\"kill\" + 0.008*\"child\" + 0.008*\"right\" + 0.007*\"live\" + 0.006*\"force\" + 0.006*\"report\"'),\n",
       " (1,\n",
       "  '0.026*\"write\" + 0.026*\"would\" + 0.016*\"article\" + 0.016*\"know\" + 0.015*\"make\" + 0.015*\"go\" + 0.014*\"think\" + 0.014*\"line\" + 0.013*\"com\" + 0.012*\"see\"'),\n",
       " (2,\n",
       "  '0.033*\"key\" + 0.015*\"public\" + 0.011*\"information\" + 0.011*\"use\" + 0.011*\"patient\" + 0.010*\"system\" + 0.010*\"technology\" + 0.010*\"encryption\" + 0.009*\"provide\" + 0.009*\"government\"'),\n",
       " (3,\n",
       "  '0.022*\"car\" + 0.014*\"high\" + 0.013*\"cost\" + 0.013*\"power\" + 0.012*\"low\" + 0.011*\"buy\" + 0.011*\"price\" + 0.010*\"rate\" + 0.010*\"sell\" + 0.009*\"pay\"'),\n",
       " (4,\n",
       "  '0.047*\"program\" + 0.042*\"file\" + 0.020*\"image\" + 0.018*\"entry\" + 0.016*\"choose\" + 0.013*\"application\" + 0.013*\"space\" + 0.012*\"include\" + 0.011*\"source\" + 0.011*\"available\"'),\n",
       " (5,\n",
       "  '0.050*\"team\" + 0.047*\"game\" + 0.036*\"play\" + 0.026*\"player\" + 0.023*\"year\" + 0.020*\"internet\" + 0.017*\"season\" + 0.016*\"pin\" + 0.014*\"hockey\" + 0.014*\"fan\"'),\n",
       " (6,\n",
       "  '0.019*\"evidence\" + 0.016*\"reason\" + 0.015*\"believe\" + 0.013*\"say\" + 0.012*\"claim\" + 0.012*\"people\" + 0.010*\"may\" + 0.010*\"faith\" + 0.009*\"exist\" + 0.009*\"sense\"'),\n",
       " (7,\n",
       "  '0.032*\"keyboard\" + 0.031*\"turkish\" + 0.029*\"armenian\" + 0.026*\"circuit\" + 0.016*\"registration\" + 0.015*\"super\" + 0.013*\"massacre\" + 0.012*\"genocide\" + 0.012*\"cell\" + 0.009*\"road\"'),\n",
       " (8,\n",
       "  '0.035*\"line\" + 0.018*\"use\" + 0.015*\"system\" + 0.014*\"host\" + 0.014*\"com\" + 0.012*\"thank\" + 0.011*\"problem\" + 0.011*\"need\" + 0.010*\"work\" + 0.010*\"run\"'),\n",
       " (9,\n",
       "  '0.111*\"ax\" + 0.092*\"max\" + 0.024*\"score\" + 0.023*\"mount\" + 0.022*\"di_di\" + 0.017*\"boy\" + 0.015*\"translation\" + 0.014*\"stat\" + 0.012*\"compile\" + 0.011*\"talent\"')]"
      ]
     },
     "execution_count": 551,
     "metadata": {},
     "output_type": "execute_result"
    }
   ],
   "source": [
    "#Print top 10 words for each topics\n",
    "doc_lda = lda_model[corpus]\n",
    "lda_model.print_topics()"
   ]
  },
  {
   "cell_type": "markdown",
   "metadata": {},
   "source": [
    "**SO How we interpret from above results?**\n",
    "\n",
    "Topic 0 represents '0.040*\"go\" + 0.022*\"get\" + 0.018*\"time\" + 0.018*\"say\" + 0.017*\"take\" + 0.017*\"right\" + 0.015*\"people\" + 0.014*\"year\" + 0.014*\"come\" + 0.013*\"back\"\n",
    "\n",
    "It means Top 10 words belongs to Topic no 0. And their numbers represent weightage of that word. Looking at the keywords we could infer the what topics are discussed..."
   ]
  },
  {
   "cell_type": "markdown",
   "metadata": {},
   "source": [
    "\n",
    "### Computing Model Performance\n",
    "Coherence score will be used to judge a model how good it is. Higher the score the better the model is."
   ]
  },
  {
   "cell_type": "code",
   "execution_count": 552,
   "metadata": {},
   "outputs": [
    {
     "name": "stdout",
     "output_type": "stream",
     "text": [
      "Coherence Score 0.4911830473221007\n"
     ]
    }
   ],
   "source": [
    "from gensim.models import CoherenceModel\n",
    "\n",
    "coherence_model_lda = CoherenceModel(model=lda_model,texts=data_lemmatized,dictionary=id2word)\n",
    "lda_coherence = coherence_model_lda.get_coherence()\n",
    "\n",
    "print(f\"Coherence Score {lda_coherence}\")"
   ]
  },
  {
   "cell_type": "markdown",
   "metadata": {},
   "source": [
    "## VIsualize topic keywords with PyLDA\n",
    "\n",
    "PyLDAvis package espically designed for the purpose of viualizing keyword in a topic for anyone could understand.\n"
   ]
  },
  {
   "cell_type": "code",
   "execution_count": 553,
   "metadata": {},
   "outputs": [
    {
     "data": {
      "text/html": [
       "\n",
       "<link rel=\"stylesheet\" type=\"text/css\" href=\"https://cdn.rawgit.com/bmabey/pyLDAvis/files/ldavis.v1.0.0.css\">\n",
       "\n",
       "\n",
       "<div id=\"ldavis_el852820307016327125280524941\"></div>\n",
       "<script type=\"text/javascript\">\n",
       "\n",
       "var ldavis_el852820307016327125280524941_data = {\"mdsDat\": {\"x\": [-0.2708990790611377, -0.20124815230728657, -0.13150904240540087, -0.19935404356384426, 0.040280116620439274, -0.035389493096420546, 0.10537663903386944, 0.19542275212972224, 0.25575510815124575, 0.24156519449881284], \"y\": [0.11734693531893048, -0.16030979895790765, 0.13742847192536756, 0.14042787656934064, -0.11188684593993381, -0.19619097805722208, -0.2240989614585641, 0.1371574525881279, 0.09084413746048921, 0.06928171055137175], \"topics\": [1, 2, 3, 4, 5, 6, 7, 8, 9, 10], \"cluster\": [1, 1, 1, 1, 1, 1, 1, 1, 1, 1], \"Freq\": [37.22697067260742, 19.424911499023438, 11.676118850708008, 10.078579902648926, 6.705446720123291, 5.718789100646973, 4.305480003356934, 2.6380481719970703, 1.6920678615570068, 0.5336001515388489]}, \"tinfo\": {\"Term\": [\"line\", \"would\", \"write\", \"ax\", \"year\", \"program\", \"max\", \"article\", \"file\", \"use\", \"key\", \"go\", \"people\", \"system\", \"team\", \"com\", \"say\", \"game\", \"evidence\", \"see\", \"think\", \"reason\", \"know\", \"host\", \"believe\", \"car\", \"ca\", \"good\", \"thank\", \"make\", \"go\", \"really\", \"tell\", \"bad\", \"hear\", \"little\", \"great\", \"let\", \"enough\", \"actually\", \"maybe\", \"win\", \"ever\", \"remember\", \"back\", \"kind\", \"else\", \"deal\", \"pretty\", \"couple\", \"compare\", \"well\", \"care\", \"better\", \"guess\", \"hit\", \"learn\", \"guy\", \"accord\", \"job\", \"would\", \"article\", \"see\", \"still\", \"good\", \"never\", \"could\", \"sure\", \"write\", \"think\", \"make\", \"start\", \"come\", \"know\", \"time\", \"thing\", \"take\", \"give\", \"even\", \"much\", \"seem\", \"way\", \"point\", \"get\", \"say\", \"com\", \"want\", \"first\", \"line\", \"may\", \"organization\", \"people\", \"thank\", \"card\", \"driver\", \"type\", \"email\", \"machine\", \"info\", \"interested\", \"color\", \"solution\", \"memory\", \"disk\", \"advance\", \"server\", \"video\", \"slow\", \"screen\", \"instal\", \"appreciate\", \"graphic\", \"size\", \"package\", \"distribution\", \"monitor\", \"character\", \"connect\", \"box\", \"object\", \"possibly\", \"nntp_posting\", \"copy\", \"mail\", \"send\", \"address\", \"list\", \"computer\", \"use\", \"run\", \"system\", \"window\", \"ca\", \"problem\", \"drive\", \"line\", \"help\", \"host\", \"bit\", \"need\", \"work\", \"set\", \"new\", \"also\", \"com\", \"reply\", \"number\", \"get\", \"find\", \"look\", \"gun\", \"kill\", \"force\", \"country\", \"member\", \"war\", \"fire\", \"physical\", \"soldier\", \"drug\", \"israeli\", \"slave\", \"wire\", \"murder\", \"crime\", \"shall\", \"city\", \"shoot\", \"military\", \"land\", \"society\", \"weapon\", \"eat\", \"american\", \"food\", \"legal\", \"direct\", \"trial\", \"att\", \"bomb\", \"village\", \"child\", \"attack\", \"carry\", \"risk\", \"death\", \"state\", \"government\", \"woman\", \"live\", \"report\", \"people\", \"die\", \"right\", \"say\", \"man\", \"issue\", \"law\", \"area\", \"place\", \"evidence\", \"faith\", \"religion\", \"argument\", \"truth\", \"belief\", \"atheist\", \"valid\", \"church\", \"conclusion\", \"christian\", \"religious\", \"sin\", \"existence\", \"therefore\", \"revelation\", \"nature\", \"moral\", \"consistent\", \"christianity\", \"atheism\", \"teach\", \"animal\", \"examine\", \"objective\", \"reject\", \"false\", \"scripture\", \"mother\", \"assumption\", \"reality\", \"sense\", \"claim\", \"science\", \"exist\", \"human\", \"reason\", \"believe\", \"prove\", \"accept\", \"can\", \"law\", \"word\", \"explain\", \"true\", \"view\", \"book\", \"say\", \"people\", \"may\", \"must\", \"man\", \"fact\", \"question\", \"many\", \"mean\", \"however\", \"follow\", \"car\", \"cost\", \"low\", \"rate\", \"bike\", \"tape\", \"business\", \"engine\", \"ride\", \"launch\", \"factory\", \"controller\", \"cool\", \"recommend\", \"orbit\", \"dealer\", \"radio\", \"insurance\", \"commercial\", \"expensive\", \"interface\", \"mile\", \"vehicle\", \"motorcycle\", \"convert\", \"range\", \"cycle\", \"fund\", \"air\", \"dollar\", \"cheap\", \"power\", \"price\", \"high\", \"sell\", \"ground\", \"pay\", \"buy\", \"light\", \"increase\", \"space\", \"design\", \"road\", \"test\", \"less\", \"model\", \"drive\", \"large\", \"cover\", \"key\", \"patient\", \"encryption\", \"security\", \"ripem\", \"private\", \"clipper\", \"encrypt\", \"secure\", \"tap\", \"tool\", \"secret\", \"diagnosis\", \"syndrome\", \"announcement\", \"agency\", \"typical\", \"communication\", \"link\", \"industry\", \"implement\", \"sector\", \"federal\", \"proposal\", \"pgp\", \"improve\", \"workstation\", \"percent\", \"attitude\", \"telephone\", \"license\", \"waste\", \"public\", \"technology\", \"vote\", \"develop\", \"information\", \"block\", \"chip\", \"provide\", \"government\", \"datum\", \"message\", \"system\", \"use\", \"device\", \"issue\", \"new\", \"bit\", \"program\", \"file\", \"image\", \"entry\", \"choose\", \"scsi\", \"format\", \"print\", \"port\", \"internal\", \"motif\", \"mission\", \"library\", \"printer\", \"mouse\", \"select\", \"colostate\", \"update\", \"client\", \"satellite\", \"cable\", \"processor\", \"equipment\", \"byte\", \"blind\", \"laboratory\", \"volume\", \"motherboard\", \"map\", \"shipping\", \"application\", \"page\", \"bus\", \"output\", \"space\", \"datum\", \"source\", \"available\", \"input\", \"include\", \"software\", \"build\", \"display\", \"team\", \"game\", \"play\", \"player\", \"internet\", \"season\", \"pin\", \"hockey\", \"fan\", \"cpu\", \"wing\", \"playoff\", \"gateway\", \"pen\", \"lebanese\", \"cd\", \"be\", \"star\", \"umich\", \"headache\", \"upgrade\", \"ignorant\", \"award\", \"ice\", \"coach\", \"opportunity\", \"blame\", \"club\", \"slot\", \"soul\", \"trade\", \"draft\", \"year\", \"next\", \"ca\", \"lose\", \"lead\", \"last\", \"ax\", \"max\", \"mount\", \"di_di\", \"boy\", \"translation\", \"stat\", \"compile\", \"talent\", \"pitcher\", \"youth\", \"investigation\", \"pitch\", \"film\", \"few\", \"gold\", \"era\", \"significance\", \"standing\", \"catcher\", \"suck\", \"hitter\", \"giant\", \"zone\", \"exit\", \"runner\", \"conversion\", \"earn\", \"deficit\", \"margin\", \"score\", \"keyboard\", \"turkish\", \"armenian\", \"circuit\", \"registration\", \"super\", \"massacre\", \"genocide\", \"cell\", \"construct\", \"fruit\", \"preferably\", \"best_offer\", \"serdar_argic\", \"fre\", \"handy\", \"principal\", \"column\", \"dance\", \"remainder\", \"soul_sahak\", \"melkonian\", \"appressian\", \"uci\", \"pursue\", \"conventional\", \"opening\", \"ultra\", \"soil\", \"vol\", \"slaughter\", \"escape\", \"road\", \"proceed\"], \"Freq\": [13361.0, 10549.0, 11032.0, 2083.0, 3740.0, 2260.0, 1716.0, 6756.0, 2012.0, 4820.0, 2109.0, 6128.0, 6317.0, 3776.0, 1452.0, 8469.0, 7082.0, 1365.0, 2131.0, 5163.0, 6200.0, 2640.0, 7021.0, 4590.0, 2596.0, 1653.0, 2078.0, 4973.0, 2614.0, 6555.0, 6127.82275390625, 2451.918212890625, 2614.570556640625, 1737.728759765625, 1637.692138671875, 1577.8353271484375, 1479.3470458984375, 1753.5128173828125, 1336.76513671875, 1235.2518310546875, 1173.905517578125, 1170.1856689453125, 1119.0047607421875, 1032.271484375, 2009.6953125, 1006.401123046875, 920.2149047851562, 823.15283203125, 726.6746826171875, 701.2111206054688, 644.8214721679688, 3388.1513671875, 599.4793090820312, 599.1235961914062, 595.1764526367188, 545.6514892578125, 530.5473022460938, 512.3995971679688, 511.68988037109375, 506.902587890625, 10521.8212890625, 6734.56005859375, 5141.927734375, 2157.00048828125, 4913.27392578125, 2023.3240966796875, 3794.354248046875, 2091.60595703125, 10716.1015625, 5973.23486328125, 6206.4365234375, 1631.72705078125, 3645.468505859375, 6496.9072265625, 4773.00634765625, 3443.34619140625, 3430.026123046875, 3058.646484375, 3021.084716796875, 2752.475830078125, 2322.22802734375, 2912.971923828125, 2710.306640625, 4810.57275390625, 4991.49169921875, 5552.63037109375, 2958.765380859375, 2575.060546875, 5825.0654296875, 3447.754638671875, 2699.98095703125, 2876.658935546875, 2613.5888671875, 1432.5172119140625, 1162.774169921875, 1074.6182861328125, 974.5921630859375, 956.6419067382812, 829.8339233398438, 787.7212524414062, 781.8704223632812, 711.8809204101562, 711.2860107421875, 685.2766723632812, 620.3680419921875, 613.4518432617188, 610.2048950195312, 600.2935180664062, 588.3984375, 581.7493896484375, 574.405517578125, 544.4078979492188, 538.74853515625, 532.2677001953125, 530.3118286132812, 509.4118957519531, 487.0036926269531, 471.331298828125, 407.4198913574219, 399.67999267578125, 368.63836669921875, 365.44732666015625, 866.2726440429688, 1785.1279296875, 1534.220458984375, 1019.6742553710938, 1205.0440673828125, 1260.4937744140625, 3975.968994140625, 2117.44921875, 3123.98828125, 1430.42529296875, 1745.3812255859375, 2410.316162109375, 1983.251953125, 7531.9541015625, 1799.8948974609375, 3095.144287109375, 1339.1024169921875, 2277.177978515625, 2117.86865234375, 1186.537841796875, 1528.67333984375, 2102.77880859375, 2915.66015625, 1377.1202392578125, 1296.9627685546875, 1460.1986083984375, 1217.576416015625, 1195.7081298828125, 1282.2447509765625, 1169.5234375, 800.8648681640625, 699.7826538085938, 672.5726318359375, 578.6900024414062, 572.5640869140625, 565.0397338867188, 537.2191772460938, 535.630859375, 531.6914672851562, 515.6175537109375, 507.49853515625, 464.8002014160156, 461.2883605957031, 461.056884765625, 446.49078369140625, 441.3230285644531, 432.8624267578125, 431.1957702636719, 416.8525695800781, 392.0946960449219, 390.9201965332031, 388.7710266113281, 348.5202331542969, 342.3896179199219, 342.06243896484375, 337.2613220214844, 333.269287109375, 325.88323974609375, 471.3053283691406, 1090.093017578125, 691.7867431640625, 574.9373168945312, 462.8934631347656, 740.9298706054688, 1505.8914794921875, 1197.3804931640625, 524.4085083007812, 906.533935546875, 753.7334594726562, 2134.131591796875, 604.157470703125, 1061.4010009765625, 668.12451171875, 543.265625, 525.4883422851562, 516.1509399414062, 495.0238037109375, 495.86376953125, 2130.739990234375, 1081.4617919921875, 807.8466186523438, 765.7706909179688, 660.7965087890625, 633.3407592773438, 626.392822265625, 524.8013916015625, 524.3536987304688, 500.2278747558594, 478.38592529296875, 395.339599609375, 394.25799560546875, 387.130859375, 366.68023681640625, 342.26361083984375, 335.81781005859375, 333.151123046875, 290.5997314453125, 261.82391357421875, 259.43255615234375, 248.2972869873047, 243.22193908691406, 240.09597778320312, 238.21432495117188, 231.08482360839844, 228.16644287109375, 227.37423706054688, 223.61605834960938, 217.4921112060547, 413.11126708984375, 1024.8626708984375, 1356.3399658203125, 669.7909545898438, 1058.0286865234375, 488.3099670410156, 1775.2691650390625, 1697.069091796875, 613.962158203125, 616.900390625, 811.8643188476562, 863.2391357421875, 674.1035766601562, 559.8505249023438, 706.8126220703125, 548.3076171875, 641.6709594726562, 1422.4642333984375, 1306.2786865234375, 1166.9561767578125, 719.3577270507812, 683.7244262695312, 692.4009399414062, 772.4469604492188, 792.0289306640625, 679.8844604492188, 633.4422607421875, 614.5813598632812, 1652.6929931640625, 990.4041137695312, 879.324951171875, 747.1787719726562, 632.4639282226562, 588.6433715820312, 496.31390380859375, 453.6280212402344, 398.3661804199219, 383.3061218261719, 375.806884765625, 337.792724609375, 337.2014465332031, 324.3061218261719, 309.68865966796875, 301.9128723144531, 280.9114074707031, 280.4002380371094, 273.7708740234375, 273.49078369140625, 269.4274597167969, 264.0685119628906, 260.0353698730469, 254.9613037109375, 251.34716796875, 247.41848754882812, 239.30804443359375, 226.2464141845703, 202.6848907470703, 201.55809020996094, 683.1136474609375, 976.633544921875, 807.8831787109375, 1052.9197998046875, 745.5145874023438, 365.20892333984375, 699.1844482421875, 828.7552490234375, 487.1871643066406, 481.1312561035156, 627.8182373046875, 455.5513916015625, 321.6793212890625, 472.3524475097656, 506.20111083984375, 397.6591796875, 597.1715698242188, 445.823974609375, 361.69281005859375, 2108.17041015625, 676.0764770507812, 602.4744873046875, 522.0271606445312, 514.025634765625, 488.06427001953125, 452.9892578125, 427.9379577636719, 371.39617919921875, 340.3288879394531, 323.30078125, 307.94549560546875, 286.9316101074219, 271.89105224609375, 270.6952209472656, 263.5638122558594, 261.0580139160156, 235.1881866455078, 233.16317749023438, 232.47543334960938, 219.69515991210938, 216.970703125, 204.59642028808594, 201.5520782470703, 201.28671264648438, 192.38027954101562, 186.3613739013672, 186.0497589111328, 180.9524383544922, 178.31236267089844, 352.90155029296875, 265.1452331542969, 943.4273681640625, 638.5123901367188, 247.24749755859375, 336.6965026855469, 722.6597900390625, 314.548583984375, 523.3848266601562, 556.2262573242188, 541.603271484375, 390.3949279785156, 480.9130554199219, 651.6868286132812, 684.0333862304688, 298.11865234375, 304.6850891113281, 309.8931884765625, 295.33123779296875, 2259.20703125, 2012.01318359375, 944.3829956054688, 866.56591796875, 775.1304931640625, 488.3169250488281, 467.6217956542969, 437.3507385253906, 401.6799621582031, 380.5856628417969, 369.6937561035156, 336.20892333984375, 332.5359802246094, 316.3373107910156, 309.217041015625, 304.09368896484375, 303.1702575683594, 297.5225524902344, 291.6756591796875, 286.9747314453125, 258.6076354980469, 255.65814208984375, 249.51986694335938, 235.47552490234375, 231.63368225097656, 215.3990478515625, 197.24386596679688, 192.8366241455078, 188.0664520263672, 185.21286010742188, 614.8846435546875, 415.2728271484375, 402.3666076660156, 240.28457641601562, 598.9193725585938, 455.92510986328125, 528.5684814453125, 509.4238586425781, 322.1135559082031, 553.8995971679688, 445.7342834472656, 435.47271728515625, 312.8262939453125, 1451.137939453125, 1364.8658447265625, 1042.3519287109375, 748.08251953125, 576.2639770507812, 490.1771545410156, 468.3611145019531, 413.7342224121094, 394.9482421875, 364.5234680175781, 340.6696472167969, 293.72491455078125, 290.6074523925781, 273.28289794921875, 263.53411865234375, 257.7210693359375, 237.9373779296875, 227.42779541015625, 226.1897430419922, 175.3777618408203, 171.55685424804688, 167.99172973632812, 162.7847442626953, 160.95730590820312, 153.3211669921875, 149.2494354248047, 148.19789123535156, 142.90011596679688, 142.35292053222656, 127.43260192871094, 303.9654846191406, 155.05397033691406, 677.565185546875, 321.75177001953125, 332.1754455566406, 247.89309692382812, 189.72360229492188, 195.4458770751953, 2082.419677734375, 1715.2572021484375, 429.0147399902344, 405.65570068359375, 318.5563659667969, 276.2584228515625, 266.1084289550781, 215.92843627929688, 208.8077850341797, 175.378662109375, 143.2799530029297, 141.42807006835938, 140.26657104492188, 123.7678451538086, 123.55138397216797, 122.13250732421875, 112.71572875976562, 110.63882446289062, 109.77894592285156, 104.86972045898438, 104.55303192138672, 100.87296295166016, 97.65504455566406, 97.37596130371094, 94.52323913574219, 93.28329467773438, 90.89582061767578, 90.48553466796875, 90.064453125, 87.39468383789062, 454.7993469238281, 187.35922241210938, 180.41143798828125, 172.43235778808594, 151.59896850585938, 94.71611785888672, 87.87873077392578, 74.12230682373047, 71.57670593261719, 68.03137969970703, 54.59966278076172, 49.45322036743164, 48.734642028808594, 43.05512619018555, 42.43006896972656, 36.383689880371094, 35.772666931152344, 34.50154113769531, 34.090335845947266, 33.97935485839844, 33.923885345458984, 32.9728889465332, 32.9728889465332, 32.9728889465332, 31.680721282958984, 31.593650817871094, 29.35312843322754, 23.83642578125, 23.69393539428711, 23.313121795654297, 21.729984283447266, 49.057064056396484, 45.19582748413086, 55.31830978393555, 35.72677230834961], \"Total\": [13361.0, 10549.0, 11032.0, 2083.0, 3740.0, 2260.0, 1716.0, 6756.0, 2012.0, 4820.0, 2109.0, 6128.0, 6317.0, 3776.0, 1452.0, 8469.0, 7082.0, 1365.0, 2131.0, 5163.0, 6200.0, 2640.0, 7021.0, 4590.0, 2596.0, 1653.0, 2078.0, 4973.0, 2614.0, 6555.0, 6128.80517578125, 2452.901611328125, 2615.656494140625, 1738.7120361328125, 1638.6754150390625, 1578.818603515625, 1480.330322265625, 1754.735107421875, 1337.7484130859375, 1236.235107421875, 1174.8887939453125, 1171.1689453125, 1119.988037109375, 1033.2547607421875, 2011.62744140625, 1007.3843383789062, 921.1980590820312, 824.1361083984375, 727.6578979492188, 702.1943359375, 645.8047485351562, 3393.418701171875, 600.4625244140625, 600.1068115234375, 596.15966796875, 546.6346435546875, 531.530517578125, 513.3826904296875, 512.6732788085938, 507.88580322265625, 10549.1787109375, 6756.46826171875, 5163.52880859375, 2164.3662109375, 4973.22705078125, 2030.2237548828125, 3849.413330078125, 2114.44189453125, 11032.302734375, 6200.0810546875, 6555.76171875, 1666.714599609375, 3819.234130859375, 7021.77490234375, 5160.17919921875, 3668.5205078125, 3732.80810546875, 3320.320068359375, 3290.9248046875, 2990.80810546875, 2480.036376953125, 3262.805908203125, 2998.630126953125, 6271.6376953125, 7082.85009765625, 8469.158203125, 3712.998779296875, 2995.2548828125, 13361.65234375, 5876.13671875, 3552.09912109375, 6317.8388671875, 2614.571044921875, 1433.4991455078125, 1163.756103515625, 1075.600341796875, 975.5739135742188, 957.623779296875, 830.8158569335938, 788.7031860351562, 782.8521728515625, 712.8631591796875, 712.2680053710938, 686.2584228515625, 621.3499755859375, 614.43359375, 611.1866455078125, 601.2755126953125, 589.3801879882812, 582.7313232421875, 575.3873901367188, 545.3897094726562, 539.73046875, 533.24951171875, 531.2938232421875, 510.39373779296875, 487.98565673828125, 472.31317138671875, 408.4017028808594, 400.6619567871094, 369.62054443359375, 366.4292297363281, 883.0191040039062, 1852.2869873046875, 1637.928466796875, 1065.8983154296875, 1272.783203125, 1354.3848876953125, 4820.63037109375, 2436.746337890625, 3776.546875, 1623.738037109375, 2078.443603515625, 3251.131591796875, 2581.29345703125, 13361.65234375, 2323.41845703125, 4590.14453125, 1647.8985595703125, 3437.802734375, 3775.810302734375, 1636.5023193359375, 2670.74951171875, 4696.69482421875, 8469.158203125, 2415.743408203125, 2417.654296875, 6271.6376953125, 3162.798583984375, 3247.3828125, 1283.2288818359375, 1170.507568359375, 801.8490600585938, 700.7667236328125, 673.5567626953125, 579.674072265625, 573.5481567382812, 566.0245971679688, 538.2033081054688, 536.6149291992188, 532.675537109375, 516.6028442382812, 508.4827575683594, 465.7842712402344, 462.2723693847656, 462.041015625, 447.4749450683594, 442.30718994140625, 433.84649658203125, 432.179931640625, 417.8367004394531, 393.0787048339844, 391.9044494628906, 389.755126953125, 349.5043640136719, 343.37384033203125, 343.046875, 338.24542236328125, 334.2536315917969, 326.8674011230469, 481.7860412597656, 1246.1773681640625, 755.5339965820312, 626.2023315429688, 486.9026184082031, 857.3485107421875, 2031.432373046875, 1739.857421875, 592.6517333984375, 1388.205322265625, 1076.92431640625, 6317.8388671875, 835.8864135742188, 2945.35498046875, 7082.85009765625, 1650.331787109375, 1518.9635009765625, 1380.275146484375, 975.2418823242188, 1474.7940673828125, 2131.739013671875, 1082.4609375, 808.8455810546875, 766.769775390625, 661.795654296875, 634.3397216796875, 627.3917846679688, 525.80078125, 525.3526611328125, 501.2268371582031, 479.3848876953125, 396.33856201171875, 395.25689697265625, 388.1298522949219, 367.6793212890625, 343.2625427246094, 336.81683349609375, 334.15008544921875, 291.5991516113281, 262.82281494140625, 260.4314880371094, 249.2963104248047, 244.2212371826172, 241.0955352783203, 239.21336364746094, 232.08380126953125, 229.16554260253906, 228.3731689453125, 224.61517333984375, 218.49124145507812, 431.43463134765625, 1161.4375, 1577.0433349609375, 757.7062377929688, 1308.6710205078125, 561.855224609375, 2640.448486328125, 2596.1708984375, 752.9404296875, 773.4405517578125, 1136.394775390625, 1380.275146484375, 996.49169921875, 759.9439086914062, 1305.55322265625, 843.1620483398438, 1185.10107421875, 7082.85009765625, 6317.8388671875, 5876.13671875, 1825.775146484375, 1650.331787109375, 1749.7841796875, 2632.277587890625, 3127.379150390625, 2226.13671875, 1664.526123046875, 1765.2816162109375, 1653.6790771484375, 991.39013671875, 880.31103515625, 748.1648559570312, 633.449951171875, 589.6294555664062, 497.30010986328125, 454.614013671875, 399.3521728515625, 384.29217529296875, 376.79327392578125, 338.7789611816406, 338.1878967285156, 325.29229736328125, 310.6746826171875, 302.89886474609375, 281.8975830078125, 281.38623046875, 274.7569885253906, 274.476806640625, 270.41375732421875, 265.0545349121094, 261.0213317871094, 255.9473114013672, 252.3333740234375, 248.40455627441406, 240.29415893554688, 227.23248291015625, 203.6709747314453, 202.54409790039062, 701.12353515625, 1317.961181640625, 1087.144775390625, 1526.4805908203125, 1042.958740234375, 417.8607177734375, 1029.8551025390625, 1342.77587890625, 656.3883056640625, 693.8831787109375, 1227.600830078125, 707.8079223632812, 377.9068603515625, 891.9556884765625, 1208.30810546875, 676.2975463867188, 2581.29345703125, 1164.6802978515625, 669.5930786132812, 2109.158203125, 677.0642700195312, 603.4619750976562, 523.0147094726562, 515.0138549804688, 489.0518493652344, 453.9767761230469, 428.9254455566406, 372.3836975097656, 341.31646728515625, 324.28851318359375, 308.9330139160156, 287.9200744628906, 272.8787841796875, 271.6829833984375, 264.5513916015625, 262.0458984375, 236.1758270263672, 234.15087890625, 233.46307373046875, 220.6830291748047, 217.9591522216797, 205.58401489257812, 202.53964233398438, 202.27427673339844, 193.36819458007812, 187.349365234375, 187.0377655029297, 181.9402313232422, 179.3001708984375, 369.2210998535156, 276.80181884765625, 1308.8831787109375, 1008.9072265625, 277.4820861816406, 451.1434326171875, 1677.994873046875, 449.957275390625, 1189.16943359375, 1493.1695556640625, 1739.857421875, 847.1847534179688, 1454.2784423828125, 3776.546875, 4820.63037109375, 558.6969604492188, 1518.9635009765625, 2670.74951171875, 1647.8985595703125, 2260.183349609375, 2012.9884033203125, 945.358154296875, 867.5411376953125, 776.1061401367188, 489.29193115234375, 468.5968933105469, 438.325927734375, 402.655029296875, 381.5610656738281, 370.6687927246094, 337.18408203125, 333.5111999511719, 317.3123474121094, 310.19207763671875, 305.0689697265625, 304.1484375, 298.4977722167969, 292.65081787109375, 287.94989013671875, 259.582763671875, 256.6333312988281, 250.49514770507812, 236.45068359375, 232.61093139648438, 216.37429809570312, 198.21914672851562, 193.8121795654297, 189.04151916503906, 186.1881103515625, 772.6426391601562, 511.94683837890625, 501.5329895019531, 256.9701232910156, 1227.600830078125, 847.1847534179688, 1337.8212890625, 1271.785400390625, 467.5810241699219, 1912.94580078125, 1240.9569091796875, 1173.850830078125, 596.5322265625, 1452.1407470703125, 1365.86865234375, 1043.3548583984375, 749.0852661132812, 577.2669677734375, 491.17999267578125, 469.3642272949219, 414.7369384765625, 395.95111083984375, 365.52655029296875, 341.67254638671875, 294.7276306152344, 291.6105041503906, 274.2857971191406, 264.53826904296875, 258.7240295410156, 238.94052124023438, 228.43069458007812, 227.19276428222656, 176.38275146484375, 172.55996704101562, 168.9958953857422, 163.78805541992188, 161.9601287841797, 154.3239288330078, 150.25279235839844, 149.20091247558594, 143.9030303955078, 143.35581970214844, 128.43568420410156, 359.5353088378906, 168.9773406982422, 3740.077392578125, 1274.44384765625, 2078.443603515625, 968.1480712890625, 929.9915161132812, 1771.8514404296875, 2083.381103515625, 1716.21875, 429.97705078125, 406.61724853515625, 319.518310546875, 277.22027587890625, 267.0704650878906, 216.8906707763672, 209.76963806152344, 176.3401641845703, 144.24241638183594, 142.39015197753906, 141.2280731201172, 124.72954559326172, 124.51378631591797, 123.0945053100586, 113.67743682861328, 111.60079956054688, 110.74070739746094, 105.8313217163086, 105.51492309570312, 101.83446502685547, 98.61700439453125, 98.33827209472656, 95.48506927490234, 94.24482727050781, 91.85806274414062, 91.44779205322266, 91.02637481689453, 88.35689544677734, 582.7520751953125, 188.3804931640625, 181.43252563476562, 173.45343017578125, 152.62017822265625, 95.73750305175781, 88.90055847167969, 75.14342498779297, 72.59778594970703, 69.05276489257812, 55.6213493347168, 50.474815368652344, 49.75625228881836, 44.0762939453125, 43.451133728027344, 37.4057502746582, 36.79399108886719, 35.5232048034668, 35.112098693847656, 35.00057601928711, 34.94688415527344, 33.99394226074219, 33.99394226074219, 33.99394226074219, 32.70180892944336, 32.614845275878906, 30.374435424804688, 24.85799217224121, 24.715152740478516, 24.33458137512207, 22.752798080444336, 83.92500305175781, 130.47207641601562, 377.9068603515625, 122.62017822265625], \"Category\": [\"Default\", \"Default\", \"Default\", \"Default\", \"Default\", \"Default\", \"Default\", \"Default\", \"Default\", \"Default\", \"Default\", \"Default\", \"Default\", \"Default\", \"Default\", \"Default\", \"Default\", \"Default\", \"Default\", \"Default\", \"Default\", \"Default\", \"Default\", \"Default\", \"Default\", \"Default\", \"Default\", \"Default\", \"Default\", \"Default\", \"Topic1\", \"Topic1\", \"Topic1\", \"Topic1\", \"Topic1\", \"Topic1\", \"Topic1\", \"Topic1\", \"Topic1\", \"Topic1\", \"Topic1\", \"Topic1\", \"Topic1\", \"Topic1\", \"Topic1\", \"Topic1\", \"Topic1\", \"Topic1\", \"Topic1\", \"Topic1\", \"Topic1\", \"Topic1\", \"Topic1\", \"Topic1\", \"Topic1\", \"Topic1\", \"Topic1\", \"Topic1\", \"Topic1\", \"Topic1\", \"Topic1\", \"Topic1\", \"Topic1\", \"Topic1\", \"Topic1\", \"Topic1\", \"Topic1\", \"Topic1\", \"Topic1\", \"Topic1\", \"Topic1\", \"Topic1\", \"Topic1\", \"Topic1\", \"Topic1\", \"Topic1\", \"Topic1\", \"Topic1\", \"Topic1\", \"Topic1\", \"Topic1\", \"Topic1\", \"Topic1\", \"Topic1\", \"Topic1\", \"Topic1\", \"Topic1\", \"Topic1\", \"Topic1\", \"Topic1\", \"Topic1\", \"Topic1\", \"Topic2\", \"Topic2\", \"Topic2\", \"Topic2\", \"Topic2\", \"Topic2\", \"Topic2\", \"Topic2\", \"Topic2\", \"Topic2\", \"Topic2\", \"Topic2\", \"Topic2\", \"Topic2\", \"Topic2\", \"Topic2\", \"Topic2\", \"Topic2\", \"Topic2\", \"Topic2\", \"Topic2\", \"Topic2\", \"Topic2\", \"Topic2\", \"Topic2\", \"Topic2\", \"Topic2\", \"Topic2\", \"Topic2\", \"Topic2\", \"Topic2\", \"Topic2\", \"Topic2\", \"Topic2\", \"Topic2\", \"Topic2\", \"Topic2\", \"Topic2\", \"Topic2\", \"Topic2\", \"Topic2\", \"Topic2\", \"Topic2\", \"Topic2\", \"Topic2\", \"Topic2\", \"Topic2\", \"Topic2\", \"Topic2\", \"Topic2\", \"Topic2\", \"Topic2\", \"Topic2\", \"Topic2\", \"Topic2\", \"Topic2\", \"Topic2\", \"Topic2\", \"Topic3\", \"Topic3\", \"Topic3\", \"Topic3\", \"Topic3\", \"Topic3\", \"Topic3\", \"Topic3\", \"Topic3\", \"Topic3\", \"Topic3\", \"Topic3\", \"Topic3\", \"Topic3\", \"Topic3\", \"Topic3\", \"Topic3\", \"Topic3\", \"Topic3\", \"Topic3\", \"Topic3\", \"Topic3\", \"Topic3\", \"Topic3\", \"Topic3\", \"Topic3\", \"Topic3\", \"Topic3\", \"Topic3\", \"Topic3\", \"Topic3\", \"Topic3\", \"Topic3\", \"Topic3\", \"Topic3\", \"Topic3\", \"Topic3\", \"Topic3\", \"Topic3\", \"Topic3\", \"Topic3\", \"Topic3\", \"Topic3\", \"Topic3\", \"Topic3\", \"Topic3\", \"Topic3\", \"Topic3\", \"Topic3\", \"Topic3\", \"Topic4\", \"Topic4\", \"Topic4\", \"Topic4\", \"Topic4\", \"Topic4\", \"Topic4\", \"Topic4\", \"Topic4\", \"Topic4\", \"Topic4\", \"Topic4\", \"Topic4\", \"Topic4\", \"Topic4\", \"Topic4\", \"Topic4\", \"Topic4\", \"Topic4\", \"Topic4\", \"Topic4\", \"Topic4\", \"Topic4\", \"Topic4\", \"Topic4\", \"Topic4\", \"Topic4\", \"Topic4\", \"Topic4\", \"Topic4\", \"Topic4\", \"Topic4\", \"Topic4\", \"Topic4\", \"Topic4\", \"Topic4\", \"Topic4\", \"Topic4\", \"Topic4\", \"Topic4\", \"Topic4\", \"Topic4\", \"Topic4\", \"Topic4\", \"Topic4\", \"Topic4\", \"Topic4\", \"Topic4\", \"Topic4\", \"Topic4\", \"Topic4\", \"Topic4\", \"Topic4\", \"Topic4\", \"Topic4\", \"Topic4\", \"Topic4\", \"Topic4\", \"Topic5\", \"Topic5\", \"Topic5\", \"Topic5\", \"Topic5\", \"Topic5\", \"Topic5\", \"Topic5\", \"Topic5\", \"Topic5\", \"Topic5\", \"Topic5\", \"Topic5\", \"Topic5\", \"Topic5\", \"Topic5\", \"Topic5\", \"Topic5\", \"Topic5\", \"Topic5\", \"Topic5\", \"Topic5\", \"Topic5\", \"Topic5\", \"Topic5\", \"Topic5\", \"Topic5\", \"Topic5\", \"Topic5\", \"Topic5\", \"Topic5\", \"Topic5\", \"Topic5\", \"Topic5\", \"Topic5\", \"Topic5\", \"Topic5\", \"Topic5\", \"Topic5\", \"Topic5\", \"Topic5\", \"Topic5\", \"Topic5\", \"Topic5\", \"Topic5\", \"Topic5\", \"Topic5\", \"Topic5\", \"Topic5\", \"Topic6\", \"Topic6\", \"Topic6\", \"Topic6\", \"Topic6\", \"Topic6\", \"Topic6\", \"Topic6\", \"Topic6\", \"Topic6\", \"Topic6\", \"Topic6\", \"Topic6\", \"Topic6\", \"Topic6\", \"Topic6\", \"Topic6\", \"Topic6\", \"Topic6\", \"Topic6\", \"Topic6\", \"Topic6\", \"Topic6\", \"Topic6\", \"Topic6\", \"Topic6\", \"Topic6\", \"Topic6\", \"Topic6\", \"Topic6\", \"Topic6\", \"Topic6\", \"Topic6\", \"Topic6\", \"Topic6\", \"Topic6\", \"Topic6\", \"Topic6\", \"Topic6\", \"Topic6\", \"Topic6\", \"Topic6\", \"Topic6\", \"Topic6\", \"Topic6\", \"Topic6\", \"Topic6\", \"Topic6\", \"Topic6\", \"Topic7\", \"Topic7\", \"Topic7\", \"Topic7\", \"Topic7\", \"Topic7\", \"Topic7\", \"Topic7\", \"Topic7\", \"Topic7\", \"Topic7\", \"Topic7\", \"Topic7\", \"Topic7\", \"Topic7\", \"Topic7\", \"Topic7\", \"Topic7\", \"Topic7\", \"Topic7\", \"Topic7\", \"Topic7\", \"Topic7\", \"Topic7\", \"Topic7\", \"Topic7\", \"Topic7\", \"Topic7\", \"Topic7\", \"Topic7\", \"Topic7\", \"Topic7\", \"Topic7\", \"Topic7\", \"Topic7\", \"Topic7\", \"Topic7\", \"Topic7\", \"Topic7\", \"Topic7\", \"Topic7\", \"Topic7\", \"Topic7\", \"Topic8\", \"Topic8\", \"Topic8\", \"Topic8\", \"Topic8\", \"Topic8\", \"Topic8\", \"Topic8\", \"Topic8\", \"Topic8\", \"Topic8\", \"Topic8\", \"Topic8\", \"Topic8\", \"Topic8\", \"Topic8\", \"Topic8\", \"Topic8\", \"Topic8\", \"Topic8\", \"Topic8\", \"Topic8\", \"Topic8\", \"Topic8\", \"Topic8\", \"Topic8\", \"Topic8\", \"Topic8\", \"Topic8\", \"Topic8\", \"Topic8\", \"Topic8\", \"Topic8\", \"Topic8\", \"Topic8\", \"Topic8\", \"Topic8\", \"Topic8\", \"Topic9\", \"Topic9\", \"Topic9\", \"Topic9\", \"Topic9\", \"Topic9\", \"Topic9\", \"Topic9\", \"Topic9\", \"Topic9\", \"Topic9\", \"Topic9\", \"Topic9\", \"Topic9\", \"Topic9\", \"Topic9\", \"Topic9\", \"Topic9\", \"Topic9\", \"Topic9\", \"Topic9\", \"Topic9\", \"Topic9\", \"Topic9\", \"Topic9\", \"Topic9\", \"Topic9\", \"Topic9\", \"Topic9\", \"Topic9\", \"Topic9\", \"Topic10\", \"Topic10\", \"Topic10\", \"Topic10\", \"Topic10\", \"Topic10\", \"Topic10\", \"Topic10\", \"Topic10\", \"Topic10\", \"Topic10\", \"Topic10\", \"Topic10\", \"Topic10\", \"Topic10\", \"Topic10\", \"Topic10\", \"Topic10\", \"Topic10\", \"Topic10\", \"Topic10\", \"Topic10\", \"Topic10\", \"Topic10\", \"Topic10\", \"Topic10\", \"Topic10\", \"Topic10\", \"Topic10\", \"Topic10\", \"Topic10\", \"Topic10\", \"Topic10\", \"Topic10\"], \"logprob\": [30.0, 29.0, 28.0, 27.0, 26.0, 25.0, 24.0, 23.0, 22.0, 21.0, 20.0, 19.0, 18.0, 17.0, 16.0, 15.0, 14.0, 13.0, 12.0, 11.0, 10.0, 9.0, 8.0, 7.0, 6.0, 5.0, 4.0, 3.0, 2.0, 1.0, -4.209099769592285, -5.125100135803223, -5.0609002113342285, -5.469399929046631, -5.52869987487793, -5.565899848937988, -5.63040018081665, -5.460400104522705, -5.7316999435424805, -5.810699939727783, -5.861599922180176, -5.864799976348877, -5.9095001220703125, -5.990200042724609, -5.323999881744385, -6.015600204467773, -6.105100154876709, -6.216599941253662, -6.341300010681152, -6.3769001960754395, -6.4608001708984375, -4.801700115203857, -6.533699989318848, -6.534299850463867, -6.540900230407715, -6.627799987792969, -6.655799865722656, -6.6905999183654785, -6.691999912261963, -6.701399803161621, -3.6684999465942383, -4.114699840545654, -4.384500026702881, -5.253300189971924, -4.429999828338623, -5.317200183868408, -4.688499927520752, -5.283999919891357, -3.6501998901367188, -4.2347002029418945, -4.196400165557861, -5.532299995422363, -4.728499889373779, -4.150700092315674, -4.459000110626221, -4.7855000495910645, -4.789400100708008, -4.9039998054504395, -4.916399955749512, -5.009500026702881, -5.1793999671936035, -4.9527997970581055, -5.024899959564209, -4.451200008392334, -4.4141998291015625, -4.307700157165527, -4.93720006942749, -5.076099872589111, -4.259799957275391, -4.784299850463867, -5.02869987487793, -4.9653000831604, -4.410799980163574, -5.0121002197265625, -5.220699787139893, -5.299499988555908, -5.397200107574463, -5.415800094604492, -5.558000087738037, -5.610099792480469, -5.617599964141846, -5.711299896240234, -5.712200164794922, -5.7494001388549805, -5.848899841308594, -5.860199928283691, -5.865499973297119, -5.881800174713135, -5.901899814605713, -5.9131999015808105, -5.925899982452393, -5.979599952697754, -5.989999771118164, -6.002099990844727, -6.005799770355225, -6.046000003814697, -6.091000080108643, -6.123700141906738, -6.269400119781494, -6.288599967956543, -6.3694000244140625, -6.3780999183654785, -5.515100002288818, -4.791999816894531, -4.94350004196167, -5.3520002365112305, -5.184999942779541, -5.139999866485596, -3.9911999702453613, -4.621300220489502, -4.232399940490723, -5.013500213623047, -4.814499855041504, -4.491700172424316, -4.686800003051758, -3.352299928665161, -4.78380012512207, -4.241700172424316, -5.079500198364258, -4.548600196838379, -4.621099948883057, -5.200500011444092, -4.9471001625061035, -4.628200054168701, -4.301400184631348, -5.051499843597412, -5.111499786376953, -4.9928998947143555, -5.174600124359131, -5.192800045013428, -4.613900184631348, -4.705900192260742, -5.08459997177124, -5.2195000648498535, -5.259099960327148, -5.4095001220703125, -5.420100212097168, -5.433300018310547, -5.483799934387207, -5.486800193786621, -5.494200229644775, -5.524899959564209, -5.540800094604492, -5.628600120544434, -5.636199951171875, -5.63670015335083, -5.668799877166748, -5.680500030517578, -5.69980001449585, -5.703700065612793, -5.737500190734863, -5.798699855804443, -5.801700115203857, -5.807300090789795, -5.916500091552734, -5.934299945831299, -5.935299873352051, -5.949399948120117, -5.961299896240234, -5.983699798583984, -5.614699840545654, -4.776199817657471, -5.230999946594238, -5.415999889373779, -5.632699966430664, -5.162300109863281, -4.453100204467773, -4.682400226593018, -5.507999897003174, -4.960599899291992, -5.145199775695801, -4.104400157928467, -5.366399765014648, -4.8028998374938965, -5.2657999992370605, -5.472599983215332, -5.505899906158447, -5.523799896240234, -5.5655999183654785, -5.563899993896484, -3.958899974822998, -4.63700008392334, -4.928699970245361, -4.9822001457214355, -5.129700183868408, -5.172100067138672, -5.18310022354126, -5.360099792480469, -5.360899925231934, -5.4079999923706055, -5.452700138092041, -5.643400192260742, -5.646100044250488, -5.664299964904785, -5.718599796295166, -5.787499904632568, -5.80649995803833, -5.814499855041504, -5.951200008392334, -6.0553998947143555, -6.064599990844727, -6.108500003814697, -6.1290998458862305, -6.142099857330322, -6.149899959564209, -6.180300235748291, -6.192999839782715, -6.196499824523926, -6.213200092315674, -6.240900039672852, -5.599400043487549, -4.690800189971924, -4.410600185394287, -5.116099834442139, -4.658899784088135, -5.432199954986572, -4.14139986038208, -4.186500072479248, -5.203199863433838, -5.198400020599365, -4.923799991607666, -4.862400054931641, -5.1097002029418945, -5.295400142669678, -5.062300205230713, -5.316299915313721, -5.158999919891357, -4.36299991607666, -4.448200225830078, -4.560999870300293, -5.0447998046875, -5.095600128173828, -5.082900047302246, -4.973499774932861, -4.948500156402588, -5.101200103759766, -5.171899795532227, -5.202199935913086, -3.805500030517578, -4.317500114440918, -4.436500072479248, -4.599299907684326, -4.765999794006348, -4.837800025939941, -5.008399963378906, -5.098299980163574, -5.2281999588012695, -5.2667999267578125, -5.286499977111816, -5.393199920654297, -5.394899845123291, -5.433899879455566, -5.480100154876709, -5.505499839782715, -5.577600002288818, -5.579400062561035, -5.603300094604492, -5.604400157928467, -5.61929988861084, -5.639400005340576, -5.654799938201904, -5.674499988555908, -5.688799858093262, -5.704500198364258, -5.7378997802734375, -5.794000148773193, -5.9039998054504395, -5.9095001220703125, -4.689000129699707, -4.331500053405762, -4.521200180053711, -4.25629997253418, -4.601500034332275, -5.315100193023682, -4.6656999588012695, -4.495699882507324, -5.0269999504089355, -5.0395002365112305, -4.773399829864502, -5.094099998474121, -5.4421000480651855, -5.0578999519348145, -4.988699913024902, -5.230000019073486, -4.823400020599365, -5.115699768066406, -5.32480001449585, -3.402899980545044, -4.54010009765625, -4.655399799346924, -4.798699855804443, -4.814199924468994, -4.866000175476074, -4.9405999183654785, -4.997499942779541, -5.139200210571289, -5.226500034332275, -5.277900218963623, -5.326499938964844, -5.397200107574463, -5.451099872589111, -5.45550012588501, -5.4822001457214355, -5.491700172424316, -5.596099853515625, -5.604700088500977, -5.607699871063232, -5.6641998291015625, -5.676700115203857, -5.735400199890137, -5.750400066375732, -5.751699924468994, -5.796999931335449, -5.828800201416016, -5.830399990081787, -5.8582000732421875, -5.872900009155273, -5.190299987792969, -5.476200103759766, -4.206900119781494, -4.597300052642822, -5.54610013961792, -5.237299919128418, -4.473499774932861, -5.305300235748291, -4.79610013961792, -4.735300064086914, -4.761899948120117, -5.089300155639648, -4.880799770355225, -4.576900005340576, -4.52839994430542, -5.359000205993652, -5.337200164794922, -5.320199966430664, -5.3684000968933105, -3.049799919128418, -3.1656999588012695, -3.922100067138672, -4.007999897003174, -4.11959981918335, -4.581600189208984, -4.624899864196777, -4.69189977645874, -4.776899814605713, -4.830900192260742, -4.859899997711182, -4.954899787902832, -4.965799808502197, -5.0157999992370605, -5.03849983215332, -5.055300235748291, -5.058300018310547, -5.077099800109863, -5.09689998626709, -5.1132001876831055, -5.217299938201904, -5.228700160980225, -5.252999782562256, -5.310999870300293, -5.327400207519531, -5.400100231170654, -5.488100051879883, -5.510700225830078, -5.535799980163574, -5.55109977722168, -4.351200103759766, -4.74370002746582, -4.775199890136719, -5.290800094604492, -4.377500057220459, -4.650300025939941, -4.502399921417236, -4.539299964904785, -4.997700214385986, -4.455599784851074, -4.672900199890137, -4.696199893951416, -5.026899814605713, -3.0025999546051025, -3.0638999938964844, -3.3334999084472656, -3.6651999950408936, -3.9261999130249023, -4.0879998207092285, -4.133500099182129, -4.257500171661377, -4.303999900817871, -4.384099960327148, -4.4517998695373535, -4.600100040435791, -4.610799789428711, -4.6722002029418945, -4.708600044250488, -4.730899810791016, -4.810699939727783, -4.855899810791016, -4.861400127410889, -5.115799903869629, -5.137800216674805, -5.15880012512207, -5.190299987792969, -5.201600074768066, -5.250199794769287, -5.277100086212158, -5.284200191497803, -5.3206000328063965, -5.324399948120117, -5.435200214385986, -4.565800189971924, -5.238999843597412, -3.76419997215271, -4.508999824523926, -4.477099895477295, -4.769700050354004, -5.037199974060059, -5.007500171661377, -2.1974000930786133, -2.3912999629974365, -3.7771999835968018, -3.8331000804901123, -4.074900150299072, -4.217299938201904, -4.254700183868408, -4.463699817657471, -4.497200012207031, -4.6717000007629395, -4.873799800872803, -4.886899948120117, -4.895100116729736, -5.020199775695801, -5.021999835968018, -5.0335001945495605, -5.113800048828125, -5.132400035858154, -5.140200138092041, -5.1859002113342285, -5.189000129699707, -5.224800109863281, -5.257199764251709, -5.2600998878479, -5.28980016708374, -5.302999973297119, -5.32889986038208, -5.333499908447266, -5.338099956512451, -5.368199825286865, -3.7188000679016113, -3.4516000747680664, -3.4893999099731445, -3.534600019454956, -3.6633999347686768, -4.133699893951416, -4.208600044250488, -4.378900051116943, -4.41379976272583, -4.464600086212158, -4.684599876403809, -4.783599853515625, -4.7982001304626465, -4.922100067138672, -4.936699867248535, -5.0904998779296875, -5.107399940490723, -5.143599987030029, -5.155600070953369, -5.15880012512207, -5.1605000495910645, -5.188899993896484, -5.188899993896484, -5.188899993896484, -5.228899955749512, -5.231599807739258, -5.305200099945068, -5.513400077819824, -5.519400119781494, -5.535600185394287, -5.605899810791016, -4.791600227355957, -4.873600006103516, -4.671500205993652, -5.108699798583984], \"loglift\": [30.0, 29.0, 28.0, 27.0, 26.0, 25.0, 24.0, 23.0, 22.0, 21.0, 20.0, 19.0, 18.0, 17.0, 16.0, 15.0, 14.0, 13.0, 12.0, 11.0, 10.0, 9.0, 8.0, 7.0, 6.0, 5.0, 4.0, 3.0, 2.0, 1.0, 0.9879999756813049, 0.9876999855041504, 0.9876999855041504, 0.9876000285148621, 0.987500011920929, 0.987500011920929, 0.987500011920929, 0.9873999953269958, 0.9873999953269958, 0.9872999787330627, 0.9872999787330627, 0.9872999787330627, 0.9872999787330627, 0.9872000217437744, 0.9872000217437744, 0.9872000217437744, 0.9871000051498413, 0.9868999719619751, 0.9868000149726868, 0.9866999983787537, 0.9865999817848206, 0.9865999817848206, 0.9865000247955322, 0.9865000247955322, 0.9865000247955322, 0.986299991607666, 0.986299991607666, 0.9861999750137329, 0.9861999750137329, 0.9861999750137329, 0.9854999780654907, 0.9848999977111816, 0.9839000105857849, 0.9847000241279602, 0.9760000109672546, 0.9847000241279602, 0.9736999869346619, 0.9772999882698059, 0.9591000080108643, 0.9509000182151794, 0.9333999752998352, 0.9668999910354614, 0.9416000247001648, 0.9103999733924866, 0.910099983215332, 0.9247999787330627, 0.9035000205039978, 0.906000018119812, 0.9025999903678894, 0.9050999879837036, 0.9223999977111816, 0.8747000098228455, 0.8870000243186951, 0.7228999733924866, 0.6381999850273132, 0.5659999847412109, 0.7610999941825867, 0.8370000123977661, 0.15790000557899475, 0.45500001311302185, 0.7138000130653381, 0.2013999968767166, 1.638200044631958, 1.6378999948501587, 1.6377999782562256, 1.6376999616622925, 1.6375999450683594, 1.6375999450683594, 1.6374000310897827, 1.6374000310897827, 1.6374000310897827, 1.6371999979019165, 1.6371999979019165, 1.6371999979019165, 1.6369999647140503, 1.6369999647140503, 1.6369999647140503, 1.6369999647140503, 1.6368999481201172, 1.6368999481201172, 1.6368999481201172, 1.6368000507354736, 1.6368000507354736, 1.6368000507354736, 1.6368000507354736, 1.6367000341415405, 1.6366000175476074, 1.6365000009536743, 1.636199951171875, 1.636199951171875, 1.6360000371932983, 1.6359000205993652, 1.6195000410079956, 1.601699948310852, 1.573199987411499, 1.5943000316619873, 1.583899974822998, 1.5667999982833862, 1.4459999799728394, 1.4982000589370728, 1.4488999843597412, 1.5118999481201172, 1.4639999866485596, 1.339400053024292, 1.375100016593933, 1.0654000043869019, 1.3832999467849731, 1.2445000410079956, 1.4311000108718872, 1.226699948310852, 1.0604000091552734, 1.3171000480651855, 1.0807000398635864, 0.8349999785423279, 0.5723000168800354, 1.0765999555587769, 1.0157999992370605, 0.181099995970726, 0.6840000152587891, 0.6395000219345093, 2.146899938583374, 2.1468000411987305, 2.146399974822998, 2.146199941635132, 2.146199941635132, 2.145900011062622, 2.145900011062622, 2.145900011062622, 2.1458001136779785, 2.1458001136779785, 2.1458001136779785, 2.145699977874756, 2.145699977874756, 2.1454999446868896, 2.1454999446868896, 2.1454999446868896, 2.145400047302246, 2.145400047302246, 2.145400047302246, 2.1452999114990234, 2.1452999114990234, 2.1451001167297363, 2.1451001167297363, 2.1451001167297363, 2.1447999477386475, 2.1447999477386475, 2.1447999477386475, 2.144700050354004, 2.144700050354004, 2.1445999145507812, 2.1256000995635986, 2.0137999057769775, 2.059499979019165, 2.0622000694274902, 2.097100019454956, 2.001699924468994, 1.8482999801635742, 1.7740000486373901, 2.0253000259399414, 1.721500039100647, 1.7907999753952026, 1.0622999668121338, 1.8229999542236328, 1.1269999742507935, -0.21330000460147858, 1.0364999771118164, 1.0861999988555908, 1.1640000343322754, 1.469499945640564, 1.0577000379562378, 2.294300079345703, 2.293800115585327, 2.2934999465942383, 2.2934999465942383, 2.2932000160217285, 2.2932000160217285, 2.2932000160217285, 2.2929000854492188, 2.2929000854492188, 2.292799949645996, 2.2927000522613525, 2.2922000885009766, 2.2922000885009766, 2.2922000885009766, 2.2920000553131104, 2.291800022125244, 2.291800022125244, 2.291800022125244, 2.291300058364868, 2.2909998893737793, 2.2908999919891357, 2.2906999588012695, 2.2906999588012695, 2.290600061416626, 2.290600061416626, 2.2904000282287598, 2.2904000282287598, 2.2904000282287598, 2.290299892425537, 2.2901999950408936, 2.2513999938964844, 2.1696999073028564, 2.1440000534057617, 2.1714000701904297, 2.082200050354004, 2.1545000076293945, 1.8977999687194824, 1.8696000576019287, 2.0906999111175537, 2.0685999393463135, 1.9585000276565552, 1.8253999948501587, 1.9039000272750854, 1.9891999959945679, 1.6811000108718872, 1.864400029182434, 1.6813000440597534, 0.6894999742507935, 0.7185999751091003, 0.6783000230789185, 1.3633999824523926, 1.413599967956543, 1.3676999807357788, 1.0686999559402466, 0.9214000105857849, 1.1087000370025635, 1.3286000490188599, 1.2395999431610107, 2.70169997215271, 2.7012999057769775, 2.7011001110076904, 2.700900077819824, 2.700700044631958, 2.7005999088287354, 2.7002999782562256, 2.7000999450683594, 2.6998000144958496, 2.699700117111206, 2.6995999813079834, 2.6993000507354736, 2.6993000507354736, 2.699199914932251, 2.6991000175476074, 2.6989998817443848, 2.698699951171875, 2.698699951171875, 2.698699951171875, 2.698699951171875, 2.6986000537872314, 2.698499917984009, 2.698499917984009, 2.6984000205993652, 2.6982998847961426, 2.6982998847961426, 2.6981000900268555, 2.6979000568389893, 2.6974000930786133, 2.6974000930786133, 2.6761999130249023, 2.4024999141693115, 2.405400037765503, 2.330899953842163, 2.366499900817871, 2.5676000118255615, 2.315000057220459, 2.2197000980377197, 2.404099941253662, 2.3361001014709473, 2.0316998958587646, 2.2616000175476074, 2.5411999225616455, 2.0666000843048096, 1.832200050354004, 2.1712000370025635, 1.2383999824523926, 1.7419999837875366, 2.086400032043457, 2.8608999252319336, 2.859999895095825, 2.859800100326538, 2.859499931335449, 2.859499931335449, 2.8594000339508057, 2.8592000007629395, 2.859100103378296, 2.858799934387207, 2.8585000038146973, 2.8584001064300537, 2.8582000732421875, 2.8580000400543213, 2.857800006866455, 2.857800006866455, 2.8577001094818115, 2.857599973678589, 2.8571999073028564, 2.8571999073028564, 2.8571999073028564, 2.8568999767303467, 2.8568999767303467, 2.856600046157837, 2.8564999103546143, 2.8564999103546143, 2.856300115585327, 2.856100082397461, 2.856100082397461, 2.8559999465942383, 2.8559000492095947, 2.816200017929077, 2.8183999061584473, 2.5339999198913574, 2.403899908065796, 2.746000051498413, 2.5687999725341797, 2.0190000534057617, 2.5034000873565674, 2.0406999588012695, 1.873900055885315, 1.6943999528884888, 2.086699962615967, 1.7547999620437622, 1.1044000387191772, 0.9088000059127808, 2.233299970626831, 1.2548999786376953, 0.7074999809265137, 1.142300009727478, 3.1447999477386475, 3.1447999477386475, 3.144200086593628, 3.144200086593628, 3.1440000534057617, 3.1433000564575195, 3.143199920654297, 3.1431000232696533, 3.142899990081787, 3.142699956893921, 3.1426000595092773, 3.142400026321411, 3.142400026321411, 3.142199993133545, 3.1421000957489014, 3.1421000957489014, 3.1421000957489014, 3.1419999599456787, 3.141900062561035, 3.141900062561035, 3.1414999961853027, 3.1414999961853027, 3.141400098800659, 3.1410999298095703, 3.1410999298095703, 3.1407999992370605, 3.1403000354766846, 3.140199899673462, 3.1401000022888184, 3.140000104904175, 2.9168999195098877, 2.936000108718872, 2.924999952316284, 3.0780999660491943, 2.4275999069213867, 2.525700092315674, 2.2167000770568848, 2.2304000854492188, 2.772599935531616, 1.905900001525879, 2.1214001178741455, 2.153700113296509, 2.499799966812134, 3.634399890899658, 3.634399890899658, 3.634200096130371, 3.6338000297546387, 3.6333999633789062, 3.6331000328063965, 3.632999897003174, 3.632699966430664, 3.6326000690460205, 3.6324000358581543, 3.632200002670288, 3.631700038909912, 3.631700038909912, 3.631500005722046, 3.6312999725341797, 3.631200075149536, 3.6308999061584473, 3.63070011138916, 3.63070011138916, 3.6294000148773193, 3.629300117492676, 3.629199981689453, 3.628999948501587, 3.6289000511169434, 3.6285998821258545, 3.6284000873565674, 3.6284000873565674, 3.6280999183654785, 3.6280999183654785, 3.6273000240325928, 3.4672000408172607, 3.549099922180176, 1.926800012588501, 2.2585999965667725, 1.8013999462127686, 2.272700071334839, 2.0455000400543213, 1.4306000471115112, 4.078800201416016, 4.078700065612793, 4.077000141143799, 4.076900005340576, 4.076200008392334, 4.075699806213379, 4.0756001472473145, 4.07480001449585, 4.0746002197265625, 4.073800086975098, 4.072500228881836, 4.072400093078613, 4.072400093078613, 4.071499824523926, 4.071499824523926, 4.071400165557861, 4.070700168609619, 4.0706000328063965, 4.070499897003174, 4.070099830627441, 4.070099830627441, 4.069699764251709, 4.069399833679199, 4.069399833679199, 4.0690999031066895, 4.068999767303467, 4.068699836730957, 4.068600177764893, 4.068600177764893, 4.068299770355225, 3.8313000202178955, 5.227799892425537, 5.22760009765625, 5.227399826049805, 5.226600170135498, 5.222599983215332, 5.221700191497803, 5.219600200653076, 5.219099998474121, 5.218400001525879, 5.214700222015381, 5.212800025939941, 5.212500095367432, 5.209799766540527, 5.209499835968018, 5.205599784851074, 5.205100059509277, 5.204100131988525, 5.203700065612793, 5.203700065612793, 5.20359992980957, 5.2027997970581055, 5.2027997970581055, 5.2027997970581055, 5.201600074768066, 5.201499938964844, 5.199100017547607, 5.191299915313721, 5.191100120544434, 5.190400123596191, 5.187300205230713, 4.696300029754639, 4.173099994659424, 3.3117001056671143, 4.000100135803223]}, \"token.table\": {\"Topic\": [2, 3, 4, 1, 1, 2, 6, 2, 6, 5, 1, 2, 3, 4, 5, 6, 7, 3, 4, 6, 2, 7, 2, 10, 2, 3, 5, 4, 10, 1, 2, 4, 4, 4, 3, 3, 6, 6, 2, 6, 7, 8, 9, 1, 3, 1, 8, 4, 1, 4, 10, 1, 5, 1, 2, 6, 7, 8, 7, 1, 2, 3, 6, 3, 2, 4, 2, 9, 1, 2, 5, 6, 7, 3, 5, 7, 5, 2, 5, 7, 2, 8, 7, 1, 2, 4, 5, 2, 1, 3, 5, 9, 8, 10, 2, 2, 5, 3, 4, 2, 6, 7, 4, 4, 4, 10, 3, 1, 3, 4, 7, 6, 8, 8, 2, 7, 10, 1, 2, 1, 3, 4, 5, 6, 1, 9, 2, 6, 4, 2, 4, 10, 5, 10, 9, 5, 5, 2, 7, 5, 1, 2, 3, 1, 3, 4, 5, 6, 8, 3, 5, 10, 6, 7, 1, 5, 3, 4, 9, 2, 5, 6, 7, 1, 6, 7, 6, 7, 9, 6, 1, 3, 3, 2, 2, 7, 2, 5, 3, 8, 2, 5, 2, 3, 9, 3, 1, 2, 6, 6, 5, 1, 7, 7, 9, 3, 10, 1, 3, 4, 1, 4, 4, 2, 4, 7, 4, 9, 5, 1, 4, 1, 3, 4, 5, 4, 4, 8, 6, 9, 7, 9, 1, 2, 3, 4, 3, 1, 3, 6, 7, 8, 1, 2, 3, 4, 7, 3, 3, 7, 10, 10, 5, 8, 8, 10, 1, 2, 9, 1, 2, 3, 4, 1, 9, 1, 2, 3, 6, 2, 1, 3, 5, 1, 3, 1, 10, 8, 1, 1, 2, 3, 1, 2, 5, 6, 8, 1, 9, 8, 1, 2, 1, 2, 3, 4, 6, 3, 4, 8, 8, 7, 6, 6, 2, 3, 4, 6, 7, 1, 3, 5, 6, 6, 2, 2, 6, 7, 2, 7, 2, 5, 2, 5, 7, 8, 9, 3, 1, 2, 3, 4, 6, 1, 6, 10, 3, 1, 1, 2, 4, 7, 3, 1, 2, 3, 5, 1, 3, 8, 5, 3, 4, 1, 3, 4, 5, 8, 1, 8, 3, 1, 4, 5, 6, 1, 7, 5, 6, 1, 5, 1, 2, 9, 6, 2, 6, 8, 1, 1, 3, 4, 1, 2, 1, 8, 5, 2, 2, 6, 1, 2, 3, 4, 1, 3, 4, 1, 2, 3, 4, 6, 7, 9, 10, 9, 1, 2, 4, 6, 1, 1, 4, 10, 3, 2, 1, 2, 6, 5, 3, 7, 2, 5, 2, 4, 4, 7, 7, 5, 9, 7, 1, 2, 5, 3, 1, 2, 3, 4, 6, 4, 1, 2, 6, 1, 3, 1, 2, 5, 6, 1, 2, 8, 2, 1, 2, 3, 6, 2, 4, 10, 8, 5, 1, 2, 2, 7, 2, 2, 3, 7, 6, 1, 3, 5, 8, 1, 3, 4, 6, 6, 3, 8, 9, 9, 1, 2, 3, 8, 8, 8, 1, 4, 7, 2, 1, 3, 4, 5, 10, 1, 2, 5, 10, 7, 7, 6, 1, 2, 4, 3, 10, 7, 7, 6, 1, 4, 2, 4, 6, 7, 3, 6, 10, 1, 2, 4, 5, 5, 5, 3, 4, 1, 1, 4, 5, 10, 4, 4, 4, 10, 1, 1, 2, 10, 2, 3, 6, 7, 4, 5, 1, 3, 6, 3, 6, 5, 10, 1, 2, 9, 7, 1, 3, 4, 2, 4, 5, 1, 9, 2, 4, 7, 8, 6, 6, 6, 6, 1, 2, 4, 1, 2, 4, 7, 2, 5, 2, 3, 6, 1, 4, 10, 2, 2, 3, 4, 7, 3, 7, 3, 9, 4, 2, 3, 10, 3, 8, 2, 3, 2, 7, 10, 3, 2, 8, 10, 2, 3, 4, 7, 5, 7, 9, 8, 1, 2, 9, 1, 2, 3, 4, 6, 1, 2, 3, 9, 10, 1, 2, 6, 2, 6, 1, 3, 9, 6, 5, 4, 8, 2, 6, 6, 1, 5, 6, 7, 2, 4, 1, 4, 1, 4, 1, 2, 3, 6, 3, 8, 9, 3, 1, 2, 4, 4, 10, 2, 6, 10, 10, 8, 7, 8, 2, 4, 6, 4, 5, 2, 1, 2, 4, 3, 10, 10, 7, 6, 8, 1, 2, 3, 6, 8, 1, 2, 3, 4, 3, 1, 2, 1, 2, 7, 8, 3, 3, 4, 1, 2, 4, 1, 2, 3, 5, 6, 1, 2, 9, 1, 2, 1, 3, 5, 8, 9, 9], \"Freq\": [0.15256504714488983, 0.04783819615840912, 0.7977342009544373, 0.9986867308616638, 0.9990009069442749, 0.9569393396377563, 0.042217910289764404, 0.9978273510932922, 0.9979157447814941, 0.9967055916786194, 0.3717508018016815, 0.4477616846561432, 0.04364771395921707, 0.08942458778619766, 0.004045397974550724, 0.03598275035619736, 0.007452048826962709, 0.9980625510215759, 0.9949994683265686, 0.9974861145019531, 0.20319873094558716, 0.795969545841217, 0.9975887537002563, 0.9707611799240112, 0.3158190846443176, 0.5075663924217224, 0.17636650800704956, 0.9989960789680481, 0.991620659828186, 0.9968225359916687, 0.003108132630586624, 0.9931748509407043, 0.994503378868103, 0.9977816343307495, 0.9962494373321533, 0.9159085154533386, 0.08338472992181778, 0.9948322176933289, 0.4285314083099365, 0.17062626779079437, 0.4002247452735901, 0.9951885938644409, 0.9993370771408081, 0.9991909861564636, 0.0004971099551767111, 0.9995904564857483, 0.996063768863678, 0.9978880286216736, 0.3458940386772156, 0.6536549925804138, 0.9755811095237732, 0.9981556534767151, 0.9977110028266907, 0.00303416745737195, 0.8125500082969666, 0.1790158748626709, 0.00485466793179512, 0.991951048374176, 0.9973735809326172, 0.24669009447097778, 0.02222433313727379, 0.028891632333397865, 0.7000664472579956, 0.9973463416099548, 0.4581887722015381, 0.5417259335517883, 0.9965678453445435, 0.9983778595924377, 0.18060216307640076, 0.19678820669651031, 0.2419387549161911, 0.009370867162942886, 0.3705751895904541, 0.09371268004179001, 0.10168822854757309, 0.8015424609184265, 0.9973856806755066, 0.38204440474510193, 0.617377758026123, 0.9938647747039795, 0.8395705223083496, 0.15973490476608276, 0.9977549910545349, 0.030799156054854393, 0.25431302189826965, 0.714540421962738, 0.9995893239974976, 0.9996517896652222, 0.9975643157958984, 0.9182335734367371, 0.07984639704227448, 0.9921448230743408, 0.9972015619277954, 0.984754204750061, 0.9979801774024963, 0.02424679696559906, 0.9741507172584534, 0.8746748566627502, 0.12438036501407623, 0.5592138171195984, 0.43980276584625244, 0.9985747337341309, 0.9971111416816711, 0.9968693256378174, 0.9974252581596375, 0.9959364533424377, 0.9967038631439209, 0.11413763463497162, 0.025363920256495476, 0.8598368763923645, 0.9977761507034302, 0.997848391532898, 0.9937247037887573, 0.991421103477478, 0.998911440372467, 0.9962241053581238, 0.9683271646499634, 0.6556732058525085, 0.34430813789367676, 0.9543797969818115, 0.008378643542528152, 0.03691839799284935, 0.9972448945045471, 0.995021402835846, 0.9987539052963257, 0.9958934783935547, 0.9303116202354431, 0.06866585463285446, 0.9975523352622986, 0.9972196817398071, 0.9979453086853027, 0.9888289570808411, 0.9977006912231445, 0.9547502398490906, 0.9906588196754456, 0.9947158098220825, 0.9964874386787415, 0.9807262420654297, 0.018119653686881065, 0.9985978007316589, 0.9856047630310059, 0.014028111472725868, 0.9989058971405029, 0.9982991218566895, 0.3375184237957001, 0.0343492217361927, 0.5406268835067749, 0.0881132185459137, 0.9985594749450684, 0.997247576713562, 0.9946142435073853, 0.9714125990867615, 0.4603482186794281, 0.5382533073425293, 0.9986214637756348, 0.9970324635505676, 0.8642926216125488, 0.135300874710083, 0.988724410533905, 0.07487907260656357, 0.6442425847053528, 0.202032208442688, 0.07911750674247742, 0.06871429085731506, 0.7469907999038696, 0.18176037073135376, 0.5333839654922485, 0.4653685688972473, 0.9984819889068604, 0.996804416179657, 0.2763533294200897, 0.7225862145423889, 0.9969483017921448, 0.9981662631034851, 0.4744085669517517, 0.5246992111206055, 0.9975647926330566, 0.9973136782646179, 0.07693339139223099, 0.91728276014328, 0.768219530582428, 0.2312794029712677, 0.9993503093719482, 0.9988540410995483, 0.9841681122779846, 0.9976921677589417, 0.998699426651001, 0.9994117021560669, 0.9978424310684204, 0.9975773692131042, 0.9986493587493896, 0.9994405508041382, 0.9993762373924255, 0.9980233311653137, 0.9940407276153564, 0.6438159346580505, 0.3449013829231262, 0.9179790616035461, 0.017624225467443466, 0.06411571800708771, 0.9991177916526794, 0.9996533393859863, 0.9954560399055481, 0.18339215219020844, 0.8084537386894226, 0.007641339674592018, 0.9970889687538147, 0.9949199557304382, 0.9946195483207703, 0.2618614435195923, 0.7368965148925781, 0.4080503284931183, 0.19602417945861816, 0.3954773545265198, 0.9978946447372437, 0.9986503720283508, 0.9949139952659607, 0.9975979328155518, 0.9971592426300049, 0.9958736300468445, 0.9995089769363403, 0.9941509962081909, 0.5245354771614075, 0.38510197401046753, 0.0015808783937245607, 0.08884536474943161, 0.9990442991256714, 0.8596931099891663, 0.04840990528464317, 0.016025347635149956, 0.042734257876873016, 0.03305228054523468, 0.049850404262542725, 0.48490846157073975, 0.04305262118577957, 0.34838634729385376, 0.07307615876197815, 0.998556911945343, 0.9989411234855652, 0.9987261891365051, 0.9624188542366028, 0.970781147480011, 0.994576096534729, 0.9993640184402466, 0.9979064464569092, 0.9917657971382141, 0.7671042680740356, 0.23279406130313873, 0.9937434196472168, 0.9212967157363892, 0.024997590109705925, 0.007228218950331211, 0.04607989639043808, 0.999868631362915, 0.9911084175109863, 0.9878897666931152, 0.011863524094223976, 0.6879873871803284, 0.3115197718143463, 0.997451901435852, 0.9991013407707214, 0.12444338202476501, 0.8734967708587646, 0.9980547428131104, 0.9990423321723938, 0.9973067045211792, 0.978420615196228, 0.9921604990959167, 0.9995878338813782, 0.2065921425819397, 0.7747205495834351, 0.0185072124004364, 0.12184891104698181, 0.12839992344379425, 0.6898220777511597, 0.041271407157182693, 0.018342847004532814, 0.9988390207290649, 0.9918056726455688, 0.9982231259346008, 0.3254799544811249, 0.6742706894874573, 0.33282744884490967, 0.23910708725452423, 0.00961234513670206, 0.38028842210769653, 0.03784861043095589, 0.12992671132087708, 0.8685511350631714, 0.9940718412399292, 0.9941070079803467, 0.9985633492469788, 0.9969049096107483, 0.9929243922233582, 0.47152408957481384, 0.11396036297082901, 0.046002347022295, 0.07841309159994125, 0.2896057069301605, 0.07638173550367355, 0.20032189786434174, 0.6932002305984497, 0.02882329560816288, 0.9937331676483154, 0.9990180134773254, 0.47675949335098267, 0.4308713972568512, 0.09177620708942413, 0.31010669469833374, 0.6886507272720337, 0.9987450242042542, 0.9950735569000244, 0.9991084337234497, 0.9947718977928162, 0.9985295534133911, 0.9978052377700806, 0.9902369976043701, 0.998731791973114, 0.10072658210992813, 0.09545983374118805, 0.3456304371356964, 0.25609567761421204, 0.20079481601715088, 0.9982559084892273, 0.9994508624076843, 0.9926717877388, 0.999566376209259, 0.9986258149147034, 0.9252646565437317, 0.07434017956256866, 0.0002848282747436315, 0.9936485290527344, 0.9972698092460632, 0.05065767839550972, 0.3417246639728546, 0.22495444118976593, 0.3829376995563507, 0.8606816530227661, 0.0282190702855587, 0.1100543737411499, 0.9966375231742859, 0.37383851408958435, 0.6252376437187195, 0.3827991783618927, 0.13118399679660797, 0.12258176505565643, 0.16021651029586792, 0.20430293679237366, 0.9990019202232361, 0.9979652762413025, 0.9959989786148071, 0.41959497332572937, 0.12827853858470917, 0.41876736283302307, 0.03227653726935387, 0.9995810985565186, 0.998467206954956, 0.04062606394290924, 0.9560667276382446, 0.2559460699558258, 0.7419388890266418, 0.43594908714294434, 0.5637027621269226, 0.00029936418286524713, 0.9950848817825317, 0.9467440843582153, 0.0015713594621047378, 0.05106918513774872, 0.9994814991950989, 0.2405984103679657, 0.6533615589141846, 0.105892114341259, 0.6315855383872986, 0.3682965934276581, 0.7426549792289734, 0.2561591565608978, 0.9985107183456421, 0.9993486404418945, 0.9636735916137695, 0.03563162684440613, 0.9466481804847717, 0.020440034568309784, 0.0018304509576410055, 0.030812589451670647, 0.2563121020793915, 0.3290247619152069, 0.4144621193408966, 0.5659691095352173, 0.09208989143371582, 0.06938717514276505, 0.2532472014427185, 0.019185394048690796, 0.9944905042648315, 0.9846430420875549, 0.984783411026001, 0.999289870262146, 0.5867800712585449, 0.1669464260339737, 0.19859987497329712, 0.047650355845689774, 0.9992434978485107, 0.6940274834632874, 0.30546191334724426, 0.9707611799240112, 0.9991734027862549, 0.9982197880744934, 0.0701378732919693, 0.5989224314689636, 0.33074823021888733, 0.9960214495658875, 0.9980488419532776, 0.9964883327484131, 0.41106167435646057, 0.5884983539581299, 0.9972692728042603, 0.9965581893920898, 0.9972612261772156, 0.9958094358444214, 0.9981957077980042, 0.9962987899780273, 0.9977276921272278, 0.9961569905281067, 0.9201526641845703, 0.005684082396328449, 0.07355871796607971, 0.99831622838974, 0.20155823230743408, 0.32917526364326477, 0.05750982090830803, 0.3938053250312805, 0.016979089006781578, 0.9975748658180237, 0.28302961587905884, 0.6623416543006897, 0.05439520999789238, 0.9964419007301331, 0.0029553393833339214, 0.1995694488286972, 0.5724984407424927, 0.11157916486263275, 0.11607228219509125, 0.6041851043701172, 0.14280739426612854, 0.25265923142433167, 0.996099591255188, 0.29780933260917664, 0.5364704132080078, 0.12036460638046265, 0.04508502408862114, 0.998347818851471, 0.994927704334259, 0.9654842615127563, 0.9916620850563049, 0.9978283047676086, 0.7601138949394226, 0.23957665264606476, 0.06226404756307602, 0.9339607357978821, 0.9976568222045898, 0.00781331118196249, 0.1797061562538147, 0.8106310367584229, 0.9984281063079834, 0.3146073520183563, 0.005826062522828579, 0.6787362694740295, 0.9953122138977051, 0.4553772211074829, 0.33777374029159546, 0.20671625435352325, 0.9944515824317932, 0.9937002658843994, 0.9981898069381714, 0.9970934391021729, 0.991304337978363, 0.9924001097679138, 0.5024430155754089, 0.16070039570331573, 0.33631813526153564, 0.9987014532089233, 0.9985511898994446, 0.9975311756134033, 0.9037460088729858, 0.09571036696434021, 0.9983732104301453, 0.9983211159706116, 0.009104972705245018, 0.19196316599845886, 0.05766482278704643, 0.7412964701652527, 0.9848008751869202, 0.9990958571434021, 0.2557156980037689, 0.7432312965393066, 0.9852714538574219, 0.9969750046730042, 0.9958641529083252, 0.9978492259979248, 0.24914401769638062, 0.7412803769111633, 0.009227556176483631, 0.7013527750968933, 0.2935895323753357, 0.9975321292877197, 0.999476432800293, 0.9973356127738953, 0.18328143656253815, 0.8154695630073547, 0.22301553189754486, 0.29601460695266724, 0.37236225605010986, 0.10782432556152344, 0.27886369824409485, 0.7204615473747253, 0.9811483025550842, 0.3270931541919708, 0.37913933396339417, 0.293282151222229, 0.9968159198760986, 0.9943456649780273, 0.998443067073822, 0.03940341994166374, 0.9572713375091553, 0.9996324181556702, 0.32721713185310364, 0.672234296798706, 0.9960272908210754, 0.9922966361045837, 0.9953301548957825, 0.9989545941352844, 0.9966226816177368, 0.9729050397872925, 0.9987856149673462, 0.4267837405204773, 0.5700108408927917, 0.0028976588509976864, 0.15785695612430573, 0.7001420259475708, 0.05107136815786362, 0.09007132798433304, 0.9963219165802002, 0.9966140985488892, 0.6393117308616638, 0.3602282404899597, 0.9980313777923584, 0.9509088397026062, 0.047237370163202286, 0.8520618081092834, 0.14553850889205933, 0.1305018961429596, 0.8687814474105835, 0.9867915511131287, 0.996701180934906, 0.7046598196029663, 0.09431231766939163, 0.2007666379213333, 0.04751181602478027, 0.8842477202415466, 0.06730840355157852, 0.21793143451213837, 0.7807779908180237, 0.9976582527160645, 0.9939871430397034, 0.997359573841095, 0.9975976347923279, 0.9969798922538757, 0.9955993890762329, 0.9962841868400574, 0.998059868812561, 0.9958305954933167, 0.0032923221588134766, 0.000774664047639817, 0.9362766146659851, 0.012096596881747246, 0.05161214619874954, 0.9964959621429443, 0.2847667634487152, 0.7152727842330933, 0.9365488290786743, 0.056168507784605026, 0.006715800147503614, 0.11709626764059067, 0.8825270533561707, 0.9666031002998352, 0.9976667761802673, 0.7253274321556091, 0.09654737263917923, 0.03788567706942558, 0.13993258774280548, 0.9977469444274902, 0.9936187863349915, 0.9970446228981018, 0.9946165084838867, 0.9968200325965881, 0.99864661693573, 0.40512362122535706, 0.583854615688324, 0.9988330602645874, 0.9905422925949097, 0.9978786706924438, 0.997997522354126, 0.6398288011550903, 0.35940006375312805, 0.945156991481781, 0.9977642297744751, 0.9987891912460327, 0.9888217449188232, 0.9707611799240112, 0.3857017457485199, 0.0911930501461029, 0.12781976163387299, 0.39541903138160706, 0.5115669369697571, 0.4879436194896698, 0.99331134557724, 0.9937368631362915, 0.9791718125343323, 0.020399414002895355, 0.9959918260574341, 0.06596330553293228, 0.06744010001420975, 0.7413488030433655, 0.10780570656061172, 0.017229221761226654, 0.9965965747833252, 0.0013860870385542512, 0.0013860870385542512, 0.9951199293136597, 0.9898700714111328, 0.9893863797187805, 0.010404637083411217, 0.9967795610427856, 0.8272107243537903, 0.1726444810628891, 0.9188792705535889, 0.08090423792600632, 0.9963310360908508, 0.9961429834365845, 0.9989324808120728, 0.9948001503944397, 0.9992144107818604, 0.3667334318161011, 0.6333585381507874, 0.9927486181259155, 0.9997490048408508, 0.529174268245697, 0.15247394144535065, 0.3172803223133087, 0.999781608581543, 0.9981524348258972, 0.9385254979133606, 0.06106003746390343, 0.9633744955062866, 0.03645113483071327, 0.924967885017395, 0.06162576749920845, 0.013177837245166302, 0.9960266351699829, 0.15297524631023407, 0.8455358743667603, 0.9955981969833374, 0.996317982673645, 0.40978795289993286, 0.04825540632009506, 0.5415328741073608, 0.9987977147102356, 0.9921043515205383, 0.9994418621063232, 0.9960086941719055, 0.9785391688346863, 0.9710642099380493, 0.9947499632835388, 0.9983323812484741, 0.9967549443244934, 0.8247883915901184, 0.03319067880511284, 0.14189015328884125, 0.998477041721344, 0.9960871934890747, 0.9980584383010864, 0.08776485919952393, 0.26092255115509033, 0.6499343514442444, 0.9776123762130737, 0.020756101235747337, 0.9669140577316284, 0.993849515914917, 0.8901475667953491, 0.10451125353574753, 0.7969299554824829, 0.20280103385448456, 0.9988371729850769, 0.9573636651039124, 0.03973962366580963, 0.8927898406982422, 0.01593720354139805, 0.027583621442317963, 0.06344232708215714, 0.9972557425498962, 0.9984031915664673, 0.001178752281703055, 0.9990019202232361, 0.880683958530426, 0.1182456761598587, 0.9980316162109375, 0.9970839619636536, 0.8841617703437805, 0.11305122077465057, 0.2247886210680008, 0.09834502637386322, 0.6763729453086853, 0.4200422763824463, 0.5609391927719116, 0.01615547202527523, 0.0029132820200175047, 0.9927976131439209, 0.9974235892295837, 0.002180264564231038, 0.00028438231674954295, 0.971329391002655, 0.02855251543223858, 0.6318051218986511, 0.09892843663692474, 0.08796609193086624, 0.18127967417240143, 0.9913865923881531, 0.9863911271095276], \"Term\": [\"accept\", \"accept\", \"accept\", \"accord\", \"actually\", \"address\", \"address\", \"advance\", \"agency\", \"air\", \"also\", \"also\", \"also\", \"also\", \"also\", \"also\", \"also\", \"american\", \"animal\", \"announcement\", \"application\", \"application\", \"appreciate\", \"appressian\", \"area\", \"area\", \"area\", \"argument\", \"armenian\", \"article\", \"article\", \"assumption\", \"atheism\", \"atheist\", \"att\", \"attack\", \"attack\", \"attitude\", \"available\", \"available\", \"available\", \"award\", \"ax\", \"back\", \"back\", \"bad\", \"be\", \"belief\", \"believe\", \"believe\", \"best_offer\", \"better\", \"bike\", \"bit\", \"bit\", \"bit\", \"bit\", \"blame\", \"blind\", \"block\", \"block\", \"block\", \"block\", \"bomb\", \"book\", \"book\", \"box\", \"boy\", \"build\", \"build\", \"build\", \"build\", \"build\", \"bus\", \"bus\", \"bus\", \"business\", \"buy\", \"buy\", \"byte\", \"ca\", \"ca\", \"cable\", \"can\", \"can\", \"can\", \"car\", \"card\", \"care\", \"carry\", \"carry\", \"catcher\", \"cd\", \"cell\", \"character\", \"cheap\", \"cheap\", \"child\", \"child\", \"chip\", \"chip\", \"choose\", \"christian\", \"christianity\", \"church\", \"circuit\", \"city\", \"claim\", \"claim\", \"claim\", \"client\", \"clipper\", \"club\", \"coach\", \"color\", \"colostate\", \"column\", \"com\", \"com\", \"come\", \"come\", \"come\", \"commercial\", \"communication\", \"compare\", \"compile\", \"computer\", \"computer\", \"conclusion\", \"connect\", \"consistent\", \"construct\", \"controller\", \"conventional\", \"conversion\", \"convert\", \"cool\", \"copy\", \"copy\", \"cost\", \"could\", \"could\", \"country\", \"couple\", \"cover\", \"cover\", \"cover\", \"cover\", \"cpu\", \"crime\", \"cycle\", \"dance\", \"datum\", \"datum\", \"deal\", \"dealer\", \"death\", \"death\", \"deficit\", \"design\", \"design\", \"design\", \"design\", \"develop\", \"develop\", \"develop\", \"device\", \"device\", \"di_di\", \"diagnosis\", \"die\", \"die\", \"direct\", \"disk\", \"display\", \"display\", \"distribution\", \"dollar\", \"draft\", \"draft\", \"drive\", \"drive\", \"driver\", \"drug\", \"earn\", \"eat\", \"else\", \"email\", \"encrypt\", \"encryption\", \"engine\", \"enough\", \"entry\", \"equipment\", \"era\", \"escape\", \"escape\", \"even\", \"even\", \"even\", \"ever\", \"evidence\", \"examine\", \"exist\", \"exist\", \"exist\", \"existence\", \"exit\", \"expensive\", \"explain\", \"explain\", \"fact\", \"fact\", \"fact\", \"factory\", \"faith\", \"false\", \"fan\", \"federal\", \"few\", \"file\", \"film\", \"find\", \"find\", \"find\", \"find\", \"fire\", \"first\", \"first\", \"first\", \"first\", \"first\", \"follow\", \"follow\", \"follow\", \"follow\", \"follow\", \"food\", \"force\", \"format\", \"fre\", \"fruit\", \"fund\", \"game\", \"gateway\", \"genocide\", \"get\", \"get\", \"giant\", \"give\", \"give\", \"give\", \"give\", \"go\", \"gold\", \"good\", \"good\", \"government\", \"government\", \"graphic\", \"great\", \"ground\", \"ground\", \"guess\", \"gun\", \"guy\", \"handy\", \"headache\", \"hear\", \"help\", \"help\", \"help\", \"high\", \"high\", \"high\", \"high\", \"high\", \"hit\", \"hitter\", \"hockey\", \"host\", \"host\", \"however\", \"however\", \"however\", \"however\", \"however\", \"human\", \"human\", \"ice\", \"ignorant\", \"image\", \"implement\", \"improve\", \"include\", \"include\", \"include\", \"include\", \"include\", \"increase\", \"increase\", \"increase\", \"increase\", \"industry\", \"info\", \"information\", \"information\", \"information\", \"input\", \"input\", \"instal\", \"insurance\", \"interested\", \"interface\", \"internal\", \"internet\", \"investigation\", \"israeli\", \"issue\", \"issue\", \"issue\", \"issue\", \"issue\", \"job\", \"key\", \"keyboard\", \"kill\", \"kind\", \"know\", \"know\", \"know\", \"laboratory\", \"land\", \"large\", \"large\", \"large\", \"large\", \"last\", \"last\", \"last\", \"launch\", \"law\", \"law\", \"lead\", \"lead\", \"lead\", \"lead\", \"lead\", \"learn\", \"lebanese\", \"legal\", \"less\", \"less\", \"less\", \"less\", \"let\", \"library\", \"license\", \"license\", \"light\", \"light\", \"line\", \"line\", \"line\", \"link\", \"list\", \"list\", \"list\", \"little\", \"live\", \"live\", \"live\", \"look\", \"look\", \"lose\", \"lose\", \"low\", \"machine\", \"mail\", \"mail\", \"make\", \"make\", \"make\", \"make\", \"man\", \"man\", \"man\", \"many\", \"many\", \"many\", \"many\", \"many\", \"map\", \"margin\", \"massacre\", \"max\", \"may\", \"may\", \"may\", \"may\", \"maybe\", \"mean\", \"mean\", \"melkonian\", \"member\", \"memory\", \"message\", \"message\", \"message\", \"mile\", \"military\", \"mission\", \"model\", \"model\", \"monitor\", \"moral\", \"mother\", \"motherboard\", \"motif\", \"motorcycle\", \"mount\", \"mouse\", \"much\", \"much\", \"much\", \"murder\", \"must\", \"must\", \"must\", \"must\", \"must\", \"nature\", \"need\", \"need\", \"need\", \"never\", \"never\", \"new\", \"new\", \"new\", \"new\", \"next\", \"next\", \"next\", \"nntp_posting\", \"number\", \"number\", \"number\", \"number\", \"object\", \"objective\", \"opening\", \"opportunity\", \"orbit\", \"organization\", \"organization\", \"output\", \"output\", \"package\", \"page\", \"page\", \"page\", \"patient\", \"pay\", \"pay\", \"pay\", \"pen\", \"people\", \"people\", \"people\", \"percent\", \"pgp\", \"physical\", \"pin\", \"pitch\", \"pitcher\", \"place\", \"place\", \"place\", \"play\", \"player\", \"playoff\", \"point\", \"point\", \"port\", \"possibly\", \"power\", \"power\", \"power\", \"power\", \"preferably\", \"pretty\", \"price\", \"price\", \"principal\", \"print\", \"printer\", \"private\", \"problem\", \"problem\", \"problem\", \"proceed\", \"proceed\", \"processor\", \"program\", \"proposal\", \"prove\", \"prove\", \"provide\", \"provide\", \"provide\", \"provide\", \"public\", \"public\", \"pursue\", \"question\", \"question\", \"question\", \"radio\", \"range\", \"rate\", \"reality\", \"reality\", \"really\", \"reason\", \"reason\", \"recommend\", \"registration\", \"reject\", \"religion\", \"religious\", \"remainder\", \"remember\", \"reply\", \"reply\", \"reply\", \"report\", \"report\", \"report\", \"report\", \"revelation\", \"ride\", \"right\", \"right\", \"ripem\", \"risk\", \"risk\", \"road\", \"road\", \"run\", \"run\", \"runner\", \"satellite\", \"say\", \"say\", \"say\", \"science\", \"science\", \"science\", \"score\", \"score\", \"screen\", \"scripture\", \"scsi\", \"season\", \"secret\", \"sector\", \"secure\", \"security\", \"see\", \"see\", \"see\", \"seem\", \"seem\", \"seem\", \"select\", \"sell\", \"sell\", \"send\", \"send\", \"send\", \"sense\", \"sense\", \"serdar_argic\", \"server\", \"set\", \"set\", \"set\", \"set\", \"shall\", \"shipping\", \"shoot\", \"significance\", \"sin\", \"size\", \"slaughter\", \"slaughter\", \"slave\", \"slot\", \"slow\", \"society\", \"software\", \"software\", \"soil\", \"soldier\", \"solution\", \"soul\", \"soul_sahak\", \"source\", \"source\", \"source\", \"source\", \"space\", \"space\", \"standing\", \"star\", \"start\", \"start\", \"stat\", \"state\", \"state\", \"state\", \"state\", \"state\", \"still\", \"still\", \"still\", \"suck\", \"super\", \"sure\", \"sure\", \"syndrome\", \"system\", \"system\", \"take\", \"take\", \"talent\", \"tap\", \"tape\", \"teach\", \"team\", \"technology\", \"technology\", \"telephone\", \"tell\", \"test\", \"test\", \"test\", \"thank\", \"therefore\", \"thing\", \"thing\", \"think\", \"think\", \"time\", \"time\", \"time\", \"tool\", \"trade\", \"trade\", \"translation\", \"trial\", \"true\", \"true\", \"true\", \"truth\", \"turkish\", \"type\", \"typical\", \"uci\", \"ultra\", \"umich\", \"update\", \"upgrade\", \"use\", \"use\", \"use\", \"valid\", \"vehicle\", \"video\", \"view\", \"view\", \"view\", \"village\", \"village\", \"vol\", \"volume\", \"vote\", \"vote\", \"want\", \"want\", \"war\", \"waste\", \"waste\", \"way\", \"way\", \"way\", \"way\", \"weapon\", \"well\", \"well\", \"win\", \"window\", \"window\", \"wing\", \"wire\", \"woman\", \"woman\", \"word\", \"word\", \"word\", \"work\", \"work\", \"work\", \"work\", \"workstation\", \"would\", \"would\", \"would\", \"write\", \"write\", \"year\", \"year\", \"year\", \"year\", \"youth\", \"zone\"]}, \"R\": 30, \"lambda.step\": 0.01, \"plot.opts\": {\"xlab\": \"PC1\", \"ylab\": \"PC2\"}, \"topic.order\": [2, 9, 1, 7, 4, 3, 5, 6, 10, 8]};\n",
       "\n",
       "function LDAvis_load_lib(url, callback){\n",
       "  var s = document.createElement('script');\n",
       "  s.src = url;\n",
       "  s.async = true;\n",
       "  s.onreadystatechange = s.onload = callback;\n",
       "  s.onerror = function(){console.warn(\"failed to load library \" + url);};\n",
       "  document.getElementsByTagName(\"head\")[0].appendChild(s);\n",
       "}\n",
       "\n",
       "if(typeof(LDAvis) !== \"undefined\"){\n",
       "   // already loaded: just create the visualization\n",
       "   !function(LDAvis){\n",
       "       new LDAvis(\"#\" + \"ldavis_el852820307016327125280524941\", ldavis_el852820307016327125280524941_data);\n",
       "   }(LDAvis);\n",
       "}else if(typeof define === \"function\" && define.amd){\n",
       "   // require.js is available: use it to load d3/LDAvis\n",
       "   require.config({paths: {d3: \"https://cdnjs.cloudflare.com/ajax/libs/d3/3.5.5/d3.min\"}});\n",
       "   require([\"d3\"], function(d3){\n",
       "      window.d3 = d3;\n",
       "      LDAvis_load_lib(\"https://cdn.rawgit.com/bmabey/pyLDAvis/files/ldavis.v1.0.0.js\", function(){\n",
       "        new LDAvis(\"#\" + \"ldavis_el852820307016327125280524941\", ldavis_el852820307016327125280524941_data);\n",
       "      });\n",
       "    });\n",
       "}else{\n",
       "    // require.js not available: dynamically load d3 & LDAvis\n",
       "    LDAvis_load_lib(\"https://cdnjs.cloudflare.com/ajax/libs/d3/3.5.5/d3.min.js\", function(){\n",
       "         LDAvis_load_lib(\"https://cdn.rawgit.com/bmabey/pyLDAvis/files/ldavis.v1.0.0.js\", function(){\n",
       "                 new LDAvis(\"#\" + \"ldavis_el852820307016327125280524941\", ldavis_el852820307016327125280524941_data);\n",
       "            })\n",
       "         });\n",
       "}\n",
       "</script>"
      ],
      "text/plain": [
       "PreparedData(topic_coordinates=              x         y  topics  cluster       Freq\n",
       "topic                                                \n",
       "1     -0.270899  0.117347       1        1  37.226971\n",
       "8     -0.201248 -0.160310       2        1  19.424911\n",
       "0     -0.131509  0.137428       3        1  11.676119\n",
       "6     -0.199354  0.140428       4        1  10.078580\n",
       "3      0.040280 -0.111887       5        1   6.705447\n",
       "2     -0.035389 -0.196191       6        1   5.718789\n",
       "4      0.105377 -0.224099       7        1   4.305480\n",
       "5      0.195423  0.137157       8        1   2.638048\n",
       "9      0.255755  0.090844       9        1   1.692068\n",
       "7      0.241565  0.069282      10        1   0.533600, topic_info=           Term          Freq         Total Category  logprob  loglift\n",
       "19         line  13361.000000  13361.000000  Default  30.0000  30.0000\n",
       "318       would  10549.000000  10549.000000  Default  29.0000  29.0000\n",
       "196       write  11032.000000  11032.000000  Default  28.0000  28.0000\n",
       "3720         ax   2083.000000   2083.000000  Default  27.0000  27.0000\n",
       "39         year   3740.000000   3740.000000  Default  26.0000  26.0000\n",
       "...         ...           ...           ...      ...      ...      ...\n",
       "2635        vol     21.729984     22.752798  Topic10  -5.6059   5.1873\n",
       "1410  slaughter     49.057064     83.925003  Topic10  -4.7916   4.6963\n",
       "1549     escape     45.195827    130.472076  Topic10  -4.8736   4.1731\n",
       "1405       road     55.318310    377.906860  Topic10  -4.6715   3.3117\n",
       "1904    proceed     35.726772    122.620178  Topic10  -5.1087   4.0001\n",
       "\n",
       "[502 rows x 6 columns], token_table=       Topic      Freq      Term\n",
       "term                            \n",
       "1196       2  0.152565    accept\n",
       "1196       3  0.047838    accept\n",
       "1196       4  0.797734    accept\n",
       "3182       1  0.998687    accord\n",
       "83         1  0.999001  actually\n",
       "...      ...       ...       ...\n",
       "39         3  0.098928      year\n",
       "39         5  0.087966      year\n",
       "39         8  0.181280      year\n",
       "4532       9  0.991387     youth\n",
       "10623      9  0.986391      zone\n",
       "\n",
       "[727 rows x 3 columns], R=30, lambda_step=0.01, plot_opts={'xlab': 'PC1', 'ylab': 'PC2'}, topic_order=[2, 9, 1, 7, 4, 3, 5, 6, 10, 8])"
      ]
     },
     "execution_count": 553,
     "metadata": {},
     "output_type": "execute_result"
    }
   ],
   "source": [
    "#PLot Topics\n",
    "pyLDAvis.enable_notebook()\n",
    "viz = pyLDAvis.gensim.prepare(lda_model,corpus=corpus,dictionary=id2word)\n",
    "viz"
   ]
  },
  {
   "cell_type": "markdown",
   "metadata": {},
   "source": [
    "**A good topic model will have fairly big, non-overlapping bubbles scattered throughout the chart instead of being clustered in one quadrant.**\n",
    "\n",
    "A model with too many topics, will typically have many overlaps, small sized bubbles clustered in one region of the chart.\n",
    "We haven't successfully built a good looking topic model. Our model did a worst job at predicting topics, Its coherence score is too low(49%)\n"
   ]
  },
  {
   "cell_type": "code",
   "execution_count": 554,
   "metadata": {},
   "outputs": [
    {
     "name": "stdout",
     "output_type": "stream",
     "text": [
      "Topic No 0 Keywords people\n",
      "Topic No 0 Keywords state\n",
      "Topic No 0 Keywords gun\n",
      "Topic No 0 Keywords government\n",
      "Topic No 0 Keywords kill\n",
      "Topic No 0 Keywords child\n",
      "Topic No 0 Keywords right\n",
      "Topic No 0 Keywords live\n",
      "Topic No 0 Keywords force\n",
      "Topic No 0 Keywords report\n",
      "Topic No 0 Keywords death\n",
      "Topic No 0 Keywords country\n",
      "Topic No 0 Keywords attack\n",
      "Topic No 0 Keywords member\n",
      "Topic No 0 Keywords say\n",
      "Topic No 1 Keywords write\n",
      "Topic No 1 Keywords would\n",
      "Topic No 1 Keywords article\n",
      "Topic No 1 Keywords know\n",
      "Topic No 1 Keywords make\n",
      "Topic No 1 Keywords go\n",
      "Topic No 1 Keywords think\n",
      "Topic No 1 Keywords line\n",
      "Topic No 1 Keywords com\n",
      "Topic No 1 Keywords see\n",
      "Topic No 1 Keywords say\n",
      "Topic No 1 Keywords good\n",
      "Topic No 1 Keywords get\n",
      "Topic No 1 Keywords time\n",
      "Topic No 1 Keywords could\n",
      "Topic No 2 Keywords key\n",
      "Topic No 2 Keywords public\n",
      "Topic No 2 Keywords information\n",
      "Topic No 2 Keywords use\n",
      "Topic No 2 Keywords patient\n",
      "Topic No 2 Keywords system\n",
      "Topic No 2 Keywords technology\n",
      "Topic No 2 Keywords encryption\n",
      "Topic No 2 Keywords provide\n",
      "Topic No 2 Keywords government\n",
      "Topic No 2 Keywords chip\n",
      "Topic No 2 Keywords security\n",
      "Topic No 2 Keywords ripem\n",
      "Topic No 2 Keywords private\n",
      "Topic No 2 Keywords message\n",
      "Topic No 3 Keywords car\n",
      "Topic No 3 Keywords high\n",
      "Topic No 3 Keywords cost\n",
      "Topic No 3 Keywords power\n",
      "Topic No 3 Keywords low\n",
      "Topic No 3 Keywords buy\n",
      "Topic No 3 Keywords price\n",
      "Topic No 3 Keywords rate\n",
      "Topic No 3 Keywords sell\n",
      "Topic No 3 Keywords pay\n",
      "Topic No 3 Keywords cheap\n",
      "Topic No 3 Keywords bike\n",
      "Topic No 3 Keywords space\n",
      "Topic No 3 Keywords drive\n",
      "Topic No 3 Keywords tape\n",
      "Topic No 4 Keywords program\n",
      "Topic No 4 Keywords file\n",
      "Topic No 4 Keywords image\n",
      "Topic No 4 Keywords entry\n",
      "Topic No 4 Keywords choose\n",
      "Topic No 4 Keywords application\n",
      "Topic No 4 Keywords space\n",
      "Topic No 4 Keywords include\n",
      "Topic No 4 Keywords source\n",
      "Topic No 4 Keywords available\n",
      "Topic No 4 Keywords scsi\n",
      "Topic No 4 Keywords format\n",
      "Topic No 4 Keywords datum\n",
      "Topic No 4 Keywords software\n",
      "Topic No 4 Keywords print\n",
      "Topic No 5 Keywords team\n",
      "Topic No 5 Keywords game\n",
      "Topic No 5 Keywords play\n",
      "Topic No 5 Keywords player\n",
      "Topic No 5 Keywords year\n",
      "Topic No 5 Keywords internet\n",
      "Topic No 5 Keywords season\n",
      "Topic No 5 Keywords pin\n",
      "Topic No 5 Keywords hockey\n",
      "Topic No 5 Keywords fan\n",
      "Topic No 5 Keywords cpu\n",
      "Topic No 5 Keywords wing\n",
      "Topic No 5 Keywords ca\n",
      "Topic No 5 Keywords next\n",
      "Topic No 5 Keywords trade\n",
      "Topic No 6 Keywords evidence\n",
      "Topic No 6 Keywords reason\n",
      "Topic No 6 Keywords believe\n",
      "Topic No 6 Keywords say\n",
      "Topic No 6 Keywords claim\n",
      "Topic No 6 Keywords people\n",
      "Topic No 6 Keywords may\n",
      "Topic No 6 Keywords faith\n",
      "Topic No 6 Keywords exist\n",
      "Topic No 6 Keywords sense\n",
      "Topic No 6 Keywords law\n",
      "Topic No 6 Keywords can\n",
      "Topic No 6 Keywords religion\n",
      "Topic No 6 Keywords many\n",
      "Topic No 6 Keywords question\n",
      "Topic No 7 Keywords keyboard\n",
      "Topic No 7 Keywords turkish\n",
      "Topic No 7 Keywords armenian\n",
      "Topic No 7 Keywords circuit\n",
      "Topic No 7 Keywords registration\n",
      "Topic No 7 Keywords super\n",
      "Topic No 7 Keywords massacre\n",
      "Topic No 7 Keywords genocide\n",
      "Topic No 7 Keywords cell\n",
      "Topic No 7 Keywords road\n",
      "Topic No 7 Keywords construct\n",
      "Topic No 7 Keywords fruit\n",
      "Topic No 7 Keywords slaughter\n",
      "Topic No 7 Keywords preferably\n",
      "Topic No 7 Keywords escape\n",
      "Topic No 8 Keywords line\n",
      "Topic No 8 Keywords use\n",
      "Topic No 8 Keywords system\n",
      "Topic No 8 Keywords host\n",
      "Topic No 8 Keywords com\n",
      "Topic No 8 Keywords thank\n",
      "Topic No 8 Keywords problem\n",
      "Topic No 8 Keywords need\n",
      "Topic No 8 Keywords work\n",
      "Topic No 8 Keywords run\n",
      "Topic No 8 Keywords also\n",
      "Topic No 8 Keywords drive\n",
      "Topic No 8 Keywords help\n",
      "Topic No 8 Keywords mail\n",
      "Topic No 8 Keywords ca\n",
      "Topic No 9 Keywords ax\n",
      "Topic No 9 Keywords max\n",
      "Topic No 9 Keywords score\n",
      "Topic No 9 Keywords mount\n",
      "Topic No 9 Keywords di_di\n",
      "Topic No 9 Keywords boy\n",
      "Topic No 9 Keywords translation\n",
      "Topic No 9 Keywords stat\n",
      "Topic No 9 Keywords compile\n",
      "Topic No 9 Keywords talent\n",
      "Topic No 9 Keywords pitcher\n",
      "Topic No 9 Keywords youth\n",
      "Topic No 9 Keywords investigation\n",
      "Topic No 9 Keywords pitch\n",
      "Topic No 9 Keywords film\n"
     ]
    }
   ],
   "source": [
    "for no,words in lda_model.show_topics(num_topics=20,num_words=15,formatted=False):\n",
    "    for word in words:\n",
    "        print(f\"Topic No {no} Keywords {word[0]}\")"
   ]
  },
  {
   "cell_type": "markdown",
   "metadata": {},
   "source": [
    "## Assigning Dominant Topic for Each Documents\n",
    "\n",
    "In order to find topic for a document,we must find the topic number that has the highest percentage contribution in that document."
   ]
  },
  {
   "cell_type": "code",
   "execution_count": 555,
   "metadata": {},
   "outputs": [],
   "source": [
    "#Getting topmost topic and thier probabilty for each documents\n",
    "topic_df = pd.concat([doc.content,pd.Series(lda_model.get_document_topics(corpus))],axis=1)"
   ]
  },
  {
   "cell_type": "code",
   "execution_count": 556,
   "metadata": {},
   "outputs": [
    {
     "data": {
      "text/html": [
       "<div>\n",
       "<style scoped>\n",
       "    .dataframe tbody tr th:only-of-type {\n",
       "        vertical-align: middle;\n",
       "    }\n",
       "\n",
       "    .dataframe tbody tr th {\n",
       "        vertical-align: top;\n",
       "    }\n",
       "\n",
       "    .dataframe thead th {\n",
       "        text-align: right;\n",
       "    }\n",
       "</style>\n",
       "<table border=\"1\" class=\"dataframe\">\n",
       "  <thead>\n",
       "    <tr style=\"text-align: right;\">\n",
       "      <th></th>\n",
       "      <th>content</th>\n",
       "      <th>0</th>\n",
       "      <th>Dominant_Topic</th>\n",
       "    </tr>\n",
       "  </thead>\n",
       "  <tbody>\n",
       "    <tr>\n",
       "      <th>0</th>\n",
       "      <td>From: lerxst@wam.umd.edu (where's my thing)\\nS...</td>\n",
       "      <td>[(0, 0.14931065), (1, 0.39772248), (2, 0.01052...</td>\n",
       "      <td>1</td>\n",
       "    </tr>\n",
       "    <tr>\n",
       "      <th>1</th>\n",
       "      <td>From: guykuo@carson.u.washington.edu (Guy Kuo)...</td>\n",
       "      <td>[(0, 0.06294801), (1, 0.17411436), (2, 0.04400...</td>\n",
       "      <td>8</td>\n",
       "    </tr>\n",
       "    <tr>\n",
       "      <th>2</th>\n",
       "      <td>From: twillis@ec.ecn.purdue.edu (Thomas E Will...</td>\n",
       "      <td>[(0, 0.026046485), (1, 0.56390107), (2, 0.0169...</td>\n",
       "      <td>1</td>\n",
       "    </tr>\n",
       "    <tr>\n",
       "      <th>3</th>\n",
       "      <td>From: jgreen@amber (Joe Green)\\nSubject: Re: W...</td>\n",
       "      <td>[(0, 0.020452375), (1, 0.56364757), (2, 0.0160...</td>\n",
       "      <td>1</td>\n",
       "    </tr>\n",
       "    <tr>\n",
       "      <th>4</th>\n",
       "      <td>From: jcm@head-cfa.harvard.edu (Jonathan McDow...</td>\n",
       "      <td>[(0, 0.018711621), (1, 0.39268494), (3, 0.0301...</td>\n",
       "      <td>8</td>\n",
       "    </tr>\n",
       "  </tbody>\n",
       "</table>\n",
       "</div>"
      ],
      "text/plain": [
       "                                             content  \\\n",
       "0  From: lerxst@wam.umd.edu (where's my thing)\\nS...   \n",
       "1  From: guykuo@carson.u.washington.edu (Guy Kuo)...   \n",
       "2  From: twillis@ec.ecn.purdue.edu (Thomas E Will...   \n",
       "3  From: jgreen@amber (Joe Green)\\nSubject: Re: W...   \n",
       "4  From: jcm@head-cfa.harvard.edu (Jonathan McDow...   \n",
       "\n",
       "                                                   0  Dominant_Topic  \n",
       "0  [(0, 0.14931065), (1, 0.39772248), (2, 0.01052...               1  \n",
       "1  [(0, 0.06294801), (1, 0.17411436), (2, 0.04400...               8  \n",
       "2  [(0, 0.026046485), (1, 0.56390107), (2, 0.0169...               1  \n",
       "3  [(0, 0.020452375), (1, 0.56364757), (2, 0.0160...               1  \n",
       "4  [(0, 0.018711621), (1, 0.39268494), (3, 0.0301...               8  "
      ]
     },
     "execution_count": 556,
     "metadata": {},
     "output_type": "execute_result"
    }
   ],
   "source": [
    "#Defining function to extract dominant topic for each document\n",
    "def dominant_topic(data):\n",
    "    \n",
    "    topic = list()\n",
    "    probab = list()\n",
    "    \n",
    "    for i in data: #Loop through each topic and their proabability\n",
    "        \n",
    "        topic.append(i[0]) #Taking topic\n",
    "        probab.append(i[1])#Taking probability\n",
    "    df= pd.DataFrame(probab,index=topic) #It replaces the df index with topin number #Craeting a df using above extracted topic and proabability\n",
    "    topic =  df.idxmax()[0] #Idxmax gives us a index position of highest probability but we placed topic Number in that place. SO we'll get topic number\n",
    "    return topic\n",
    "\n",
    "#Lets see if it works\n",
    "topic_df['Dominant_Topic'] = topic_df[0].apply(dominant_topic)\n",
    "\n",
    "#Take a glance at df\n",
    "topic_df.head()"
   ]
  },
  {
   "cell_type": "code",
   "execution_count": 557,
   "metadata": {},
   "outputs": [
    {
     "data": {
      "text/plain": [
       "1"
      ]
     },
     "execution_count": 557,
     "metadata": {},
     "output_type": "execute_result"
    }
   ],
   "source": [
    "#Breaking it down how above code works \n",
    "topic = list()\n",
    "probab = list()\n",
    "    \n",
    "for i in topic_df[0][2]: #Loop through for document no 2 topics\n",
    "        \n",
    "    topic.append(i[0]) #Taking topic\n",
    "    probab.append(i[1])#Taking probability\n",
    "df= pd.DataFrame(probab,index=topic) #It replaces the df index with topin number #Craeting a df using above extracted topic and proabability\n",
    "topic =  df.idxmax()[0] \n",
    "topic"
   ]
  },
  {
   "cell_type": "markdown",
   "metadata": {},
   "source": [
    "I'll won't be using above code to extract topics and probability. I showed my method of extracting topics. I'll be using below code to extract topics and other related features. I took code from <a href=\"https://www.machinelearningplus.com/nlp/topic-modeling-gensim-python/#9createbigramandtrigrammodels\">this</a> article."
   ]
  },
  {
   "cell_type": "code",
   "execution_count": 558,
   "metadata": {},
   "outputs": [
    {
     "data": {
      "text/html": [
       "<div>\n",
       "<style scoped>\n",
       "    .dataframe tbody tr th:only-of-type {\n",
       "        vertical-align: middle;\n",
       "    }\n",
       "\n",
       "    .dataframe tbody tr th {\n",
       "        vertical-align: top;\n",
       "    }\n",
       "\n",
       "    .dataframe thead th {\n",
       "        text-align: right;\n",
       "    }\n",
       "</style>\n",
       "<table border=\"1\" class=\"dataframe\">\n",
       "  <thead>\n",
       "    <tr style=\"text-align: right;\">\n",
       "      <th></th>\n",
       "      <th>Document_No</th>\n",
       "      <th>Dominant_Topic</th>\n",
       "      <th>Topic_Perc_Contrib</th>\n",
       "      <th>Keywords</th>\n",
       "      <th>Text</th>\n",
       "    </tr>\n",
       "  </thead>\n",
       "  <tbody>\n",
       "    <tr>\n",
       "      <th>0</th>\n",
       "      <td>0</td>\n",
       "      <td>1.0</td>\n",
       "      <td>0.3977</td>\n",
       "      <td>write, would, article, know, make, go, think, ...</td>\n",
       "      <td>[from, wam, umd, edu, where, my, thing, subjec...</td>\n",
       "    </tr>\n",
       "    <tr>\n",
       "      <th>1</th>\n",
       "      <td>1</td>\n",
       "      <td>8.0</td>\n",
       "      <td>0.4074</td>\n",
       "      <td>line, use, system, host, com, thank, problem, ...</td>\n",
       "      <td>[from, carson, washington, edu, guy, kuo, subj...</td>\n",
       "    </tr>\n",
       "    <tr>\n",
       "      <th>2</th>\n",
       "      <td>2</td>\n",
       "      <td>1.0</td>\n",
       "      <td>0.5639</td>\n",
       "      <td>write, would, article, know, make, go, think, ...</td>\n",
       "      <td>[from, ec, ecn, purdue, edu, thomas, willis, s...</td>\n",
       "    </tr>\n",
       "    <tr>\n",
       "      <th>3</th>\n",
       "      <td>3</td>\n",
       "      <td>1.0</td>\n",
       "      <td>0.5637</td>\n",
       "      <td>write, would, article, know, make, go, think, ...</td>\n",
       "      <td>[from, amber, joe, green, subject, re, weitek,...</td>\n",
       "    </tr>\n",
       "    <tr>\n",
       "      <th>4</th>\n",
       "      <td>4</td>\n",
       "      <td>8.0</td>\n",
       "      <td>0.4835</td>\n",
       "      <td>line, use, system, host, com, thank, problem, ...</td>\n",
       "      <td>[from, head, cfa, harvard, edu, jonathan, mcdo...</td>\n",
       "    </tr>\n",
       "    <tr>\n",
       "      <th>5</th>\n",
       "      <td>5</td>\n",
       "      <td>1.0</td>\n",
       "      <td>0.5724</td>\n",
       "      <td>write, would, article, know, make, go, think, ...</td>\n",
       "      <td>[from, vttoulu, tko, vtt, fi, foxvog, douglas,...</td>\n",
       "    </tr>\n",
       "    <tr>\n",
       "      <th>6</th>\n",
       "      <td>6</td>\n",
       "      <td>8.0</td>\n",
       "      <td>0.4668</td>\n",
       "      <td>line, use, system, host, com, thank, problem, ...</td>\n",
       "      <td>[from, quads, uchicago, edu, brian, manning, d...</td>\n",
       "    </tr>\n",
       "    <tr>\n",
       "      <th>7</th>\n",
       "      <td>7</td>\n",
       "      <td>1.0</td>\n",
       "      <td>0.3202</td>\n",
       "      <td>write, would, article, know, make, go, think, ...</td>\n",
       "      <td>[from, dante, nmsu, edu, grubb, subject, re, i...</td>\n",
       "    </tr>\n",
       "    <tr>\n",
       "      <th>8</th>\n",
       "      <td>8</td>\n",
       "      <td>1.0</td>\n",
       "      <td>0.6300</td>\n",
       "      <td>write, would, article, know, make, go, think, ...</td>\n",
       "      <td>[from, iscsvax, uni, edu, subject, win, icon, ...</td>\n",
       "    </tr>\n",
       "    <tr>\n",
       "      <th>9</th>\n",
       "      <td>9</td>\n",
       "      <td>8.0</td>\n",
       "      <td>0.4310</td>\n",
       "      <td>line, use, system, host, com, thank, problem, ...</td>\n",
       "      <td>[from, ux, cso, uiuc, edu, stan, kerr, subject...</td>\n",
       "    </tr>\n",
       "  </tbody>\n",
       "</table>\n",
       "</div>"
      ],
      "text/plain": [
       "   Document_No  Dominant_Topic  Topic_Perc_Contrib  \\\n",
       "0            0             1.0              0.3977   \n",
       "1            1             8.0              0.4074   \n",
       "2            2             1.0              0.5639   \n",
       "3            3             1.0              0.5637   \n",
       "4            4             8.0              0.4835   \n",
       "5            5             1.0              0.5724   \n",
       "6            6             8.0              0.4668   \n",
       "7            7             1.0              0.3202   \n",
       "8            8             1.0              0.6300   \n",
       "9            9             8.0              0.4310   \n",
       "\n",
       "                                            Keywords  \\\n",
       "0  write, would, article, know, make, go, think, ...   \n",
       "1  line, use, system, host, com, thank, problem, ...   \n",
       "2  write, would, article, know, make, go, think, ...   \n",
       "3  write, would, article, know, make, go, think, ...   \n",
       "4  line, use, system, host, com, thank, problem, ...   \n",
       "5  write, would, article, know, make, go, think, ...   \n",
       "6  line, use, system, host, com, thank, problem, ...   \n",
       "7  write, would, article, know, make, go, think, ...   \n",
       "8  write, would, article, know, make, go, think, ...   \n",
       "9  line, use, system, host, com, thank, problem, ...   \n",
       "\n",
       "                                                Text  \n",
       "0  [from, wam, umd, edu, where, my, thing, subjec...  \n",
       "1  [from, carson, washington, edu, guy, kuo, subj...  \n",
       "2  [from, ec, ecn, purdue, edu, thomas, willis, s...  \n",
       "3  [from, amber, joe, green, subject, re, weitek,...  \n",
       "4  [from, head, cfa, harvard, edu, jonathan, mcdo...  \n",
       "5  [from, vttoulu, tko, vtt, fi, foxvog, douglas,...  \n",
       "6  [from, quads, uchicago, edu, brian, manning, d...  \n",
       "7  [from, dante, nmsu, edu, grubb, subject, re, i...  \n",
       "8  [from, iscsvax, uni, edu, subject, win, icon, ...  \n",
       "9  [from, ux, cso, uiuc, edu, stan, kerr, subject...  "
      ]
     },
     "execution_count": 558,
     "metadata": {},
     "output_type": "execute_result"
    }
   ],
   "source": [
    "#https://www.machinelearningplus.com/nlp/topic-modeling-gensim-python/#9createbigramandtrigrammodels\n",
    "def format_topics_sentences(ldamodel=lda_model, corpus=corpus, texts=data):\n",
    "    # Init output\n",
    "    sent_topics_df = pd.DataFrame()\n",
    "\n",
    "    # Get main topic in each document\n",
    "    for i, row in enumerate(ldamodel[corpus]):\n",
    "        row = sorted(row, key=lambda x: (x[1]), reverse=True)\n",
    "        # Get the Dominant topic, Perc Contribution and Keywords for each document\n",
    "        for j, (topic_num, prop_topic) in enumerate(row):\n",
    "            if j == 0:  # => dominant topic\n",
    "                wp = ldamodel.show_topic(topic_num)\n",
    "                topic_keywords = \", \".join([word for word, prop in wp])\n",
    "                sent_topics_df = sent_topics_df.append(pd.Series([int(topic_num), round(prop_topic,4), topic_keywords]), ignore_index=True)\n",
    "            else:\n",
    "                break\n",
    "    sent_topics_df.columns = ['Dominant_Topic', 'Perc_Contribution', 'Topic_Keywords']\n",
    "\n",
    "    # Add original text to the end of the output\n",
    "    contents = pd.Series(texts)\n",
    "    sent_topics_df = pd.concat([sent_topics_df, contents], axis=1)\n",
    "    return(sent_topics_df)\n",
    "\n",
    "\n",
    "df_topic_sents_keywords = format_topics_sentences(ldamodel=lda_model, corpus=corpus, texts=data)\n",
    "\n",
    "# Format\n",
    "df_dominant_topic = df_topic_sents_keywords.reset_index()\n",
    "df_dominant_topic.columns = ['Document_No', 'Dominant_Topic', 'Topic_Perc_Contrib', 'Keywords', 'Text']\n",
    "\n",
    "# Show\n",
    "df_dominant_topic.head(10)"
   ]
  },
  {
   "cell_type": "markdown",
   "metadata": {},
   "source": [
    "Amazing,isn't it?. From this table we could understand it easily and interpret results."
   ]
  },
  {
   "cell_type": "markdown",
   "metadata": {},
   "source": [
    "## Finding Highest probability Document for each Topic\n",
    "\n",
    "\n",
    "Sometimes keywords just aren't enough to judge topic for a document!!!"
   ]
  },
  {
   "cell_type": "code",
   "execution_count": 559,
   "metadata": {},
   "outputs": [
    {
     "data": {
      "text/html": [
       "<div>\n",
       "<style scoped>\n",
       "    .dataframe tbody tr th:only-of-type {\n",
       "        vertical-align: middle;\n",
       "    }\n",
       "\n",
       "    .dataframe tbody tr th {\n",
       "        vertical-align: top;\n",
       "    }\n",
       "\n",
       "    .dataframe thead th {\n",
       "        text-align: right;\n",
       "    }\n",
       "</style>\n",
       "<table border=\"1\" class=\"dataframe\">\n",
       "  <thead>\n",
       "    <tr style=\"text-align: right;\">\n",
       "      <th></th>\n",
       "      <th>Dominant_Topic</th>\n",
       "      <th>Topic_Perc_Contrib</th>\n",
       "      <th>Keywords</th>\n",
       "      <th>Text</th>\n",
       "    </tr>\n",
       "  </thead>\n",
       "  <tbody>\n",
       "    <tr>\n",
       "      <th>0</th>\n",
       "      <td>0.0</td>\n",
       "      <td>0.6588</td>\n",
       "      <td>people, state, gun, government, kill, child, r...</td>\n",
       "      <td>[subject, re, was, go, hezbollah, from, eis, c...</td>\n",
       "    </tr>\n",
       "    <tr>\n",
       "      <th>1</th>\n",
       "      <td>1.0</td>\n",
       "      <td>0.7934</td>\n",
       "      <td>write, would, article, know, make, go, think, ...</td>\n",
       "      <td>[zaphod, mps, ohio, state, edu, wupost, uunet,...</td>\n",
       "    </tr>\n",
       "    <tr>\n",
       "      <th>2</th>\n",
       "      <td>2.0</td>\n",
       "      <td>0.6591</td>\n",
       "      <td>key, public, information, use, patient, system...</td>\n",
       "      <td>[subject, text, of, white, house, announcement...</td>\n",
       "    </tr>\n",
       "    <tr>\n",
       "      <th>3</th>\n",
       "      <td>3.0</td>\n",
       "      <td>0.4873</td>\n",
       "      <td>car, high, cost, power, low, buy, price, rate,...</td>\n",
       "      <td>[subject, re, what, do, nuclear, site, cooling...</td>\n",
       "    </tr>\n",
       "    <tr>\n",
       "      <th>4</th>\n",
       "      <td>4.0</td>\n",
       "      <td>0.5191</td>\n",
       "      <td>program, file, image, entry, choose, applicati...</td>\n",
       "      <td>[subject, nhl, summary, parse, results, for, g...</td>\n",
       "    </tr>\n",
       "    <tr>\n",
       "      <th>5</th>\n",
       "      <td>5.0</td>\n",
       "      <td>0.6154</td>\n",
       "      <td>team, game, play, player, year, internet, seas...</td>\n",
       "      <td>[subject, roman, from, salmon, usd, edu, cliff...</td>\n",
       "    </tr>\n",
       "    <tr>\n",
       "      <th>6</th>\n",
       "      <td>6.0</td>\n",
       "      <td>0.6665</td>\n",
       "      <td>evidence, reason, believe, say, claim, people,...</td>\n",
       "      <td>[zaphod, mps, ohio, state, edu, usc, elroy, jp...</td>\n",
       "    </tr>\n",
       "    <tr>\n",
       "      <th>7</th>\n",
       "      <td>7.0</td>\n",
       "      <td>0.3160</td>\n",
       "      <td>keyboard, turkish, armenian, circuit, registra...</td>\n",
       "      <td>[from, zuma, uucp, serdar, argic, subject, arm...</td>\n",
       "    </tr>\n",
       "    <tr>\n",
       "      <th>8</th>\n",
       "      <td>8.0</td>\n",
       "      <td>0.7097</td>\n",
       "      <td>line, use, system, host, com, thank, problem, ...</td>\n",
       "      <td>[subject, xv, under, ms, dos, from, no, mail, ...</td>\n",
       "    </tr>\n",
       "    <tr>\n",
       "      <th>9</th>\n",
       "      <td>9.0</td>\n",
       "      <td>0.9906</td>\n",
       "      <td>ax, max, score, mount, di_di, boy, translation...</td>\n",
       "      <td>[subject, roman, bmp, part, of, from, salmon, ...</td>\n",
       "    </tr>\n",
       "  </tbody>\n",
       "</table>\n",
       "</div>"
      ],
      "text/plain": [
       "   Dominant_Topic  Topic_Perc_Contrib  \\\n",
       "0             0.0              0.6588   \n",
       "1             1.0              0.7934   \n",
       "2             2.0              0.6591   \n",
       "3             3.0              0.4873   \n",
       "4             4.0              0.5191   \n",
       "5             5.0              0.6154   \n",
       "6             6.0              0.6665   \n",
       "7             7.0              0.3160   \n",
       "8             8.0              0.7097   \n",
       "9             9.0              0.9906   \n",
       "\n",
       "                                            Keywords  \\\n",
       "0  people, state, gun, government, kill, child, r...   \n",
       "1  write, would, article, know, make, go, think, ...   \n",
       "2  key, public, information, use, patient, system...   \n",
       "3  car, high, cost, power, low, buy, price, rate,...   \n",
       "4  program, file, image, entry, choose, applicati...   \n",
       "5  team, game, play, player, year, internet, seas...   \n",
       "6  evidence, reason, believe, say, claim, people,...   \n",
       "7  keyboard, turkish, armenian, circuit, registra...   \n",
       "8  line, use, system, host, com, thank, problem, ...   \n",
       "9  ax, max, score, mount, di_di, boy, translation...   \n",
       "\n",
       "                                                Text  \n",
       "0  [subject, re, was, go, hezbollah, from, eis, c...  \n",
       "1  [zaphod, mps, ohio, state, edu, wupost, uunet,...  \n",
       "2  [subject, text, of, white, house, announcement...  \n",
       "3  [subject, re, what, do, nuclear, site, cooling...  \n",
       "4  [subject, nhl, summary, parse, results, for, g...  \n",
       "5  [subject, roman, from, salmon, usd, edu, cliff...  \n",
       "6  [zaphod, mps, ohio, state, edu, usc, elroy, jp...  \n",
       "7  [from, zuma, uucp, serdar, argic, subject, arm...  \n",
       "8  [subject, xv, under, ms, dos, from, no, mail, ...  \n",
       "9  [subject, roman, bmp, part, of, from, salmon, ...  "
      ]
     },
     "execution_count": 559,
     "metadata": {},
     "output_type": "execute_result"
    }
   ],
   "source": [
    "#We use pandas groupby method for retrieving highest prob doc for each topic\n",
    "top_prob = df_dominant_topic.groupby('Dominant_Topic').agg('max')\n",
    "top_prob = top_prob.iloc[:,1:].reset_index() #Extract only relevant features\n",
    "top_prob"
   ]
  },
  {
   "cell_type": "markdown",
   "metadata": {},
   "source": [
    "The tabular shows dominant topics and their highest probability document and related keywords. The `Topic_Prec_Contrib` feature represent probability of topic belongs to a document."
   ]
  },
  {
   "cell_type": "code",
   "execution_count": 560,
   "metadata": {},
   "outputs": [
    {
     "data": {
      "text/html": [
       "<div>\n",
       "<style scoped>\n",
       "    .dataframe tbody tr th:only-of-type {\n",
       "        vertical-align: middle;\n",
       "    }\n",
       "\n",
       "    .dataframe tbody tr th {\n",
       "        vertical-align: top;\n",
       "    }\n",
       "\n",
       "    .dataframe thead th {\n",
       "        text-align: right;\n",
       "    }\n",
       "</style>\n",
       "<table border=\"1\" class=\"dataframe\">\n",
       "  <thead>\n",
       "    <tr style=\"text-align: right;\">\n",
       "      <th></th>\n",
       "      <th>Dominant_Topic</th>\n",
       "    </tr>\n",
       "  </thead>\n",
       "  <tbody>\n",
       "    <tr>\n",
       "      <th>1.0</th>\n",
       "      <td>7504</td>\n",
       "    </tr>\n",
       "    <tr>\n",
       "      <th>8.0</th>\n",
       "      <td>2921</td>\n",
       "    </tr>\n",
       "    <tr>\n",
       "      <th>6.0</th>\n",
       "      <td>315</td>\n",
       "    </tr>\n",
       "    <tr>\n",
       "      <th>0.0</th>\n",
       "      <td>281</td>\n",
       "    </tr>\n",
       "    <tr>\n",
       "      <th>2.0</th>\n",
       "      <td>121</td>\n",
       "    </tr>\n",
       "    <tr>\n",
       "      <th>3.0</th>\n",
       "      <td>98</td>\n",
       "    </tr>\n",
       "    <tr>\n",
       "      <th>5.0</th>\n",
       "      <td>34</td>\n",
       "    </tr>\n",
       "    <tr>\n",
       "      <th>4.0</th>\n",
       "      <td>27</td>\n",
       "    </tr>\n",
       "    <tr>\n",
       "      <th>9.0</th>\n",
       "      <td>11</td>\n",
       "    </tr>\n",
       "    <tr>\n",
       "      <th>7.0</th>\n",
       "      <td>2</td>\n",
       "    </tr>\n",
       "  </tbody>\n",
       "</table>\n",
       "</div>"
      ],
      "text/plain": [
       "     Dominant_Topic\n",
       "1.0            7504\n",
       "8.0            2921\n",
       "6.0             315\n",
       "0.0             281\n",
       "2.0             121\n",
       "3.0              98\n",
       "5.0              34\n",
       "4.0              27\n",
       "9.0              11\n",
       "7.0               2"
      ]
     },
     "execution_count": 560,
     "metadata": {},
     "output_type": "execute_result"
    }
   ],
   "source": [
    "#Distribution of diff topics\n",
    "pd.Series(df_dominant_topic.Dominant_Topic.value_counts()).to_frame()"
   ]
  },
  {
   "cell_type": "code",
   "execution_count": 561,
   "metadata": {},
   "outputs": [
    {
     "data": {
      "text/html": [
       "<div>\n",
       "<style scoped>\n",
       "    .dataframe tbody tr th:only-of-type {\n",
       "        vertical-align: middle;\n",
       "    }\n",
       "\n",
       "    .dataframe tbody tr th {\n",
       "        vertical-align: top;\n",
       "    }\n",
       "\n",
       "    .dataframe thead th {\n",
       "        text-align: right;\n",
       "    }\n",
       "</style>\n",
       "<table border=\"1\" class=\"dataframe\">\n",
       "  <thead>\n",
       "    <tr style=\"text-align: right;\">\n",
       "      <th></th>\n",
       "      <th>Dominant_Topic</th>\n",
       "      <th>Topic_Perc_Contrib</th>\n",
       "      <th>Keywords</th>\n",
       "      <th>Topic_Counts</th>\n",
       "      <th>Topic_Prec</th>\n",
       "    </tr>\n",
       "  </thead>\n",
       "  <tbody>\n",
       "    <tr>\n",
       "      <th>1</th>\n",
       "      <td>1.0</td>\n",
       "      <td>0.7934</td>\n",
       "      <td>write, would, article, know, make, go, think, ...</td>\n",
       "      <td>7504</td>\n",
       "      <td>0.6632</td>\n",
       "    </tr>\n",
       "    <tr>\n",
       "      <th>8</th>\n",
       "      <td>8.0</td>\n",
       "      <td>0.7097</td>\n",
       "      <td>line, use, system, host, com, thank, problem, ...</td>\n",
       "      <td>2921</td>\n",
       "      <td>0.2582</td>\n",
       "    </tr>\n",
       "    <tr>\n",
       "      <th>6</th>\n",
       "      <td>6.0</td>\n",
       "      <td>0.6665</td>\n",
       "      <td>evidence, reason, believe, say, claim, people,...</td>\n",
       "      <td>315</td>\n",
       "      <td>0.0278</td>\n",
       "    </tr>\n",
       "    <tr>\n",
       "      <th>0</th>\n",
       "      <td>0.0</td>\n",
       "      <td>0.6588</td>\n",
       "      <td>people, state, gun, government, kill, child, r...</td>\n",
       "      <td>281</td>\n",
       "      <td>0.0248</td>\n",
       "    </tr>\n",
       "    <tr>\n",
       "      <th>2</th>\n",
       "      <td>2.0</td>\n",
       "      <td>0.6591</td>\n",
       "      <td>key, public, information, use, patient, system...</td>\n",
       "      <td>121</td>\n",
       "      <td>0.0107</td>\n",
       "    </tr>\n",
       "    <tr>\n",
       "      <th>3</th>\n",
       "      <td>3.0</td>\n",
       "      <td>0.4873</td>\n",
       "      <td>car, high, cost, power, low, buy, price, rate,...</td>\n",
       "      <td>98</td>\n",
       "      <td>0.0087</td>\n",
       "    </tr>\n",
       "    <tr>\n",
       "      <th>5</th>\n",
       "      <td>5.0</td>\n",
       "      <td>0.6154</td>\n",
       "      <td>team, game, play, player, year, internet, seas...</td>\n",
       "      <td>34</td>\n",
       "      <td>0.0030</td>\n",
       "    </tr>\n",
       "    <tr>\n",
       "      <th>4</th>\n",
       "      <td>4.0</td>\n",
       "      <td>0.5191</td>\n",
       "      <td>program, file, image, entry, choose, applicati...</td>\n",
       "      <td>27</td>\n",
       "      <td>0.0024</td>\n",
       "    </tr>\n",
       "    <tr>\n",
       "      <th>9</th>\n",
       "      <td>9.0</td>\n",
       "      <td>0.9906</td>\n",
       "      <td>ax, max, score, mount, di_di, boy, translation...</td>\n",
       "      <td>11</td>\n",
       "      <td>0.0010</td>\n",
       "    </tr>\n",
       "    <tr>\n",
       "      <th>7</th>\n",
       "      <td>7.0</td>\n",
       "      <td>0.3160</td>\n",
       "      <td>keyboard, turkish, armenian, circuit, registra...</td>\n",
       "      <td>2</td>\n",
       "      <td>0.0002</td>\n",
       "    </tr>\n",
       "  </tbody>\n",
       "</table>\n",
       "</div>"
      ],
      "text/plain": [
       "   Dominant_Topic  Topic_Perc_Contrib  \\\n",
       "1             1.0              0.7934   \n",
       "8             8.0              0.7097   \n",
       "6             6.0              0.6665   \n",
       "0             0.0              0.6588   \n",
       "2             2.0              0.6591   \n",
       "3             3.0              0.4873   \n",
       "5             5.0              0.6154   \n",
       "4             4.0              0.5191   \n",
       "9             9.0              0.9906   \n",
       "7             7.0              0.3160   \n",
       "\n",
       "                                            Keywords  Topic_Counts  Topic_Prec  \n",
       "1  write, would, article, know, make, go, think, ...          7504      0.6632  \n",
       "8  line, use, system, host, com, thank, problem, ...          2921      0.2582  \n",
       "6  evidence, reason, believe, say, claim, people,...           315      0.0278  \n",
       "0  people, state, gun, government, kill, child, r...           281      0.0248  \n",
       "2  key, public, information, use, patient, system...           121      0.0107  \n",
       "3  car, high, cost, power, low, buy, price, rate,...            98      0.0087  \n",
       "5  team, game, play, player, year, internet, seas...            34      0.0030  \n",
       "4  program, file, image, entry, choose, applicati...            27      0.0024  \n",
       "9  ax, max, score, mount, di_di, boy, translation...            11      0.0010  \n",
       "7  keyboard, turkish, armenian, circuit, registra...             2      0.0002  "
      ]
     },
     "execution_count": 561,
     "metadata": {},
     "output_type": "execute_result"
    }
   ],
   "source": [
    "#Explore more features\n",
    "#Counting doc for each document\n",
    "Doc_counts = df_dominant_topic.Dominant_Topic.value_counts().reset_index()\n",
    "\n",
    "#Percentage of each topic present in the dataset\n",
    "Top_perc = df_dominant_topic.Dominant_Topic.value_counts(normalize=True).round(4).reset_index()\n",
    "\n",
    "#Concat features\n",
    "merged_df = pd.merge(Doc_counts,Top_perc,on='index')\n",
    "\n",
    "merged_df.rename(columns={'Dominant_Topic_x':'Topic_Counts','Dominant_Topic_y':'Topic_Prec','index':'Dominant_Topic'},inplace=True)\n",
    "\n",
    "#Merging required to get desired \n",
    "final_df = pd.merge(top_prob,merged_df,on='Dominant_Topic').drop('Text',axis=1)\n",
    "\n",
    "final_df.sort_values('Topic_Counts',ascending=False)"
   ]
  },
  {
   "cell_type": "markdown",
   "metadata": {},
   "source": [
    "### Conclusion\n",
    "\n",
    "we started with understanding what LDA do and Preprocessed text then feed it into model then it created Topics for us. Eventually we extract insights for each topics such as highest prob doc,keywords,distribution of topics.\n",
    "\n"
   ]
  },
  {
   "cell_type": "markdown",
   "metadata": {},
   "source": [
    "## How to make prediction for unseen data\n",
    "\n",
    "It's a simple process. Before we make predictions, we should pre-process data such as removing noises,lemmatize and tranform it into BOW model just like we did before develop LDA model. Then we can make predictions out of it."
   ]
  },
  {
   "cell_type": "code",
   "execution_count": 562,
   "metadata": {},
   "outputs": [
    {
     "name": "stderr",
     "output_type": "stream",
     "text": [
      "<>:5: DeprecationWarning: invalid escape sequence \\S\n",
      "<>:5: DeprecationWarning: invalid escape sequence \\S\n",
      "<>:5: DeprecationWarning: invalid escape sequence \\S\n",
      "<ipython-input-562-9abf057567e4>:5: DeprecationWarning: invalid escape sequence \\S\n",
      "  data = re.sub('\\S*@S*\\s?',' ',text)\n"
     ]
    }
   ],
   "source": [
    "#Proprecessing steps\n",
    "def text_preprocess(text):\n",
    "\n",
    "    #removing emails\n",
    "    data = re.sub('\\S*@S*\\s?',' ',text)\n",
    "\n",
    "    # removing new line characters\n",
    "    #data = [re.sub('\\s+',' ',data) ]\n",
    "\n",
    "    #removing single Quotes\n",
    "    #data = [re.sub(\"\\'\",' ',data) ]\n",
    "    \n",
    "       \n",
    "    data = [token.lemma_ for token in nlp(str(data)) ]\n",
    "    #data = simple_preprocess(data,deacc=True) \n",
    "    \n",
    "    data = [word for word in data if not word in stop_words]\n",
    "    data = [word for word in data if word not in '-PRON-']\n",
    " \n",
    "    return data"
   ]
  },
  {
   "cell_type": "code",
   "execution_count": 570,
   "metadata": {},
   "outputs": [
    {
     "data": {
      "text/plain": [
       "['buy',\n",
       " 'car',\n",
       " 'engine',\n",
       " 'really',\n",
       " 'bad',\n",
       " '.',\n",
       " 'horse',\n",
       " 'power',\n",
       " '.',\n",
       " 'email',\n",
       " 'detail',\n",
       " ' ',\n",
       " 'gmail.com',\n",
       " '.car']"
      ]
     },
     "execution_count": 570,
     "metadata": {},
     "output_type": "execute_result"
    }
   ],
   "source": [
    "proc_text = text_preprocess('I just bought a car and its engine is really bad. horse power. i will email you the details to ragulshan@gmail.com .car ')\n",
    "proc_text"
   ]
  },
  {
   "cell_type": "code",
   "execution_count": 571,
   "metadata": {},
   "outputs": [
    {
     "data": {
      "text/plain": [
       "'Given text/article belongs to Topic_No: 1 and it has proability of 38.67 '"
      ]
     },
     "execution_count": 571,
     "metadata": {},
     "output_type": "execute_result"
    }
   ],
   "source": [
    "def get_topics(text):\n",
    "    corpus = id2word.doc2bow(text)\n",
    "    topics = lda_model.get_document_topics(corpus)\n",
    "    topic = list()\n",
    "    probab = list()\n",
    "    \n",
    "    for i in topics: #Loop through each topic and their proabability\n",
    "        \n",
    "        topic.append(i[0]) #Taking topic\n",
    "        probab.append(i[1])#Taking probability\n",
    "    df= pd.DataFrame(probab,index=topic) #It replaces the default index with topic number\n",
    "    topic =  df.idxmax()[0]\n",
    "    prob = round(df.max()*100,2)[0]\n",
    "    return f\"Given text/article belongs to Topic_No: {topic} and it has proability of {prob} \"\n",
    "\n",
    "#see the magic\n",
    "get_topics(proc_text)"
   ]
  },
  {
   "cell_type": "code",
   "execution_count": 593,
   "metadata": {},
   "outputs": [],
   "source": [
    "#Plotting importanat words for a topic using wordcloud\n",
    "def plot_topic(topic_no=1):\n",
    "    cloud = WordCloud(stopwords=stop_words,\n",
    "                  background_color='white',\n",
    "                  width=2500,\n",
    "                  height=1800,\n",
    "                  max_words=10,\n",
    "                  colormap='tab10',\n",
    "                  prefer_horizontal=1.0)\n",
    "\n",
    "    wordcloud = cloud.generate_from_frequencies(dict(lda_model.show_topic(topic_no)))\n",
    "    plt.imshow(wordcloud, interpolation=\"bilinear\")\n",
    "    plt.axis(\"off\")\n",
    "    plt.title('Topic '+str(topic_no))"
   ]
  },
  {
   "cell_type": "code",
   "execution_count": 594,
   "metadata": {},
   "outputs": [
    {
     "data": {
      "image/png": "[encoded data removed]",
      "text/plain": [
       "<Figure size 432x288 with 1 Axes>"
      ]
     },
     "metadata": {
      "needs_background": "light"
     },
     "output_type": "display_data"
    }
   ],
   "source": [
    "#Lets plot wordcloud for a topic\n",
    "plot_topic(5)"
   ]
  },
  {
   "cell_type": "markdown",
   "metadata": {},
   "source": [
    "**NOTE:** Our model did a really worst job at predicting topics.We expected 20 topics instead we got less then 15 topics. I got really disappointed, i could improve the performance of that model by adjusting diff parameters of LDA_model.AS per experts, Coherence score can be used for evaluation topic models."
   ]
  }
 ],
 "metadata": {
  "kernelspec": {
   "display_name": "Python 3",
   "language": "python",
   "name": "python3"
  },
  "language_info": {
   "codemirror_mode": {
    "name": "ipython",
    "version": 3
   },
   "file_extension": ".py",
   "mimetype": "text/x-python",
   "name": "python",
   "nbconvert_exporter": "python",
   "pygments_lexer": "ipython3",
   "version": "3.7.4"
  }
 },
 "nbformat": 4,
 "nbformat_minor": 2
}
